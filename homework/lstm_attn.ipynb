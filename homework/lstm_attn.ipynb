{
 "cells": [
  {
   "cell_type": "code",
   "execution_count": 26,
   "metadata": {},
   "outputs": [],
   "source": [
    "from keras.models import Model\n",
    "from keras.layers import Conv2D, Embedding, MaxPooling2D, Input, Dense, Dot\n",
    "from keras.layers import Flatten, Reshape, Activation ,Concatenate, Reshape, Dropout\n",
    "from keras.layers.normalization import BatchNormalization\n",
    "from keras import backend as K\n",
    "from keras.layers.wrappers import TimeDistributed, Bidirectional\n",
    "\n",
    "from keras import optimizers\n",
    "import tensorflow as tf\n",
    "from keras.layers.recurrent import LSTM\n",
    "\n",
    "import numpy as np"
   ]
  },
  {
   "cell_type": "code",
   "execution_count": 27,
   "metadata": {},
   "outputs": [],
   "source": [
    "# input = (?, length, frequency) <- librosa mel-spectrum"
   ]
  },
  {
   "cell_type": "code",
   "execution_count": 52,
   "metadata": {},
   "outputs": [],
   "source": [
    "class LSTM_attention():\n",
    "    def __init__(self, num_freq = 128, len_div = 256, num_hidden=100):\n",
    "        self.num_freq = num_freq\n",
    "        self.len_div = len_div\n",
    "        self.num_hidden = num_hidden\n",
    "        \n",
    "    def LSTM(self):\n",
    "\n",
    "        self.inputs = Input(shape=(self.len_div, self.num_freq), name='input')\n",
    "\n",
    "        self.lstm_for = LSTM(self.num_hidden, return_sequences=True, go_backwards=False, name='LSTM_for')(self.inputs)\n",
    "        self.lstm_inv = LSTM(self.num_hidden, return_sequences=True, go_backwards=True, name='LSTM_inv')(self.inputs)\n",
    "        self.conc = Concatenate(axis=2, name='concat')([self.lstm_for, self.lstm_inv])\n",
    "        self.dens = Dense(self.num_freq, name='dense_for_inv')(self.conc)\n",
    "        self.dot = Dot(axes=-1, name='dot')([self.inputs, self.dens])\n",
    "#         self.argmax = K.argmax(self.dot, axis=-1)\n",
    "        \n",
    "        self.drop = Dropout(rate=0.05, name='drop')(self.dot)\n",
    "        self.dens1 = Dense(80, name='dense')(self.drop)\n",
    "        self.pred = Activation('softmax',name='pred')(self.dens1)\n",
    "\n",
    "        adam = optimizers.Adam(lr=0.0001)\n",
    "        model = Model(inputs=self.inputs, outputs=self.pred)\n",
    "        model.compile(optimizer=adam, loss='categorical_crossentropy', metrics=['accuracy'])\n",
    "        return model\n",
    "    \n",
    "#     def Embed_LSTM(self):\n",
    "#         adam = optimizers.Adam(lr=0.0001)\n",
    "#         model = Model(inputs=self.inputs, outputs=self.lstm)\n",
    "#         model.compile(optimizer=adam, loss='categorical_crossentropy', metrics=[tf_lwlrap])\n",
    "#         return model"
   ]
  },
  {
   "cell_type": "code",
   "execution_count": 53,
   "metadata": {},
   "outputs": [],
   "source": [
    "lstm_attn = LSTM_attention()\n",
    "model = lstm_attn.LSTM()\n",
    "# model2 = lstm_attn.Embed_LSTM()"
   ]
  },
  {
   "cell_type": "code",
   "execution_count": 54,
   "metadata": {},
   "outputs": [
    {
     "name": "stdout",
     "output_type": "stream",
     "text": [
      "__________________________________________________________________________________________________\n",
      "Layer (type)                    Output Shape         Param #     Connected to                     \n",
      "==================================================================================================\n",
      "input (InputLayer)              (None, 256, 128)     0                                            \n",
      "__________________________________________________________________________________________________\n",
      "LSTM_for (LSTM)                 (None, 256, 100)     91600       input[0][0]                      \n",
      "__________________________________________________________________________________________________\n",
      "LSTM_inv (LSTM)                 (None, 256, 100)     91600       input[0][0]                      \n",
      "__________________________________________________________________________________________________\n",
      "concat (Concatenate)            (None, 256, 200)     0           LSTM_for[0][0]                   \n",
      "                                                                 LSTM_inv[0][0]                   \n",
      "__________________________________________________________________________________________________\n",
      "dense_for_inv (Dense)           (None, 256, 128)     25728       concat[0][0]                     \n",
      "__________________________________________________________________________________________________\n",
      "dot (Dot)                       (None, 256, 256)     0           input[0][0]                      \n",
      "                                                                 dense_for_inv[0][0]              \n",
      "__________________________________________________________________________________________________\n",
      "drop (Dropout)                  (None, 256, 256)     0           dot[0][0]                        \n",
      "__________________________________________________________________________________________________\n",
      "dense (Dense)                   (None, 256, 80)      20560       drop[0][0]                       \n",
      "__________________________________________________________________________________________________\n",
      "pred (Activation)               (None, 256, 80)      0           dense[0][0]                      \n",
      "==================================================================================================\n",
      "Total params: 229,488\n",
      "Trainable params: 229,488\n",
      "Non-trainable params: 0\n",
      "__________________________________________________________________________________________________\n"
     ]
    }
   ],
   "source": [
    "model.summary()"
   ]
  },
  {
   "cell_type": "code",
   "execution_count": null,
   "metadata": {},
   "outputs": [],
   "source": []
  }
 ],
 "metadata": {
  "kernelspec": {
   "display_name": "Python 3",
   "language": "python",
   "name": "python3"
  },
  "language_info": {
   "codemirror_mode": {
    "name": "ipython",
    "version": 3
   },
   "file_extension": ".py",
   "mimetype": "text/x-python",
   "name": "python",
   "nbconvert_exporter": "python",
   "pygments_lexer": "ipython3",
   "version": "3.6.8"
  }
 },
 "nbformat": 4,
 "nbformat_minor": 2
}
