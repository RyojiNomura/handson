{
 "cells": [
  {
   "cell_type": "code",
   "execution_count": 3,
   "metadata": {},
   "outputs": [
    {
     "name": "stderr",
     "output_type": "stream",
     "text": [
      "/anaconda3/lib/python3.6/site-packages/h5py/__init__.py:36: FutureWarning: Conversion of the second argument of issubdtype from `float` to `np.floating` is deprecated. In future, it will be treated as `np.float64 == np.dtype(float).type`.\n",
      "  from ._conv import register_converters as _register_converters\n",
      "Using TensorFlow backend.\n"
     ]
    }
   ],
   "source": [
    "from keras.models import Model\n",
    "from keras.layers import Conv2D, Embedding, MaxPooling2D, Input, Dense, Dot\n",
    "from keras.layers import Flatten, Reshape, Activation ,Concatenate, Reshape, Dropout\n",
    "from keras.layers.normalization import BatchNormalization\n",
    "from keras import backend as K\n",
    "from keras.layers.wrappers import TimeDistributed, Bidirectional\n",
    "\n",
    "from keras import optimizers\n",
    "import tensorflow as tf\n",
    "from keras.layers.recurrent import LSTM\n",
    "\n",
    "import numpy as np"
   ]
  },
  {
   "cell_type": "code",
   "execution_count": 4,
   "metadata": {},
   "outputs": [],
   "source": [
    "# input = (?, length, frequency) <- librosa mel-spectrum"
   ]
  },
  {
   "cell_type": "code",
   "execution_count": 84,
   "metadata": {},
   "outputs": [],
   "source": [
    "class LSTM_attention():\n",
    "    def __init__(self, num_hidden=100):\n",
    "        self.num_hidden = num_hidden\n",
    "        \n",
    "    def LSTM(self, len_div, num_freq):\n",
    "        self.LSTM_FOR = LSTM(self.num_hidden, return_sequences=False, go_backwards=False, name='LSTM_for_shared') \n",
    "        self.LSTM_INV = LSTM(self.num_hidden, return_sequences=False, go_backwards=True, name='LSTM_inv_shared')\n",
    "        \n",
    "        inputs = Input(shape=(len_div, num_freq), name='input')\n",
    "\n",
    "        lstm_for = self.LSTM_FOR(inputs)\n",
    "        lstm_inv =self.LSTM_INV(inputs)\n",
    "        \n",
    "        conc = Concatenate(axis=-1, name='concat')([lstm_for, lstm_inv])\n",
    "\n",
    "        drop = Dropout(rate=0.05, name='drop')(conc)\n",
    "        dens = Dense(80, name='dense')(drop)\n",
    "        pred = Activation('softmax',name='pred')(dens)\n",
    "\n",
    "        model = Model(inputs=inputs, outputs=pred)\n",
    "        return model\n",
    "\n",
    "    def LSTM2(self, len_div, num_freq):\n",
    "        LSTM_FOR = self.LSTM_FOR\n",
    "        LSTM_INV = self.LSTM_INV\n",
    "        \n",
    "        LSTM_FOR.return_sequences = True\n",
    "        LSTM_INV.return_sequences = True\n",
    "        \n",
    "        inputs = Input(shape=(len_div, num_freq), name='input')\n",
    "\n",
    "        lstm_for = LSTM_FOR(inputs)\n",
    "        lstm_inv = LSTM_INV(inputs)\n",
    "        \n",
    "        conc = Concatenate(axis=-1, name='concat')([lstm_for, lstm_inv])\n",
    "\n",
    "        drop = Dropout(rate=0.05, name='drop')(conc)\n",
    "        dens = Dense(80, name='dense')(drop)\n",
    "        pred = Activation('softmax',name='pred')(dens)\n",
    "\n",
    "        model = Model(inputs=inputs, outputs=pred)\n",
    "        return model"
   ]
  },
  {
   "cell_type": "code",
   "execution_count": 85,
   "metadata": {},
   "outputs": [],
   "source": [
    "lstm_attn = LSTM_attention()\n",
    "model = lstm_attn.LSTM(len_div=None, num_freq=128)\n",
    "model2 = lstm_attn.LSTM2(len_div=512, num_freq=128)"
   ]
  },
  {
   "cell_type": "code",
   "execution_count": 86,
   "metadata": {},
   "outputs": [
    {
     "name": "stdout",
     "output_type": "stream",
     "text": [
      "__________________________________________________________________________________________________\n",
      "Layer (type)                    Output Shape         Param #     Connected to                     \n",
      "==================================================================================================\n",
      "input (InputLayer)              (None, None, 128)    0                                            \n",
      "__________________________________________________________________________________________________\n",
      "LSTM_for_shared (LSTM)          multiple             91600       input[0][0]                      \n",
      "__________________________________________________________________________________________________\n",
      "LSTM_inv_shared (LSTM)          multiple             91600       input[0][0]                      \n",
      "__________________________________________________________________________________________________\n",
      "concat (Concatenate)            (None, 200)          0           LSTM_for_shared[0][0]            \n",
      "                                                                 LSTM_inv_shared[0][0]            \n",
      "__________________________________________________________________________________________________\n",
      "drop (Dropout)                  (None, 200)          0           concat[0][0]                     \n",
      "__________________________________________________________________________________________________\n",
      "dense (Dense)                   (None, 80)           16080       drop[0][0]                       \n",
      "__________________________________________________________________________________________________\n",
      "pred (Activation)               (None, 80)           0           dense[0][0]                      \n",
      "==================================================================================================\n",
      "Total params: 199,280\n",
      "Trainable params: 199,280\n",
      "Non-trainable params: 0\n",
      "__________________________________________________________________________________________________\n"
     ]
    }
   ],
   "source": [
    "model.summary()"
   ]
  },
  {
   "cell_type": "code",
   "execution_count": 87,
   "metadata": {},
   "outputs": [
    {
     "name": "stdout",
     "output_type": "stream",
     "text": [
      "__________________________________________________________________________________________________\n",
      "Layer (type)                    Output Shape         Param #     Connected to                     \n",
      "==================================================================================================\n",
      "input (InputLayer)              (None, 512, 128)     0                                            \n",
      "__________________________________________________________________________________________________\n",
      "LSTM_for_shared (LSTM)          multiple             91600       input[0][0]                      \n",
      "__________________________________________________________________________________________________\n",
      "LSTM_inv_shared (LSTM)          multiple             91600       input[0][0]                      \n",
      "__________________________________________________________________________________________________\n",
      "concat (Concatenate)            (None, 512, 200)     0           LSTM_for_shared[1][0]            \n",
      "                                                                 LSTM_inv_shared[1][0]            \n",
      "__________________________________________________________________________________________________\n",
      "drop (Dropout)                  (None, 512, 200)     0           concat[0][0]                     \n",
      "__________________________________________________________________________________________________\n",
      "dense (Dense)                   (None, 512, 80)      16080       drop[0][0]                       \n",
      "__________________________________________________________________________________________________\n",
      "pred (Activation)               (None, 512, 80)      0           dense[0][0]                      \n",
      "==================================================================================================\n",
      "Total params: 199,280\n",
      "Trainable params: 199,280\n",
      "Non-trainable params: 0\n",
      "__________________________________________________________________________________________________\n"
     ]
    }
   ],
   "source": [
    "model2.summary()"
   ]
  },
  {
   "cell_type": "code",
   "execution_count": null,
   "metadata": {},
   "outputs": [],
   "source": []
  }
 ],
 "metadata": {
  "kernelspec": {
   "display_name": "Python 3",
   "language": "python",
   "name": "python3"
  },
  "language_info": {
   "codemirror_mode": {
    "name": "ipython",
    "version": 3
   },
   "file_extension": ".py",
   "mimetype": "text/x-python",
   "name": "python",
   "nbconvert_exporter": "python",
   "pygments_lexer": "ipython3",
   "version": "3.6.8"
  }
 },
 "nbformat": 4,
 "nbformat_minor": 2
}
