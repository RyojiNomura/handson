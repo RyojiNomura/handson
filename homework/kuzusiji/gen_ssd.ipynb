{
 "cells": [
  {
   "cell_type": "code",
   "execution_count": 1,
   "metadata": {},
   "outputs": [],
   "source": [
    "import pandas as pd\n",
    "import numpy as np\n",
    "import os\n",
    "import time\n",
    "import cv2\n",
    "import matplotlib.pyplot as plt\n",
    "import pickle\n",
    "from tqdm import tqdm\n",
    "import random\n",
    "from sklearn.preprocessing import  OneHotEncoder"
   ]
  },
  {
   "cell_type": "code",
   "execution_count": 2,
   "metadata": {},
   "outputs": [
    {
     "name": "stderr",
     "output_type": "stream",
     "text": [
      "/anaconda3/lib/python3.6/site-packages/h5py/__init__.py:36: FutureWarning: Conversion of the second argument of issubdtype from `float` to `np.floating` is deprecated. In future, it will be treated as `np.float64 == np.dtype(float).type`.\n",
      "  from ._conv import register_converters as _register_converters\n",
      "Using TensorFlow backend.\n"
     ]
    }
   ],
   "source": [
    "from keras.models import Model\n",
    "from keras.layers import Conv2D, MaxPooling2D, Input, Dense\n",
    "from keras.layers import Flatten, Activation, Concatenate\n",
    "from keras.losses import categorical_crossentropy\n",
    "from keras.optimizers import adam\n",
    "import keras.backend as K"
   ]
  },
  {
   "cell_type": "code",
   "execution_count": 3,
   "metadata": {},
   "outputs": [
    {
     "name": "stdout",
     "output_type": "stream",
     "text": [
      "['prior_boxes_ssd300.pkl', '.DS_Store', 'chars', 'unicode_translation.csv', 'models', 'image', 'train.csv', 'gt_pascal.pkl', 'train_images', 'sample_submission.csv']\n"
     ]
    }
   ],
   "source": [
    "FOLDER = '../../../data_handson/kuzushiji/'\n",
    "IMAGES = FOLDER + 'train_images/'\n",
    "CHARS = FOLDER + 'chars/'\n",
    "MODELS = FOLDER + 'models/'\n",
    "print(os.listdir(FOLDER))"
   ]
  },
  {
   "cell_type": "code",
   "execution_count": 4,
   "metadata": {},
   "outputs": [],
   "source": [
    "from ssd_utils.ssd_cnn import SSD_CNN\n",
    "from ssd_utils.ssd_box import DefaultBox, BBoxUtility\n",
    "from ssd_utils.ssd_gen import Generator\n",
    "from ssd_utils.ssd_training import MultiboxLoss"
   ]
  },
  {
   "cell_type": "code",
   "execution_count": 5,
   "metadata": {},
   "outputs": [
    {
     "data": {
      "text/plain": [
       "OneHotEncoder(categorical_features=None, categories=None, drop=None,\n",
       "              dtype=<class 'numpy.float64'>, handle_unknown='error',\n",
       "              n_values=None, sparse=True)"
      ]
     },
     "execution_count": 5,
     "metadata": {},
     "output_type": "execute_result"
    }
   ],
   "source": [
    "df_train = pd.read_csv(FOLDER + 'train.csv')\n",
    "df_sub = pd.read_csv(FOLDER + 'sample_submission.csv')\n",
    "unicode_map = {codepoint: char for codepoint, char in pd.read_csv(FOLDER + 'unicode_translation.csv').values}\n",
    "\n",
    "ohe = OneHotEncoder()\n",
    "ohe.fit(pd.Series(list(unicode_map.keys())).unique().reshape(-1,1))"
   ]
  },
  {
   "cell_type": "code",
   "execution_count": 6,
   "metadata": {},
   "outputs": [],
   "source": [
    "df_sub_idx = df_sub.set_index(\"image_id\")\n",
    "df_train_idx = df_train.set_index(\"image_id\")\n",
    "idx_train = df_train['image_id']"
   ]
  },
  {
   "cell_type": "code",
   "execution_count": 7,
   "metadata": {},
   "outputs": [],
   "source": [
    "num_classes = len(unicode_map)"
   ]
  },
  {
   "cell_type": "code",
   "execution_count": 8,
   "metadata": {},
   "outputs": [
    {
     "data": {
      "text/plain": [
       "(1, 1200, 8)"
      ]
     },
     "execution_count": 8,
     "metadata": {},
     "output_type": "execute_result"
    }
   ],
   "source": [
    "MBL = MultiboxLoss(num_classes)\n",
    "DB = DefaultBox((1000,1000,1), 10, 100, [2,3], [0.1, 0.1, 0.2, 0.2]) \n",
    "DB.compute_output_shape(np.array([1,10,20]))\n",
    "# var = K.ones(shape=( 100, 100))\n",
    "# priors = K.eval(DB(var))"
   ]
  },
  {
   "cell_type": "code",
   "execution_count": 9,
   "metadata": {},
   "outputs": [],
   "source": [
    "priors = pickle.load(open(FOLDER + 'prior_boxes_ssd300.pkl', 'rb'))\n",
    "BBU = BBoxUtility(num_classes, priors)"
   ]
  },
  {
   "cell_type": "code",
   "execution_count": 10,
   "metadata": {},
   "outputs": [],
   "source": [
    "len_idx = len(idx_train)\n",
    "rand_idx = random.sample(list(idx_train), len_idx)\n",
    "train_keys = rand_idx[:int(len_idx*0.8)]\n",
    "val_keys = rand_idx[int(len_idx*0.8):]"
   ]
  },
  {
   "cell_type": "code",
   "execution_count": 11,
   "metadata": {},
   "outputs": [],
   "source": [
    "BBU = BBoxUtility(num_classes, priors)\n",
    "\n",
    "df_idx = df_train_idx \n",
    "bbox_util = BBU\n",
    "batch_size = 32\n",
    "path_prefix = IMAGES\n",
    "image_size = (300, 300, 1)\n",
    "\n",
    "gen =  Generator(df_idx = df_train_idx, \n",
    "                 bbox_util = BBU,\n",
    "                 batch_size = batch_size,\n",
    "                 path_prefix = IMAGES,\n",
    "                 ohe = ohe,\n",
    "                 train_keys = train_keys,\n",
    "                 val_keys = val_keys,\n",
    "                 image_size=image_size)"
   ]
  },
  {
   "cell_type": "code",
   "execution_count": 12,
   "metadata": {},
   "outputs": [],
   "source": [
    "ssd_obj = SSD_CNN(num_classes, cnn_size=(100, 100, 1), ssd_size=(300,300,1))\n",
    "cnn_model = ssd_obj.load(MODELS + 'model.hdf5')"
   ]
  },
  {
   "cell_type": "code",
   "execution_count": 13,
   "metadata": {},
   "outputs": [],
   "source": [
    "ssd_model = ssd_obj.build_ssd()"
   ]
  },
  {
   "cell_type": "code",
   "execution_count": 14,
   "metadata": {},
   "outputs": [],
   "source": [
    "ssd_model.compile(optimizer=adam(), loss=categorical_crossentropy)"
   ]
  },
  {
   "cell_type": "code",
   "execution_count": 15,
   "metadata": {
    "scrolled": true
   },
   "outputs": [
    {
     "name": "stderr",
     "output_type": "stream",
     "text": [
      "/anaconda3/lib/python3.6/site-packages/ipykernel_launcher.py:4: UserWarning: The semantics of the Keras 2 argument `steps_per_epoch` is not the same as the Keras 1 argument `samples_per_epoch`. `steps_per_epoch` is the number of batches to draw from the generator at each epoch. Basically steps_per_epoch = samples_per_epoch/batch_size. Similarly `nb_val_samples`->`validation_steps` and `val_samples`->`steps` arguments have changed. Update your method calls accordingly.\n",
      "  after removing the cwd from sys.path.\n",
      "/anaconda3/lib/python3.6/site-packages/ipykernel_launcher.py:4: UserWarning: Update your `fit_generator` call to the Keras 2 API: `fit_generator(<generator..., 3104, 1, verbose=1, validation_data=<generator..., validation_steps=777)`\n",
      "  after removing the cwd from sys.path.\n"
     ]
    },
    {
     "name": "stdout",
     "output_type": "stream",
     "text": [
      "Epoch 1/1\n"
     ]
    },
    {
     "ename": "ValueError",
     "evalue": "Error when checking target: expected predictions to have shape (11430, 4799) but got array with shape (7308, 4799)",
     "output_type": "error",
     "traceback": [
      "\u001b[0;31m---------------------------------------------------------------------------\u001b[0m",
      "\u001b[0;31mValueError\u001b[0m                                Traceback (most recent call last)",
      "\u001b[0;32m<ipython-input-15-4671c74935c6>\u001b[0m in \u001b[0;36m<module>\u001b[0;34m()\u001b[0m\n\u001b[1;32m      2\u001b[0m                               \u001b[0;36m1\u001b[0m\u001b[0;34m,\u001b[0m \u001b[0mverbose\u001b[0m\u001b[0;34m=\u001b[0m\u001b[0;36m1\u001b[0m\u001b[0;34m,\u001b[0m\u001b[0;34m\u001b[0m\u001b[0;34m\u001b[0m\u001b[0m\n\u001b[1;32m      3\u001b[0m                               \u001b[0mvalidation_data\u001b[0m\u001b[0;34m=\u001b[0m\u001b[0mgen\u001b[0m\u001b[0;34m.\u001b[0m\u001b[0mgenerate\u001b[0m\u001b[0;34m(\u001b[0m\u001b[0;32mFalse\u001b[0m\u001b[0;34m)\u001b[0m\u001b[0;34m,\u001b[0m\u001b[0;34m\u001b[0m\u001b[0;34m\u001b[0m\u001b[0m\n\u001b[0;32m----> 4\u001b[0;31m                               nb_val_samples=gen.val_batches)\n\u001b[0m",
      "\u001b[0;32m/anaconda3/lib/python3.6/site-packages/keras/legacy/interfaces.py\u001b[0m in \u001b[0;36mwrapper\u001b[0;34m(*args, **kwargs)\u001b[0m\n\u001b[1;32m     89\u001b[0m                 warnings.warn('Update your `' + object_name + '` call to the ' +\n\u001b[1;32m     90\u001b[0m                               'Keras 2 API: ' + signature, stacklevel=2)\n\u001b[0;32m---> 91\u001b[0;31m             \u001b[0;32mreturn\u001b[0m \u001b[0mfunc\u001b[0m\u001b[0;34m(\u001b[0m\u001b[0;34m*\u001b[0m\u001b[0margs\u001b[0m\u001b[0;34m,\u001b[0m \u001b[0;34m**\u001b[0m\u001b[0mkwargs\u001b[0m\u001b[0;34m)\u001b[0m\u001b[0;34m\u001b[0m\u001b[0;34m\u001b[0m\u001b[0m\n\u001b[0m\u001b[1;32m     92\u001b[0m         \u001b[0mwrapper\u001b[0m\u001b[0;34m.\u001b[0m\u001b[0m_original_function\u001b[0m \u001b[0;34m=\u001b[0m \u001b[0mfunc\u001b[0m\u001b[0;34m\u001b[0m\u001b[0;34m\u001b[0m\u001b[0m\n\u001b[1;32m     93\u001b[0m         \u001b[0;32mreturn\u001b[0m \u001b[0mwrapper\u001b[0m\u001b[0;34m\u001b[0m\u001b[0;34m\u001b[0m\u001b[0m\n",
      "\u001b[0;32m/anaconda3/lib/python3.6/site-packages/keras/engine/training.py\u001b[0m in \u001b[0;36mfit_generator\u001b[0;34m(self, generator, steps_per_epoch, epochs, verbose, callbacks, validation_data, validation_steps, class_weight, max_queue_size, workers, use_multiprocessing, shuffle, initial_epoch)\u001b[0m\n\u001b[1;32m   1416\u001b[0m             \u001b[0muse_multiprocessing\u001b[0m\u001b[0;34m=\u001b[0m\u001b[0muse_multiprocessing\u001b[0m\u001b[0;34m,\u001b[0m\u001b[0;34m\u001b[0m\u001b[0;34m\u001b[0m\u001b[0m\n\u001b[1;32m   1417\u001b[0m             \u001b[0mshuffle\u001b[0m\u001b[0;34m=\u001b[0m\u001b[0mshuffle\u001b[0m\u001b[0;34m,\u001b[0m\u001b[0;34m\u001b[0m\u001b[0;34m\u001b[0m\u001b[0m\n\u001b[0;32m-> 1418\u001b[0;31m             initial_epoch=initial_epoch)\n\u001b[0m\u001b[1;32m   1419\u001b[0m \u001b[0;34m\u001b[0m\u001b[0m\n\u001b[1;32m   1420\u001b[0m     \u001b[0;34m@\u001b[0m\u001b[0minterfaces\u001b[0m\u001b[0;34m.\u001b[0m\u001b[0mlegacy_generator_methods_support\u001b[0m\u001b[0;34m\u001b[0m\u001b[0;34m\u001b[0m\u001b[0m\n",
      "\u001b[0;32m/anaconda3/lib/python3.6/site-packages/keras/engine/training_generator.py\u001b[0m in \u001b[0;36mfit_generator\u001b[0;34m(model, generator, steps_per_epoch, epochs, verbose, callbacks, validation_data, validation_steps, class_weight, max_queue_size, workers, use_multiprocessing, shuffle, initial_epoch)\u001b[0m\n\u001b[1;32m    215\u001b[0m                 outs = model.train_on_batch(x, y,\n\u001b[1;32m    216\u001b[0m                                             \u001b[0msample_weight\u001b[0m\u001b[0;34m=\u001b[0m\u001b[0msample_weight\u001b[0m\u001b[0;34m,\u001b[0m\u001b[0;34m\u001b[0m\u001b[0;34m\u001b[0m\u001b[0m\n\u001b[0;32m--> 217\u001b[0;31m                                             class_weight=class_weight)\n\u001b[0m\u001b[1;32m    218\u001b[0m \u001b[0;34m\u001b[0m\u001b[0m\n\u001b[1;32m    219\u001b[0m                 \u001b[0mouts\u001b[0m \u001b[0;34m=\u001b[0m \u001b[0mto_list\u001b[0m\u001b[0;34m(\u001b[0m\u001b[0mouts\u001b[0m\u001b[0;34m)\u001b[0m\u001b[0;34m\u001b[0m\u001b[0;34m\u001b[0m\u001b[0m\n",
      "\u001b[0;32m/anaconda3/lib/python3.6/site-packages/keras/engine/training.py\u001b[0m in \u001b[0;36mtrain_on_batch\u001b[0;34m(self, x, y, sample_weight, class_weight)\u001b[0m\n\u001b[1;32m   1209\u001b[0m             \u001b[0mx\u001b[0m\u001b[0;34m,\u001b[0m \u001b[0my\u001b[0m\u001b[0;34m,\u001b[0m\u001b[0;34m\u001b[0m\u001b[0;34m\u001b[0m\u001b[0m\n\u001b[1;32m   1210\u001b[0m             \u001b[0msample_weight\u001b[0m\u001b[0;34m=\u001b[0m\u001b[0msample_weight\u001b[0m\u001b[0;34m,\u001b[0m\u001b[0;34m\u001b[0m\u001b[0;34m\u001b[0m\u001b[0m\n\u001b[0;32m-> 1211\u001b[0;31m             class_weight=class_weight)\n\u001b[0m\u001b[1;32m   1212\u001b[0m         \u001b[0;32mif\u001b[0m \u001b[0mself\u001b[0m\u001b[0;34m.\u001b[0m\u001b[0m_uses_dynamic_learning_phase\u001b[0m\u001b[0;34m(\u001b[0m\u001b[0;34m)\u001b[0m\u001b[0;34m:\u001b[0m\u001b[0;34m\u001b[0m\u001b[0;34m\u001b[0m\u001b[0m\n\u001b[1;32m   1213\u001b[0m             \u001b[0mins\u001b[0m \u001b[0;34m=\u001b[0m \u001b[0mx\u001b[0m \u001b[0;34m+\u001b[0m \u001b[0my\u001b[0m \u001b[0;34m+\u001b[0m \u001b[0msample_weights\u001b[0m \u001b[0;34m+\u001b[0m \u001b[0;34m[\u001b[0m\u001b[0;36m1.\u001b[0m\u001b[0;34m]\u001b[0m\u001b[0;34m\u001b[0m\u001b[0;34m\u001b[0m\u001b[0m\n",
      "\u001b[0;32m/anaconda3/lib/python3.6/site-packages/keras/engine/training.py\u001b[0m in \u001b[0;36m_standardize_user_data\u001b[0;34m(self, x, y, sample_weight, class_weight, check_array_lengths, batch_size)\u001b[0m\n\u001b[1;32m    787\u001b[0m                 \u001b[0mfeed_output_shapes\u001b[0m\u001b[0;34m,\u001b[0m\u001b[0;34m\u001b[0m\u001b[0;34m\u001b[0m\u001b[0m\n\u001b[1;32m    788\u001b[0m                 \u001b[0mcheck_batch_axis\u001b[0m\u001b[0;34m=\u001b[0m\u001b[0;32mFalse\u001b[0m\u001b[0;34m,\u001b[0m  \u001b[0;31m# Don't enforce the batch size.\u001b[0m\u001b[0;34m\u001b[0m\u001b[0;34m\u001b[0m\u001b[0m\n\u001b[0;32m--> 789\u001b[0;31m                 exception_prefix='target')\n\u001b[0m\u001b[1;32m    790\u001b[0m \u001b[0;34m\u001b[0m\u001b[0m\n\u001b[1;32m    791\u001b[0m             \u001b[0;31m# Generate sample-wise weight values given the `sample_weight` and\u001b[0m\u001b[0;34m\u001b[0m\u001b[0;34m\u001b[0m\u001b[0;34m\u001b[0m\u001b[0m\n",
      "\u001b[0;32m/anaconda3/lib/python3.6/site-packages/keras/engine/training_utils.py\u001b[0m in \u001b[0;36mstandardize_input_data\u001b[0;34m(data, names, shapes, check_batch_axis, exception_prefix)\u001b[0m\n\u001b[1;32m    136\u001b[0m                             \u001b[0;34m': expected '\u001b[0m \u001b[0;34m+\u001b[0m \u001b[0mnames\u001b[0m\u001b[0;34m[\u001b[0m\u001b[0mi\u001b[0m\u001b[0;34m]\u001b[0m \u001b[0;34m+\u001b[0m \u001b[0;34m' to have shape '\u001b[0m \u001b[0;34m+\u001b[0m\u001b[0;34m\u001b[0m\u001b[0;34m\u001b[0m\u001b[0m\n\u001b[1;32m    137\u001b[0m                             \u001b[0mstr\u001b[0m\u001b[0;34m(\u001b[0m\u001b[0mshape\u001b[0m\u001b[0;34m)\u001b[0m \u001b[0;34m+\u001b[0m \u001b[0;34m' but got array with shape '\u001b[0m \u001b[0;34m+\u001b[0m\u001b[0;34m\u001b[0m\u001b[0;34m\u001b[0m\u001b[0m\n\u001b[0;32m--> 138\u001b[0;31m                             str(data_shape))\n\u001b[0m\u001b[1;32m    139\u001b[0m     \u001b[0;32mreturn\u001b[0m \u001b[0mdata\u001b[0m\u001b[0;34m\u001b[0m\u001b[0;34m\u001b[0m\u001b[0m\n\u001b[1;32m    140\u001b[0m \u001b[0;34m\u001b[0m\u001b[0m\n",
      "\u001b[0;31mValueError\u001b[0m: Error when checking target: expected predictions to have shape (11430, 4799) but got array with shape (7308, 4799)"
     ]
    }
   ],
   "source": [
    "history = ssd_model.fit_generator(gen.generate(True),  gen.train_batches,\n",
    "                              1, verbose=1,\n",
    "                              validation_data=gen.generate(False),\n",
    "                              nb_val_samples=gen.val_batches)"
   ]
  },
  {
   "cell_type": "code",
   "execution_count": null,
   "metadata": {},
   "outputs": [],
   "source": [
    " df_train_idx.loc[idx_train[0]]['labels']"
   ]
  },
  {
   "cell_type": "code",
   "execution_count": 17,
   "metadata": {},
   "outputs": [
    {
     "data": {
      "text/plain": [
       "(7308, 8)"
      ]
     },
     "execution_count": 17,
     "metadata": {},
     "output_type": "execute_result"
    }
   ],
   "source": [
    "priors.shape"
   ]
  },
  {
   "cell_type": "code",
   "execution_count": 18,
   "metadata": {
    "scrolled": true
   },
   "outputs": [
    {
     "name": "stdout",
     "output_type": "stream",
     "text": [
      "__________________________________________________________________________________________________\n",
      "Layer (type)                    Output Shape         Param #     Connected to                     \n",
      "==================================================================================================\n",
      "ssd_input (InputLayer)          (None, 300, 300, 1)  0                                            \n",
      "__________________________________________________________________________________________________\n",
      "conv1_1 (Conv2D)                multiple             640         ssd_input[0][0]                  \n",
      "__________________________________________________________________________________________________\n",
      "conv1_2 (Conv2D)                multiple             36928       conv1_1[1][0]                    \n",
      "__________________________________________________________________________________________________\n",
      "pool1 (MaxPooling2D)            multiple             0           conv1_2[1][0]                    \n",
      "__________________________________________________________________________________________________\n",
      "conv2_1 (Conv2D)                multiple             36928       pool1[1][0]                      \n",
      "__________________________________________________________________________________________________\n",
      "conv2_2 (Conv2D)                multiple             36928       conv2_1[1][0]                    \n",
      "__________________________________________________________________________________________________\n",
      "pool2 (MaxPooling2D)            multiple             0           conv2_2[1][0]                    \n",
      "__________________________________________________________________________________________________\n",
      "conv3_1 (Conv2D)                multiple             36928       pool2[1][0]                      \n",
      "__________________________________________________________________________________________________\n",
      "conv3_2 (Conv2D)                multiple             36928       conv3_1[1][0]                    \n",
      "__________________________________________________________________________________________________\n",
      "pool3 (MaxPooling2D)            multiple             0           conv3_2[1][0]                    \n",
      "__________________________________________________________________________________________________\n",
      "conv4 (Conv2D)                  (None, 38, 38, 64)   36928       pool3[1][0]                      \n",
      "__________________________________________________________________________________________________\n",
      "pool4 (MaxPooling2D)            (None, 19, 19, 64)   0           conv4[0][0]                      \n",
      "__________________________________________________________________________________________________\n",
      "conv5 (Conv2D)                  (None, 19, 19, 64)   36928       pool4[0][0]                      \n",
      "__________________________________________________________________________________________________\n",
      "pool5 (MaxPooling2D)            (None, 10, 10, 64)   0           conv5[0][0]                      \n",
      "__________________________________________________________________________________________________\n",
      "pool3_1__mbox_conf (Conv2D)     (None, 38, 38, 28722 16572594    pool3[1][0]                      \n",
      "__________________________________________________________________________________________________\n",
      "pool4__mbox_conf (Conv2D)       (None, 19, 19, 28722 16572594    pool4[0][0]                      \n",
      "__________________________________________________________________________________________________\n",
      "pool5__mbox_conf (Conv2D)       (None, 10, 10, 28722 16572594    pool5[0][0]                      \n",
      "__________________________________________________________________________________________________\n",
      "pool3_1__mbox_loc (Conv2D)      (None, 38, 38, 24)   13848       pool3[1][0]                      \n",
      "__________________________________________________________________________________________________\n",
      "pool4__mbox_loc (Conv2D)        (None, 19, 19, 24)   13848       pool4[0][0]                      \n",
      "__________________________________________________________________________________________________\n",
      "pool5__mbox_loc (Conv2D)        (None, 10, 10, 24)   13848       pool5[0][0]                      \n",
      "__________________________________________________________________________________________________\n",
      "pool3_1__mbox_conf_flat (Flatte (None, 41474568)     0           pool3_1__mbox_conf[0][0]         \n",
      "__________________________________________________________________________________________________\n",
      "pool4__mbox_conf_flat (Flatten) (None, 10368642)     0           pool4__mbox_conf[0][0]           \n",
      "__________________________________________________________________________________________________\n",
      "pool5__mbox_conf_flat (Flatten) (None, 2872200)      0           pool5__mbox_conf[0][0]           \n",
      "__________________________________________________________________________________________________\n",
      "pool3_1__mbox_loc_flat (Flatten (None, 34656)        0           pool3_1__mbox_loc[0][0]          \n",
      "__________________________________________________________________________________________________\n",
      "pool4__mbox_loc_flat (Flatten)  (None, 8664)         0           pool4__mbox_loc[0][0]            \n",
      "__________________________________________________________________________________________________\n",
      "pool5__mbox_loc_flat (Flatten)  (None, 2400)         0           pool5__mbox_loc[0][0]            \n",
      "__________________________________________________________________________________________________\n",
      "mbox_conf (Concatenate)         (None, 54715410)     0           pool3_1__mbox_conf_flat[0][0]    \n",
      "                                                                 pool4__mbox_conf_flat[0][0]      \n",
      "                                                                 pool5__mbox_conf_flat[0][0]      \n",
      "__________________________________________________________________________________________________\n",
      "mbox_loc (Concatenate)          (None, 45720)        0           pool3_1__mbox_loc_flat[0][0]     \n",
      "                                                                 pool4__mbox_loc_flat[0][0]       \n",
      "                                                                 pool5__mbox_loc_flat[0][0]       \n",
      "__________________________________________________________________________________________________\n",
      "mbox_conf_logits (Reshape)      (None, 11430, 4787)  0           mbox_conf[0][0]                  \n",
      "__________________________________________________________________________________________________\n",
      "pool3_1__mbox_defbox (DefaultBo (None, 8664, 8)      0           pool3[1][0]                      \n",
      "__________________________________________________________________________________________________\n",
      "pool4__mbox_defbox (DefaultBox) (None, 2166, 8)      0           pool4[0][0]                      \n",
      "__________________________________________________________________________________________________\n",
      "pool5__mbox_defbox (DefaultBox) (None, 600, 8)       0           pool5[0][0]                      \n",
      "__________________________________________________________________________________________________\n",
      "mbox_loc_final (Reshape)        (None, 11430, 4)     0           mbox_loc[0][0]                   \n",
      "__________________________________________________________________________________________________\n",
      "mbox_conf_final (Activation)    (None, 11430, 4787)  0           mbox_conf_logits[0][0]           \n",
      "__________________________________________________________________________________________________\n",
      "mbox_defbox (Concatenate)       (None, 11430, 8)     0           pool3_1__mbox_defbox[0][0]       \n",
      "                                                                 pool4__mbox_defbox[0][0]         \n",
      "                                                                 pool5__mbox_defbox[0][0]         \n",
      "__________________________________________________________________________________________________\n",
      "predictions (Concatenate)       (None, 11430, 4799)  0           mbox_loc_final[0][0]             \n",
      "                                                                 mbox_conf_final[0][0]            \n",
      "                                                                 mbox_defbox[0][0]                \n",
      "==================================================================================================\n",
      "Total params: 50,018,462\n",
      "Trainable params: 50,018,462\n",
      "Non-trainable params: 0\n",
      "__________________________________________________________________________________________________\n"
     ]
    }
   ],
   "source": [
    "ssd_model.summary()"
   ]
  },
  {
   "cell_type": "code",
   "execution_count": 20,
   "metadata": {},
   "outputs": [
    {
     "data": {
      "text/plain": [
       "(1, 2166, 8)"
      ]
     },
     "execution_count": 20,
     "metadata": {},
     "output_type": "execute_result"
    }
   ],
   "source": [
    "var1 = K.ones(shape=(1, 19, 19))\n",
    "priors1 = K.eval(DB(var1))\n",
    "priors1.shape"
   ]
  },
  {
   "cell_type": "code",
   "execution_count": 21,
   "metadata": {},
   "outputs": [
    {
     "data": {
      "text/plain": [
       "(1, 8664, 8)"
      ]
     },
     "execution_count": 21,
     "metadata": {},
     "output_type": "execute_result"
    }
   ],
   "source": [
    "var1 = K.ones(shape=(1, 38, 38))\n",
    "priors1 = K.eval(DB(var1))\n",
    "priors1.shape"
   ]
  },
  {
   "cell_type": "code",
   "execution_count": 24,
   "metadata": {},
   "outputs": [
    {
     "data": {
      "text/plain": [
       "17928"
      ]
     },
     "execution_count": 24,
     "metadata": {},
     "output_type": "execute_result"
    }
   ],
   "source": [
    "11430 - 2166 + 8664"
   ]
  },
  {
   "cell_type": "code",
   "execution_count": 26,
   "metadata": {},
   "outputs": [
    {
     "data": {
      "text/plain": [
       "(1, 34656, 8)"
      ]
     },
     "execution_count": 26,
     "metadata": {},
     "output_type": "execute_result"
    }
   ],
   "source": [
    "var1 = K.ones(shape=(1, 76, 76))\n",
    "priors1 = K.eval(DB(var1))\n",
    "priors1.shape\n"
   ]
  },
  {
   "cell_type": "code",
   "execution_count": 28,
   "metadata": {},
   "outputs": [
    {
     "data": {
      "text/plain": [
       "17328.0"
      ]
     },
     "execution_count": 28,
     "metadata": {},
     "output_type": "execute_result"
    }
   ],
   "source": [
    "34656/2"
   ]
  },
  {
   "cell_type": "code",
   "execution_count": null,
   "metadata": {},
   "outputs": [],
   "source": []
  }
 ],
 "metadata": {
  "kernelspec": {
   "display_name": "Python 3",
   "language": "python",
   "name": "python3"
  },
  "language_info": {
   "codemirror_mode": {
    "name": "ipython",
    "version": 3
   },
   "file_extension": ".py",
   "mimetype": "text/x-python",
   "name": "python",
   "nbconvert_exporter": "python",
   "pygments_lexer": "ipython3",
   "version": "3.6.8"
  }
 },
 "nbformat": 4,
 "nbformat_minor": 2
}
