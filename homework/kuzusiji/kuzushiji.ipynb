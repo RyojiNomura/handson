{
 "cells": [
  {
   "cell_type": "code",
   "execution_count": 1,
   "metadata": {},
   "outputs": [],
   "source": [
    "import pandas as pd\n",
    "import numpy as np\n",
    "import os\n",
    "import time\n",
    "import cv2\n",
    "import matplotlib.pyplot as plt\n",
    "import pickle\n",
    "from tqdm import tqdm\n",
    "import random"
   ]
  },
  {
   "cell_type": "code",
   "execution_count": 2,
   "metadata": {},
   "outputs": [
    {
     "name": "stderr",
     "output_type": "stream",
     "text": [
      "/anaconda3/lib/python3.6/site-packages/h5py/__init__.py:36: FutureWarning: Conversion of the second argument of issubdtype from `float` to `np.floating` is deprecated. In future, it will be treated as `np.float64 == np.dtype(float).type`.\n",
      "  from ._conv import register_converters as _register_converters\n",
      "Using TensorFlow backend.\n"
     ]
    }
   ],
   "source": [
    "from keras.models import Model\n",
    "from keras.layers import Conv2D, MaxPooling2D, Input, Dense\n",
    "from keras.layers import Flatten, Reshape, Activation, Concatenate, Dropout"
   ]
  },
  {
   "cell_type": "code",
   "execution_count": 69,
   "metadata": {},
   "outputs": [
    {
     "name": "stdout",
     "output_type": "stream",
     "text": [
      "['.DS_Store', 'chars', 'unicode_translation.csv', 'image', 'train.csv', 'train_images', 'sample_submission.csv']\n"
     ]
    }
   ],
   "source": [
    "FOLDER = '../../../data_handson/kuzushiji/'\n",
    "IMAGES = FOLDER + 'train_images/'\n",
    "CHARS = FOLDER + 'chars/'\n",
    "print(os.listdir(FOLDER))"
   ]
  },
  {
   "cell_type": "code",
   "execution_count": 4,
   "metadata": {},
   "outputs": [],
   "source": [
    "# os.mkdir(CHARS`)\n",
    "# for code in unicodes:\n",
    "#     os.mkdir(CHARS + code + '/' )"
   ]
  },
  {
   "cell_type": "code",
   "execution_count": 5,
   "metadata": {},
   "outputs": [],
   "source": [
    "df_train = pd.read_csv(FOLDER + 'train.csv')\n",
    "df_sub = pd.read_csv(FOLDER + 'sample_submission.csv')\n",
    "unicode_map = {codepoint: char for codepoint, char in pd.read_csv(FOLDER + 'unicode_translation.csv').values}"
   ]
  },
  {
   "cell_type": "code",
   "execution_count": 7,
   "metadata": {},
   "outputs": [],
   "source": [
    "df_sub_idx = df_sub.set_index(\"image_id\")\n",
    "df_train_idx = df_train.set_index(\"image_id\")\n",
    "idx_train = df_train['image_id'][:500]"
   ]
  },
  {
   "cell_type": "code",
   "execution_count": 8,
   "metadata": {},
   "outputs": [],
   "source": [
    "def label_reader(label):\n",
    "    try:\n",
    "        code_arr = np.array(label['labels'].split(' ')).reshape(-1, 5)\n",
    "    except:\n",
    "        return\n",
    "    return code_arr"
   ]
  },
  {
   "cell_type": "code",
   "execution_count": 10,
   "metadata": {},
   "outputs": [
    {
     "name": "stdout",
     "output_type": "stream",
     "text": [
      "elapsed_time:0.2274928092956543[sec]\n"
     ]
    }
   ],
   "source": [
    "df_char_train = pd.DataFrame()\n",
    "start = time.time()\n",
    "for idx in idx_train[:100]:\n",
    "    code = df_train_idx.loc[idx]\n",
    "    try:\n",
    "        code_arr = np.array(code['labels'].split(' ')).reshape(-1, 5)\n",
    "    except:\n",
    "        continue\n",
    "    df_char = pd.DataFrame(code_arr, columns=['unicode', 'x', 'y', 'w', 'h'])\n",
    "    df_char['image_id'] = idx\n",
    "    df_char_train = pd.concat([df_char_train, df_char], axis=0)\n",
    "elapsed_time = time.time() - start\n",
    "print (\"elapsed_time:{0}\".format(elapsed_time) + \"[sec]\")"
   ]
  },
  {
   "cell_type": "code",
   "execution_count": 11,
   "metadata": {},
   "outputs": [
    {
     "data": {
      "text/html": [
       "<div>\n",
       "<style scoped>\n",
       "    .dataframe tbody tr th:only-of-type {\n",
       "        vertical-align: middle;\n",
       "    }\n",
       "\n",
       "    .dataframe tbody tr th {\n",
       "        vertical-align: top;\n",
       "    }\n",
       "\n",
       "    .dataframe thead th {\n",
       "        text-align: right;\n",
       "    }\n",
       "</style>\n",
       "<table border=\"1\" class=\"dataframe\">\n",
       "  <thead>\n",
       "    <tr style=\"text-align: right;\">\n",
       "      <th></th>\n",
       "      <th>unicode</th>\n",
       "      <th>x</th>\n",
       "      <th>y</th>\n",
       "      <th>w</th>\n",
       "      <th>h</th>\n",
       "    </tr>\n",
       "  </thead>\n",
       "  <tbody>\n",
       "    <tr>\n",
       "      <th>0</th>\n",
       "      <td>U+306F</td>\n",
       "      <td>1231</td>\n",
       "      <td>3465</td>\n",
       "      <td>133</td>\n",
       "      <td>53</td>\n",
       "    </tr>\n",
       "    <tr>\n",
       "      <th>1</th>\n",
       "      <td>U+304C</td>\n",
       "      <td>275</td>\n",
       "      <td>1652</td>\n",
       "      <td>84</td>\n",
       "      <td>69</td>\n",
       "    </tr>\n",
       "    <tr>\n",
       "      <th>2</th>\n",
       "      <td>U+3044</td>\n",
       "      <td>1495</td>\n",
       "      <td>1218</td>\n",
       "      <td>143</td>\n",
       "      <td>69</td>\n",
       "    </tr>\n",
       "    <tr>\n",
       "      <th>3</th>\n",
       "      <td>U+3051</td>\n",
       "      <td>220</td>\n",
       "      <td>3331</td>\n",
       "      <td>53</td>\n",
       "      <td>91</td>\n",
       "    </tr>\n",
       "    <tr>\n",
       "      <th>4</th>\n",
       "      <td>U+306B</td>\n",
       "      <td>911</td>\n",
       "      <td>1452</td>\n",
       "      <td>61</td>\n",
       "      <td>92</td>\n",
       "    </tr>\n",
       "  </tbody>\n",
       "</table>\n",
       "</div>"
      ],
      "text/plain": [
       "  unicode     x     y    w   h\n",
       "0  U+306F  1231  3465  133  53\n",
       "1  U+304C   275  1652   84  69\n",
       "2  U+3044  1495  1218  143  69\n",
       "3  U+3051   220  3331   53  91\n",
       "4  U+306B   911  1452   61  92"
      ]
     },
     "execution_count": 11,
     "metadata": {},
     "output_type": "execute_result"
    }
   ],
   "source": [
    "idx = idx_train[0]\n",
    "code = df_train_idx.loc[idx]\n",
    "code_arr = np.array(code['labels'].split(' ')).reshape(-1, 5)\n",
    "df_char = pd.DataFrame(code_arr, columns=['unicode', 'x', 'y', 'w', 'h'])\n",
    "df_char[['x','y','w','h']] = df_char[['x','y','w','h']].astype('int')\n",
    "df_char.head()"
   ]
  },
  {
   "cell_type": "code",
   "execution_count": 12,
   "metadata": {
    "scrolled": true
   },
   "outputs": [
    {
     "name": "stderr",
     "output_type": "stream",
     "text": [
      "100%|██████████| 500/500 [03:33<00:00,  2.34it/s]\n"
     ]
    }
   ],
   "source": [
    "CHAR_SIZE = (100, 100)\n",
    "for idx in tqdm(idx_train[:1000]):\n",
    "    code = df_train_idx.loc[idx]\n",
    "    try:\n",
    "        code_arr = np.array(code['labels'].split(' ')).reshape(-1, 5)\n",
    "    except:\n",
    "        continue\n",
    "    df_char = pd.DataFrame(code_arr, columns=['unicode', 'x', 'y', 'w', 'h'])\n",
    "    df_char[['x','y','w','h']] = df_char[['x','y','w','h']].astype('int')\n",
    "\n",
    "    path = IMAGES + idx + '.jpg'\n",
    "    img = cv2.imread(path)\n",
    "    img_gray = cv2.cvtColor(img, cv2.COLOR_BGR2GRAY)\n",
    "\n",
    "    codes = df_char['unicode']\n",
    "    positions = df_char[['x','y', 'w','h']].values\n",
    "    char_arr = np.zeros([0, CHAR_SIZE[0], CHAR_SIZE[1]])\n",
    "    for pos in positions :\n",
    "        x, y, w, h = pos\n",
    "        img_char = img_gray[y:y+h, x:x+w]\n",
    "        if w > h:\n",
    "            delta = (w - h) // 2\n",
    "            pad = (np.ones([delta, w]) * 255).astype('int')\n",
    "            img_pad = (255 - np.vstack([pad, img_char, pad])).astype('float32')        \n",
    "            img_pad_resize = cv2.resize(img_pad, CHAR_SIZE).astype('int')\n",
    "            char_arr = np.vstack([char_arr, img_pad_resize.reshape([1, CHAR_SIZE[0], CHAR_SIZE[1]])])\n",
    "        else:\n",
    "            delta = (h - w) // 2\n",
    "            pad = (np.ones([h, delta]) * 255).astype('int')\n",
    "            img_pad = (255 - np.hstack([pad, img_char, pad])).astype('float32')\n",
    "            img_pad_resize = cv2.resize(img_pad, CHAR_SIZE).astype('int')        \n",
    "            char_arr = np.vstack([char_arr, img_pad_resize.reshape([1, CHAR_SIZE[0], CHAR_SIZE[1]])])\n",
    "\n",
    "    with open(CHARS + idx + '.pickle', 'wb') as f:\n",
    "        pickle.dump(char_arr, f)\n",
    "        pickle.dump(codes, f)"
   ]
  },
  {
   "cell_type": "code",
   "execution_count": 13,
   "metadata": {},
   "outputs": [],
   "source": [
    "from keras.models import Model\n",
    "from keras.layers import Conv2D, MaxPooling2D, Input, Dense\n",
    "from keras.layers import Flatten, Reshape, Activation, Concatenate, Dropout"
   ]
  },
  {
   "cell_type": "code",
   "execution_count": 85,
   "metadata": {},
   "outputs": [],
   "source": [
    "img_size = (CHAR_SIZE[0], CHAR_SIZE[1], 1)\n",
    "inputs = Input(shape=img_size, name='input')\n",
    "\n",
    "## Block 1\n",
    "conv1_1 = Conv2D(32, (3, 3),activation='relu',padding='same',name='conv1_1')(inputs)\n",
    "conv1_2 = Conv2D(32, (3, 3),activation='relu',padding='same',name='conv1_2')(conv1_1)\n",
    "pool1 = MaxPooling2D((2,2),strides=(2,2),padding='same',name='pool1')(conv1_2)\n",
    "\n",
    "conv2_1 = Conv2D(32, (3, 3),activation='relu',padding='same',name='conv2_1')(pool1)\n",
    "conv2_2 = Conv2D(32, (3, 3),activation='relu',padding='same',name='conv2_2')(conv2_1)\n",
    "pool2 = MaxPooling2D((2,2),strides=(2,2),padding='same',name='pool2')(conv2_2)\n",
    "\n",
    "conv3_1 = Conv2D(32, (3, 3),activation='relu',padding='same',name='conv3_1')(pool2)\n",
    "conv3_2 = Conv2D(32, (3, 3),activation='relu',padding='same',name='conv3_2')(conv3_1)\n",
    "pool3 = MaxPooling2D((2,2),strides=(2,2),padding='same',name='pool3')(conv3_2)\n",
    "\n",
    "flat = Flatten(name='flatten')(pool3)\n",
    "dense1 = Dense(4781, name='dense1')(flat)\n",
    "dense2 = Dense(4781, name='dense2')(dense1)\n",
    "pred = Activation('softmax',name='pred')(dense2)\n",
    "model =  Model(inputs, pred)"
   ]
  },
  {
   "cell_type": "code",
   "execution_count": 86,
   "metadata": {},
   "outputs": [
    {
     "name": "stdout",
     "output_type": "stream",
     "text": [
      "_________________________________________________________________\n",
      "Layer (type)                 Output Shape              Param #   \n",
      "=================================================================\n",
      "input (InputLayer)           (None, 100, 100, 1)       0         \n",
      "_________________________________________________________________\n",
      "conv1_1 (Conv2D)             (None, 100, 100, 32)      320       \n",
      "_________________________________________________________________\n",
      "conv1_2 (Conv2D)             (None, 100, 100, 32)      9248      \n",
      "_________________________________________________________________\n",
      "pool1 (MaxPooling2D)         (None, 50, 50, 32)        0         \n",
      "_________________________________________________________________\n",
      "conv2_1 (Conv2D)             (None, 50, 50, 32)        9248      \n",
      "_________________________________________________________________\n",
      "conv2_2 (Conv2D)             (None, 50, 50, 32)        9248      \n",
      "_________________________________________________________________\n",
      "pool2 (MaxPooling2D)         (None, 25, 25, 32)        0         \n",
      "_________________________________________________________________\n",
      "conv3_1 (Conv2D)             (None, 25, 25, 32)        9248      \n",
      "_________________________________________________________________\n",
      "conv3_2 (Conv2D)             (None, 25, 25, 32)        9248      \n",
      "_________________________________________________________________\n",
      "pool3 (MaxPooling2D)         (None, 13, 13, 32)        0         \n",
      "_________________________________________________________________\n",
      "flatten (Flatten)            (None, 5408)              0         \n",
      "_________________________________________________________________\n",
      "dense1 (Dense)               (None, 4781)              25860429  \n",
      "_________________________________________________________________\n",
      "dense2 (Dense)               (None, 4781)              22862742  \n",
      "_________________________________________________________________\n",
      "pred (Activation)            (None, 4781)              0         \n",
      "=================================================================\n",
      "Total params: 48,769,731\n",
      "Trainable params: 48,769,731\n",
      "Non-trainable params: 0\n",
      "_________________________________________________________________\n"
     ]
    }
   ],
   "source": [
    "model.summary()"
   ]
  },
  {
   "cell_type": "code",
   "execution_count": 87,
   "metadata": {},
   "outputs": [],
   "source": [
    "from keras.losses import categorical_crossentropy\n",
    "from keras.optimizers import adam\n",
    "from sklearn.preprocessing import  OneHotEncoder"
   ]
  },
  {
   "cell_type": "code",
   "execution_count": 88,
   "metadata": {},
   "outputs": [
    {
     "data": {
      "text/plain": [
       "OneHotEncoder(categorical_features=None, categories=None, drop=None,\n",
       "              dtype=<class 'numpy.float64'>, handle_unknown='error',\n",
       "              n_values=None, sparse=True)"
      ]
     },
     "execution_count": 88,
     "metadata": {},
     "output_type": "execute_result"
    }
   ],
   "source": [
    "model.compile(optimizer=adam(),\n",
    "              loss=categorical_crossentropy)\n",
    "\n",
    "ohe = OneHotEncoder()\n",
    "ohe.fit(pd.Series(list(unicode_map.keys())).unique().reshape(-1,1))"
   ]
  },
  {
   "cell_type": "code",
   "execution_count": 89,
   "metadata": {},
   "outputs": [
    {
     "data": {
      "text/plain": [
       "(4781, 1)"
      ]
     },
     "execution_count": 89,
     "metadata": {},
     "output_type": "execute_result"
    }
   ],
   "source": [
    "pd.Series(list(unicode_map.keys())).unique().reshape(-1,1).shape"
   ]
  },
  {
   "cell_type": "code",
   "execution_count": 117,
   "metadata": {},
   "outputs": [],
   "source": [
    "def data_flow(CHARS, idx, ohe, batch_size=32):\n",
    "    while True:\n",
    "        image_id = random.sample(list(idx),1)[0]\n",
    "        \n",
    "        try:\n",
    "            with open(CHARS + image_id + '.pickle', 'rb') as f:\n",
    "                char_arr = pickle.load(f) / 255\n",
    "                codes = pickle.load(f)\n",
    "        except:\n",
    "            continue\n",
    "            \n",
    "        num = len(codes)\n",
    "        try:\n",
    "            pickup = random.sample(list(range(num)), batch_size)\n",
    "        except:\n",
    "            continue\n",
    "            \n",
    "        inputs = char_arr[pickup][:, :, :, np.newaxis]\n",
    "        targets = ohe.transform(codes[pickup].values[:, np.newaxis]).toarray()\n",
    "        \n",
    "        yield inputs, targets"
   ]
  },
  {
   "cell_type": "code",
   "execution_count": 118,
   "metadata": {},
   "outputs": [],
   "source": [
    "len_train = len(idx_train)\n",
    "idx_rand = random.sample(list(idx_train), len_train)\n",
    "idx_dev = idx_rand[:int(len_train*0.8)]\n",
    "idx_val = idx_rand[int(len_train*0.8):]"
   ]
  },
  {
   "cell_type": "code",
   "execution_count": 119,
   "metadata": {},
   "outputs": [],
   "source": [
    "gen_train = data_flow(CHARS, idx_dev, ohe, batch_size=32)\n",
    "gen_val = data_flow(CHARS, idx_val, ohe, batch_size=32)"
   ]
  },
  {
   "cell_type": "code",
   "execution_count": 120,
   "metadata": {},
   "outputs": [],
   "source": [
    "num_steps_dev = len(idx_dev)\n",
    "num_steps_val = len(idx_val)"
   ]
  },
  {
   "cell_type": "code",
   "execution_count": null,
   "metadata": {},
   "outputs": [
    {
     "name": "stdout",
     "output_type": "stream",
     "text": [
      "Epoch 1/1\n",
      " 36/400 [=>............................] - ETA: 7:47 - loss: 6.3079"
     ]
    }
   ],
   "source": [
    "model.fit_generator(gen_train, steps_per_epoch=num_steps_dev, epochs=1, verbose=1, \n",
    "                    validation_data=gen_val, \n",
    "                    validation_steps=num_steps_val)"
   ]
  },
  {
   "cell_type": "code",
   "execution_count": null,
   "metadata": {},
   "outputs": [],
   "source": []
  }
 ],
 "metadata": {
  "kernelspec": {
   "display_name": "Python 3",
   "language": "python",
   "name": "python3"
  },
  "language_info": {
   "codemirror_mode": {
    "name": "ipython",
    "version": 3
   },
   "file_extension": ".py",
   "mimetype": "text/x-python",
   "name": "python",
   "nbconvert_exporter": "python",
   "pygments_lexer": "ipython3",
   "version": "3.6.8"
  }
 },
 "nbformat": 4,
 "nbformat_minor": 2
}
