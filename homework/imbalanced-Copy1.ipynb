{
 "cells": [
  {
   "cell_type": "code",
   "execution_count": 1,
   "metadata": {},
   "outputs": [],
   "source": [
    "import pandas as pd\n",
    "import matplotlib.pyplot as plt\n",
    "import numpy as np"
   ]
  },
  {
   "cell_type": "code",
   "execution_count": 2,
   "metadata": {},
   "outputs": [],
   "source": [
    "from sklearn.model_selection import train_test_split"
   ]
  },
  {
   "cell_type": "code",
   "execution_count": 3,
   "metadata": {},
   "outputs": [],
   "source": [
    "from sklearn.metrics import log_loss\n",
    "from sklearn.metrics import average_precision_score as aps\n",
    "from sklearn.metrics import roc_auc_score as auc"
   ]
  },
  {
   "cell_type": "code",
   "execution_count": 4,
   "metadata": {},
   "outputs": [],
   "source": [
    "df = pd.read_csv('train.csv')"
   ]
  },
  {
   "cell_type": "code",
   "execution_count": 5,
   "metadata": {},
   "outputs": [
    {
     "data": {
      "text/html": [
       "<div>\n",
       "<style scoped>\n",
       "    .dataframe tbody tr th:only-of-type {\n",
       "        vertical-align: middle;\n",
       "    }\n",
       "\n",
       "    .dataframe tbody tr th {\n",
       "        vertical-align: top;\n",
       "    }\n",
       "\n",
       "    .dataframe thead th {\n",
       "        text-align: right;\n",
       "    }\n",
       "</style>\n",
       "<table border=\"1\" class=\"dataframe\">\n",
       "  <thead>\n",
       "    <tr style=\"text-align: right;\">\n",
       "      <th></th>\n",
       "      <th>ID_code</th>\n",
       "      <th>target</th>\n",
       "      <th>var_0</th>\n",
       "      <th>var_1</th>\n",
       "      <th>var_2</th>\n",
       "      <th>var_3</th>\n",
       "      <th>var_4</th>\n",
       "      <th>var_5</th>\n",
       "      <th>var_6</th>\n",
       "      <th>var_7</th>\n",
       "      <th>...</th>\n",
       "      <th>var_190</th>\n",
       "      <th>var_191</th>\n",
       "      <th>var_192</th>\n",
       "      <th>var_193</th>\n",
       "      <th>var_194</th>\n",
       "      <th>var_195</th>\n",
       "      <th>var_196</th>\n",
       "      <th>var_197</th>\n",
       "      <th>var_198</th>\n",
       "      <th>var_199</th>\n",
       "    </tr>\n",
       "  </thead>\n",
       "  <tbody>\n",
       "    <tr>\n",
       "      <th>0</th>\n",
       "      <td>train_0</td>\n",
       "      <td>0</td>\n",
       "      <td>8.9255</td>\n",
       "      <td>-6.7863</td>\n",
       "      <td>11.9081</td>\n",
       "      <td>5.0930</td>\n",
       "      <td>11.4607</td>\n",
       "      <td>-9.2834</td>\n",
       "      <td>5.1187</td>\n",
       "      <td>18.6266</td>\n",
       "      <td>...</td>\n",
       "      <td>4.4354</td>\n",
       "      <td>3.9642</td>\n",
       "      <td>3.1364</td>\n",
       "      <td>1.6910</td>\n",
       "      <td>18.5227</td>\n",
       "      <td>-2.3978</td>\n",
       "      <td>7.8784</td>\n",
       "      <td>8.5635</td>\n",
       "      <td>12.7803</td>\n",
       "      <td>-1.0914</td>\n",
       "    </tr>\n",
       "    <tr>\n",
       "      <th>1</th>\n",
       "      <td>train_1</td>\n",
       "      <td>0</td>\n",
       "      <td>11.5006</td>\n",
       "      <td>-4.1473</td>\n",
       "      <td>13.8588</td>\n",
       "      <td>5.3890</td>\n",
       "      <td>12.3622</td>\n",
       "      <td>7.0433</td>\n",
       "      <td>5.6208</td>\n",
       "      <td>16.5338</td>\n",
       "      <td>...</td>\n",
       "      <td>7.6421</td>\n",
       "      <td>7.7214</td>\n",
       "      <td>2.5837</td>\n",
       "      <td>10.9516</td>\n",
       "      <td>15.4305</td>\n",
       "      <td>2.0339</td>\n",
       "      <td>8.1267</td>\n",
       "      <td>8.7889</td>\n",
       "      <td>18.3560</td>\n",
       "      <td>1.9518</td>\n",
       "    </tr>\n",
       "    <tr>\n",
       "      <th>2</th>\n",
       "      <td>train_2</td>\n",
       "      <td>0</td>\n",
       "      <td>8.6093</td>\n",
       "      <td>-2.7457</td>\n",
       "      <td>12.0805</td>\n",
       "      <td>7.8928</td>\n",
       "      <td>10.5825</td>\n",
       "      <td>-9.0837</td>\n",
       "      <td>6.9427</td>\n",
       "      <td>14.6155</td>\n",
       "      <td>...</td>\n",
       "      <td>2.9057</td>\n",
       "      <td>9.7905</td>\n",
       "      <td>1.6704</td>\n",
       "      <td>1.6858</td>\n",
       "      <td>21.6042</td>\n",
       "      <td>3.1417</td>\n",
       "      <td>-6.5213</td>\n",
       "      <td>8.2675</td>\n",
       "      <td>14.7222</td>\n",
       "      <td>0.3965</td>\n",
       "    </tr>\n",
       "    <tr>\n",
       "      <th>3</th>\n",
       "      <td>train_3</td>\n",
       "      <td>0</td>\n",
       "      <td>11.0604</td>\n",
       "      <td>-2.1518</td>\n",
       "      <td>8.9522</td>\n",
       "      <td>7.1957</td>\n",
       "      <td>12.5846</td>\n",
       "      <td>-1.8361</td>\n",
       "      <td>5.8428</td>\n",
       "      <td>14.9250</td>\n",
       "      <td>...</td>\n",
       "      <td>4.4666</td>\n",
       "      <td>4.7433</td>\n",
       "      <td>0.7178</td>\n",
       "      <td>1.4214</td>\n",
       "      <td>23.0347</td>\n",
       "      <td>-1.2706</td>\n",
       "      <td>-2.9275</td>\n",
       "      <td>10.2922</td>\n",
       "      <td>17.9697</td>\n",
       "      <td>-8.9996</td>\n",
       "    </tr>\n",
       "    <tr>\n",
       "      <th>4</th>\n",
       "      <td>train_4</td>\n",
       "      <td>0</td>\n",
       "      <td>9.8369</td>\n",
       "      <td>-1.4834</td>\n",
       "      <td>12.8746</td>\n",
       "      <td>6.6375</td>\n",
       "      <td>12.2772</td>\n",
       "      <td>2.4486</td>\n",
       "      <td>5.9405</td>\n",
       "      <td>19.2514</td>\n",
       "      <td>...</td>\n",
       "      <td>-1.4905</td>\n",
       "      <td>9.5214</td>\n",
       "      <td>-0.1508</td>\n",
       "      <td>9.1942</td>\n",
       "      <td>13.2876</td>\n",
       "      <td>-1.5121</td>\n",
       "      <td>3.9267</td>\n",
       "      <td>9.5031</td>\n",
       "      <td>17.9974</td>\n",
       "      <td>-8.8104</td>\n",
       "    </tr>\n",
       "  </tbody>\n",
       "</table>\n",
       "<p>5 rows × 202 columns</p>\n",
       "</div>"
      ],
      "text/plain": [
       "   ID_code  target    var_0   var_1    var_2   var_3    var_4   var_5   var_6  \\\n",
       "0  train_0       0   8.9255 -6.7863  11.9081  5.0930  11.4607 -9.2834  5.1187   \n",
       "1  train_1       0  11.5006 -4.1473  13.8588  5.3890  12.3622  7.0433  5.6208   \n",
       "2  train_2       0   8.6093 -2.7457  12.0805  7.8928  10.5825 -9.0837  6.9427   \n",
       "3  train_3       0  11.0604 -2.1518   8.9522  7.1957  12.5846 -1.8361  5.8428   \n",
       "4  train_4       0   9.8369 -1.4834  12.8746  6.6375  12.2772  2.4486  5.9405   \n",
       "\n",
       "     var_7  ...  var_190  var_191  var_192  var_193  var_194  var_195  \\\n",
       "0  18.6266  ...   4.4354   3.9642   3.1364   1.6910  18.5227  -2.3978   \n",
       "1  16.5338  ...   7.6421   7.7214   2.5837  10.9516  15.4305   2.0339   \n",
       "2  14.6155  ...   2.9057   9.7905   1.6704   1.6858  21.6042   3.1417   \n",
       "3  14.9250  ...   4.4666   4.7433   0.7178   1.4214  23.0347  -1.2706   \n",
       "4  19.2514  ...  -1.4905   9.5214  -0.1508   9.1942  13.2876  -1.5121   \n",
       "\n",
       "   var_196  var_197  var_198  var_199  \n",
       "0   7.8784   8.5635  12.7803  -1.0914  \n",
       "1   8.1267   8.7889  18.3560   1.9518  \n",
       "2  -6.5213   8.2675  14.7222   0.3965  \n",
       "3  -2.9275  10.2922  17.9697  -8.9996  \n",
       "4   3.9267   9.5031  17.9974  -8.8104  \n",
       "\n",
       "[5 rows x 202 columns]"
      ]
     },
     "execution_count": 5,
     "metadata": {},
     "output_type": "execute_result"
    }
   ],
   "source": [
    "df.head()"
   ]
  },
  {
   "cell_type": "code",
   "execution_count": 6,
   "metadata": {},
   "outputs": [],
   "source": [
    "feature_list = list(df.columns)\n",
    "feature_list.remove('ID_code')\n",
    "feature_list.remove('target')\n",
    "\n",
    "X = df[feature_list].values\n",
    "y = df['target'].values"
   ]
  },
  {
   "cell_type": "code",
   "execution_count": 7,
   "metadata": {},
   "outputs": [],
   "source": [
    "X_dev, X_test, y_dev, y_test = train_test_split(X, y, test_size = 0.3)\n",
    "X_train, X_val, y_train, y_val = train_test_split(X_dev, y_dev, test_size = 0.2)"
   ]
  },
  {
   "cell_type": "code",
   "execution_count": 8,
   "metadata": {},
   "outputs": [],
   "source": [
    "import lightgbm as lgb"
   ]
  },
  {
   "cell_type": "code",
   "execution_count": 9,
   "metadata": {
    "scrolled": true
   },
   "outputs": [
    {
     "name": "stdout",
     "output_type": "stream",
     "text": [
      "[1]\tvalid_0's binary_logloss: 0.320799\n",
      "[2]\tvalid_0's binary_logloss: 0.317694\n",
      "[3]\tvalid_0's binary_logloss: 0.315047\n",
      "[4]\tvalid_0's binary_logloss: 0.312684\n",
      "[5]\tvalid_0's binary_logloss: 0.310357\n",
      "[6]\tvalid_0's binary_logloss: 0.308134\n",
      "[7]\tvalid_0's binary_logloss: 0.30614\n",
      "[8]\tvalid_0's binary_logloss: 0.304197\n",
      "[9]\tvalid_0's binary_logloss: 0.302399\n",
      "[10]\tvalid_0's binary_logloss: 0.300491\n",
      "[11]\tvalid_0's binary_logloss: 0.298763\n",
      "[12]\tvalid_0's binary_logloss: 0.297238\n",
      "[13]\tvalid_0's binary_logloss: 0.295682\n",
      "[14]\tvalid_0's binary_logloss: 0.294211\n",
      "[15]\tvalid_0's binary_logloss: 0.292892\n",
      "[16]\tvalid_0's binary_logloss: 0.291525\n",
      "[17]\tvalid_0's binary_logloss: 0.290443\n",
      "[18]\tvalid_0's binary_logloss: 0.289218\n",
      "[19]\tvalid_0's binary_logloss: 0.287917\n",
      "[20]\tvalid_0's binary_logloss: 0.286639\n",
      "[21]\tvalid_0's binary_logloss: 0.285491\n",
      "[22]\tvalid_0's binary_logloss: 0.284388\n",
      "[23]\tvalid_0's binary_logloss: 0.283311\n",
      "[24]\tvalid_0's binary_logloss: 0.282243\n",
      "[25]\tvalid_0's binary_logloss: 0.281057\n",
      "[26]\tvalid_0's binary_logloss: 0.280123\n",
      "[27]\tvalid_0's binary_logloss: 0.279261\n",
      "[28]\tvalid_0's binary_logloss: 0.278221\n",
      "[29]\tvalid_0's binary_logloss: 0.277414\n",
      "[30]\tvalid_0's binary_logloss: 0.276476\n",
      "[31]\tvalid_0's binary_logloss: 0.275414\n",
      "[32]\tvalid_0's binary_logloss: 0.274753\n",
      "[33]\tvalid_0's binary_logloss: 0.274044\n",
      "[34]\tvalid_0's binary_logloss: 0.273188\n",
      "[35]\tvalid_0's binary_logloss: 0.272306\n",
      "[36]\tvalid_0's binary_logloss: 0.271597\n",
      "[37]\tvalid_0's binary_logloss: 0.270817\n",
      "[38]\tvalid_0's binary_logloss: 0.270072\n",
      "[39]\tvalid_0's binary_logloss: 0.269343\n",
      "[40]\tvalid_0's binary_logloss: 0.268654\n",
      "[41]\tvalid_0's binary_logloss: 0.268087\n",
      "[42]\tvalid_0's binary_logloss: 0.267343\n",
      "[43]\tvalid_0's binary_logloss: 0.266631\n",
      "[44]\tvalid_0's binary_logloss: 0.265903\n",
      "[45]\tvalid_0's binary_logloss: 0.265386\n",
      "[46]\tvalid_0's binary_logloss: 0.264681\n",
      "[47]\tvalid_0's binary_logloss: 0.264073\n",
      "[48]\tvalid_0's binary_logloss: 0.263497\n",
      "[49]\tvalid_0's binary_logloss: 0.262824\n",
      "[50]\tvalid_0's binary_logloss: 0.262202\n",
      "[51]\tvalid_0's binary_logloss: 0.261585\n",
      "[52]\tvalid_0's binary_logloss: 0.260932\n",
      "[53]\tvalid_0's binary_logloss: 0.260304\n",
      "[54]\tvalid_0's binary_logloss: 0.25987\n",
      "[55]\tvalid_0's binary_logloss: 0.259264\n",
      "[56]\tvalid_0's binary_logloss: 0.258844\n",
      "[57]\tvalid_0's binary_logloss: 0.258315\n",
      "[58]\tvalid_0's binary_logloss: 0.257739\n",
      "[59]\tvalid_0's binary_logloss: 0.257116\n",
      "[60]\tvalid_0's binary_logloss: 0.256588\n",
      "[61]\tvalid_0's binary_logloss: 0.255958\n",
      "[62]\tvalid_0's binary_logloss: 0.255321\n",
      "[63]\tvalid_0's binary_logloss: 0.254707\n",
      "[64]\tvalid_0's binary_logloss: 0.254168\n",
      "[65]\tvalid_0's binary_logloss: 0.253705\n",
      "[66]\tvalid_0's binary_logloss: 0.253284\n",
      "[67]\tvalid_0's binary_logloss: 0.252932\n",
      "[68]\tvalid_0's binary_logloss: 0.252517\n",
      "[69]\tvalid_0's binary_logloss: 0.252109\n",
      "[70]\tvalid_0's binary_logloss: 0.251566\n",
      "[71]\tvalid_0's binary_logloss: 0.251129\n",
      "[72]\tvalid_0's binary_logloss: 0.250782\n",
      "[73]\tvalid_0's binary_logloss: 0.250434\n",
      "[74]\tvalid_0's binary_logloss: 0.250088\n",
      "[75]\tvalid_0's binary_logloss: 0.249642\n",
      "[76]\tvalid_0's binary_logloss: 0.249261\n",
      "[77]\tvalid_0's binary_logloss: 0.248877\n",
      "[78]\tvalid_0's binary_logloss: 0.248567\n",
      "[79]\tvalid_0's binary_logloss: 0.248267\n",
      "[80]\tvalid_0's binary_logloss: 0.247919\n",
      "[81]\tvalid_0's binary_logloss: 0.247547\n",
      "[82]\tvalid_0's binary_logloss: 0.247056\n",
      "[83]\tvalid_0's binary_logloss: 0.246651\n",
      "[84]\tvalid_0's binary_logloss: 0.246278\n",
      "[85]\tvalid_0's binary_logloss: 0.245794\n",
      "[86]\tvalid_0's binary_logloss: 0.245456\n",
      "[87]\tvalid_0's binary_logloss: 0.245166\n",
      "[88]\tvalid_0's binary_logloss: 0.244912\n",
      "[89]\tvalid_0's binary_logloss: 0.244602\n",
      "[90]\tvalid_0's binary_logloss: 0.24414\n",
      "[91]\tvalid_0's binary_logloss: 0.243704\n",
      "[92]\tvalid_0's binary_logloss: 0.243391\n",
      "[93]\tvalid_0's binary_logloss: 0.243066\n",
      "[94]\tvalid_0's binary_logloss: 0.242768\n",
      "[95]\tvalid_0's binary_logloss: 0.242339\n",
      "[96]\tvalid_0's binary_logloss: 0.242042\n",
      "[97]\tvalid_0's binary_logloss: 0.241731\n",
      "[98]\tvalid_0's binary_logloss: 0.24145\n",
      "[99]\tvalid_0's binary_logloss: 0.241102\n",
      "[100]\tvalid_0's binary_logloss: 0.240742\n"
     ]
    }
   ],
   "source": [
    "lgb_train = lgb.Dataset(X_train, y_train)\n",
    "lgb_val = lgb.Dataset(X_val, y_val, reference=lgb_train)\n",
    "\n",
    "lgbm_params = {\n",
    "    'objective': 'binary',\n",
    "    'num_leaves': 24,\n",
    "}\n",
    "\n",
    "# 上記のパラメータでモデルを学習する\n",
    "model = lgb.train(lgbm_params, lgb_train, valid_sets=lgb_val, num_boost_round=100)"
   ]
  },
  {
   "cell_type": "code",
   "execution_count": 10,
   "metadata": {},
   "outputs": [],
   "source": [
    "ctr_train = np.array(y_train).mean()"
   ]
  },
  {
   "cell_type": "code",
   "execution_count": 11,
   "metadata": {},
   "outputs": [],
   "source": [
    "# テストデータを予測する\n",
    "def evals(X, y_true, ctr_train):\n",
    "    y_pred = model.predict(X)\n",
    "    y_pred_post = y_pred / (y_pred  +  (1 - ctr_train) / ctr_train  * (1 - y_pred) )\n",
    "    print('logloss: %.4f' % log_loss(y_true, y_pred))\n",
    "    print('logloss_post: %.4f' % log_loss(y_true, y_pred_post))\n",
    "    print('auc: %.4f' % auc(y_true, y_pred))\n",
    "    print('norm aps:  %.4f' % (aps(y_true, y_pred)/y_true.mean()))"
   ]
  },
  {
   "cell_type": "code",
   "execution_count": 12,
   "metadata": {},
   "outputs": [
    {
     "name": "stdout",
     "output_type": "stream",
     "text": [
      "----------\n",
      "logloss: 0.2089\n",
      "logloss_post: 0.3280\n",
      "auc: 0.9282\n",
      "norm aps:  7.1350\n",
      "----------\n",
      "logloss: 0.2407\n",
      "logloss_post: 0.3632\n",
      "auc: 0.8649\n",
      "norm aps:  5.1758\n",
      "----------\n",
      "logloss: 0.2441\n",
      "logloss_post: 0.3666\n",
      "auc: 0.8588\n",
      "norm aps:  4.9957\n"
     ]
    }
   ],
   "source": [
    "print('-'*10)\n",
    "evals(X_train, y_train, ctr_train)\n",
    "print('-'*10)\n",
    "evals(X_val, y_val, ctr_train)\n",
    "print('-'*10)\n",
    "evals(X_test, y_test, ctr_train)"
   ]
  },
  {
   "cell_type": "code",
   "execution_count": 13,
   "metadata": {},
   "outputs": [],
   "source": [
    "def gen_plot_points(X, y_true, num_points=100):\n",
    "    y_pred = model.predict(X) \n",
    "    scores = []\n",
    "    ctrs = []\n",
    "    delta = 1 / num_points\n",
    "    for i in range(num_points):\n",
    "        mask = (y_pred >= delta * i) * (y_pred < delta * (i +1))\n",
    "        if mask.sum() > 0:\n",
    "            scores.append(y_pred[mask].mean())\n",
    "            ctrs.append(y_true[mask].mean())\n",
    "    return scores, ctrs"
   ]
  },
  {
   "cell_type": "code",
   "execution_count": 14,
   "metadata": {},
   "outputs": [],
   "source": [
    "scores_train, ctrs_train  =  gen_plot_points(X_train, y_train)\n",
    "scores_val, ctrs_val  =  gen_plot_points(X_val, y_val)\n",
    "scores_test, ctrs_test  =  gen_plot_points(X_test, y_test)"
   ]
  },
  {
   "cell_type": "code",
   "execution_count": 15,
   "metadata": {},
   "outputs": [
    {
     "data": {
      "image/png": "[encoded data removed]",
      "text/plain": [
       "<Figure size 432x288 with 1 Axes>"
      ]
     },
     "metadata": {
      "needs_background": "light"
     },
     "output_type": "display_data"
    }
   ],
   "source": [
    "plt.scatter(scores_train, ctrs_train)\n",
    "plt.scatter(scores_test, ctrs_test)\n",
    "plt.scatter(scores_val, ctrs_val )\n",
    "\n",
    "plt.plot([0,1], [0,1])\n",
    "plt.show()"
   ]
  },
  {
   "cell_type": "code",
   "execution_count": 16,
   "metadata": {},
   "outputs": [
    {
     "data": {
      "image/png": "[encoded data removed]",
      "text/plain": [
       "<Figure size 432x288 with 1 Axes>"
      ]
     },
     "metadata": {
      "needs_background": "light"
     },
     "output_type": "display_data"
    }
   ],
   "source": [
    "plt.hist(model.predict(X_train) , bins=100)\n",
    "plt.hist(model.predict(X_test) , bins=100)\n",
    "plt.hist(model.predict(X_val) , bins=100)\n",
    "plt.show()"
   ]
  },
  {
   "cell_type": "code",
   "execution_count": 17,
   "metadata": {},
   "outputs": [
    {
     "data": {
      "image/png": "[encoded data removed]",
      "text/plain": [
       "<Figure size 432x288 with 1 Axes>"
      ]
     },
     "metadata": {
      "needs_background": "light"
     },
     "output_type": "display_data"
    }
   ],
   "source": [
    "plt.scatter(scores_train, ctrs_train)\n",
    "plt.scatter(scores_test, ctrs_test)\n",
    "plt.scatter(scores_val, ctrs_val )\n",
    "\n",
    "plt.plot([0,1], [0,1])\n",
    "plt.show()"
   ]
  },
  {
   "cell_type": "code",
   "execution_count": 18,
   "metadata": {},
   "outputs": [
    {
     "data": {
      "image/png": "[encoded data removed]",
      "text/plain": [
       "<Figure size 432x288 with 1 Axes>"
      ]
     },
     "metadata": {
      "needs_background": "light"
     },
     "output_type": "display_data"
    }
   ],
   "source": [
    "plt.hist(model.predict(X_train) , bins=100)\n",
    "plt.hist(model.predict(X_test) , bins=100)\n",
    "plt.hist(model.predict(X_val) , bins=100)\n",
    "plt.show()"
   ]
  },
  {
   "cell_type": "code",
   "execution_count": 19,
   "metadata": {},
   "outputs": [],
   "source": [
    "def post(scores, ctr_train):\n",
    "    s_prev = np.array(scores)\n",
    "    return s_prev / (s_prev  +  (1 - ctr_train) / ctr_train  * (1 - s_prev) )"
   ]
  },
  {
   "cell_type": "code",
   "execution_count": 20,
   "metadata": {},
   "outputs": [],
   "source": [
    "s_post_train = post(scores_train, ctr_train)\n",
    "s_post_val = post(scores_val, ctr_train)\n",
    "s_post_test = post(scores_test, ctr_train)"
   ]
  },
  {
   "cell_type": "code",
   "execution_count": 21,
   "metadata": {},
   "outputs": [
    {
     "data": {
      "image/png": "[encoded data removed]",
      "text/plain": [
       "<Figure size 432x288 with 1 Axes>"
      ]
     },
     "metadata": {
      "needs_background": "light"
     },
     "output_type": "display_data"
    }
   ],
   "source": [
    "plt.scatter(s_post_train, ctrs_train)\n",
    "plt.scatter(s_post_test, ctrs_test)\n",
    "plt.scatter(s_post_val, ctrs_val )\n",
    "\n",
    "plt.plot([0,1], [0,1])\n",
    "plt.show()"
   ]
  },
  {
   "cell_type": "code",
   "execution_count": null,
   "metadata": {},
   "outputs": [],
   "source": []
  },
  {
   "cell_type": "code",
   "execution_count": null,
   "metadata": {},
   "outputs": [],
   "source": []
  }
 ],
 "metadata": {
  "kernelspec": {
   "display_name": "Python 3",
   "language": "python",
   "name": "python3"
  },
  "language_info": {
   "codemirror_mode": {
    "name": "ipython",
    "version": 3
   },
   "file_extension": ".py",
   "mimetype": "text/x-python",
   "name": "python",
   "nbconvert_exporter": "python",
   "pygments_lexer": "ipython3",
   "version": "3.7.0"
  }
 },
 "nbformat": 4,
 "nbformat_minor": 2
}
