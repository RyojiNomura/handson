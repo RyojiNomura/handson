{
 "cells": [
  {
   "cell_type": "code",
   "execution_count": 1,
   "metadata": {},
   "outputs": [],
   "source": [
    "import os\n",
    "import pandas as pd\n",
    "import numpy as np\n",
    "import matplotlib.pyplot as plt\n",
    "import seaborn as sns\n",
    "import time"
   ]
  },
  {
   "cell_type": "code",
   "execution_count": 2,
   "metadata": {},
   "outputs": [
    {
     "data": {
      "text/plain": [
       "['scalar_coupling_contributions.csv',\n",
       " 'mulliken_charges.csv',\n",
       " 'structures.csv',\n",
       " 'test.csv',\n",
       " 'structures.zip',\n",
       " 'train.csv',\n",
       " 'magnetic_shielding_tensors.csv',\n",
       " 'dipole_moments.csv',\n",
       " 'sample_submission.csv',\n",
       " 'potential_energy.csv']"
      ]
     },
     "execution_count": 2,
     "metadata": {},
     "output_type": "execute_result"
    }
   ],
   "source": [
    "FOLDER = '../../data_handson/champs-scalar-coupling/'\n",
    "os.listdir(FOLDER)"
   ]
  },
  {
   "cell_type": "markdown",
   "metadata": {},
   "source": [
    "## load all files as pandas dataframe"
   ]
  },
  {
   "cell_type": "code",
   "execution_count": 25,
   "metadata": {},
   "outputs": [],
   "source": [
    "# df_mulliken_charges = pd.read_csv(FOLDER + 'mulliken_charges.csv')\n",
    "# df_sample =  pd.read_csv(FOLDER + 'sample_submission.csv')\n",
    "# df_magnetic_shielding_tensors = pd.read_csv(FOLDER + 'magnetic_shielding_tensors.csv')\n",
    "df = pd.read_csv(FOLDER + 'train.csv')\n",
    "# df_test = pd.read_csv(FOLDER + 'test.csv')\n",
    "# df_dipole_moments = pd.read_csv(FOLDER + 'dipole_moments.csv')\n",
    "# df_potential_energy = pd.read_csv(FOLDER + 'potential_energy.csv')\n",
    "df_structures = pd.read_csv(FOLDER + 'structures.csv')\n",
    "# df_scalar_coupling_contributions = pd.read_csv(FOLDER + 'scalar_coupling_contributions.csv')"
   ]
  },
  {
   "cell_type": "code",
   "execution_count": 26,
   "metadata": {},
   "outputs": [],
   "source": [
    "df_structures_idx = df_structures.set_index('molecule_name')\n",
    "df_idx = df.set_index('molecule_name')"
   ]
  },
  {
   "cell_type": "code",
   "execution_count": 10,
   "metadata": {},
   "outputs": [
    {
     "data": {
      "text/html": [
       "<div>\n",
       "<style scoped>\n",
       "    .dataframe tbody tr th:only-of-type {\n",
       "        vertical-align: middle;\n",
       "    }\n",
       "\n",
       "    .dataframe tbody tr th {\n",
       "        vertical-align: top;\n",
       "    }\n",
       "\n",
       "    .dataframe thead th {\n",
       "        text-align: right;\n",
       "    }\n",
       "</style>\n",
       "<table border=\"1\" class=\"dataframe\">\n",
       "  <thead>\n",
       "    <tr style=\"text-align: right;\">\n",
       "      <th></th>\n",
       "      <th>atom_index</th>\n",
       "      <th>atom</th>\n",
       "      <th>x</th>\n",
       "      <th>y</th>\n",
       "      <th>z</th>\n",
       "    </tr>\n",
       "    <tr>\n",
       "      <th>molecule_name</th>\n",
       "      <th></th>\n",
       "      <th></th>\n",
       "      <th></th>\n",
       "      <th></th>\n",
       "      <th></th>\n",
       "    </tr>\n",
       "  </thead>\n",
       "  <tbody>\n",
       "    <tr>\n",
       "      <th>dsgdb9nsd_000001</th>\n",
       "      <td>0</td>\n",
       "      <td>C</td>\n",
       "      <td>-0.012698</td>\n",
       "      <td>1.085804</td>\n",
       "      <td>0.008001</td>\n",
       "    </tr>\n",
       "    <tr>\n",
       "      <th>dsgdb9nsd_000001</th>\n",
       "      <td>1</td>\n",
       "      <td>H</td>\n",
       "      <td>0.002150</td>\n",
       "      <td>-0.006031</td>\n",
       "      <td>0.001976</td>\n",
       "    </tr>\n",
       "    <tr>\n",
       "      <th>dsgdb9nsd_000001</th>\n",
       "      <td>2</td>\n",
       "      <td>H</td>\n",
       "      <td>1.011731</td>\n",
       "      <td>1.463751</td>\n",
       "      <td>0.000277</td>\n",
       "    </tr>\n",
       "    <tr>\n",
       "      <th>dsgdb9nsd_000001</th>\n",
       "      <td>3</td>\n",
       "      <td>H</td>\n",
       "      <td>-0.540815</td>\n",
       "      <td>1.447527</td>\n",
       "      <td>-0.876644</td>\n",
       "    </tr>\n",
       "    <tr>\n",
       "      <th>dsgdb9nsd_000001</th>\n",
       "      <td>4</td>\n",
       "      <td>H</td>\n",
       "      <td>-0.523814</td>\n",
       "      <td>1.437933</td>\n",
       "      <td>0.906397</td>\n",
       "    </tr>\n",
       "  </tbody>\n",
       "</table>\n",
       "</div>"
      ],
      "text/plain": [
       "                  atom_index atom         x         y         z\n",
       "molecule_name                                                  \n",
       "dsgdb9nsd_000001           0    C -0.012698  1.085804  0.008001\n",
       "dsgdb9nsd_000001           1    H  0.002150 -0.006031  0.001976\n",
       "dsgdb9nsd_000001           2    H  1.011731  1.463751  0.000277\n",
       "dsgdb9nsd_000001           3    H -0.540815  1.447527 -0.876644\n",
       "dsgdb9nsd_000001           4    H -0.523814  1.437933  0.906397"
      ]
     },
     "execution_count": 10,
     "metadata": {},
     "output_type": "execute_result"
    }
   ],
   "source": [
    "df_structures_idx.loc['dsgdb9nsd_000001']"
   ]
  },
  {
   "cell_type": "code",
   "execution_count": 27,
   "metadata": {},
   "outputs": [
    {
     "data": {
      "text/html": [
       "<div>\n",
       "<style scoped>\n",
       "    .dataframe tbody tr th:only-of-type {\n",
       "        vertical-align: middle;\n",
       "    }\n",
       "\n",
       "    .dataframe tbody tr th {\n",
       "        vertical-align: top;\n",
       "    }\n",
       "\n",
       "    .dataframe thead th {\n",
       "        text-align: right;\n",
       "    }\n",
       "</style>\n",
       "<table border=\"1\" class=\"dataframe\">\n",
       "  <thead>\n",
       "    <tr style=\"text-align: right;\">\n",
       "      <th></th>\n",
       "      <th>id</th>\n",
       "      <th>atom_index_0</th>\n",
       "      <th>atom_index_1</th>\n",
       "      <th>type</th>\n",
       "      <th>scalar_coupling_constant</th>\n",
       "    </tr>\n",
       "    <tr>\n",
       "      <th>molecule_name</th>\n",
       "      <th></th>\n",
       "      <th></th>\n",
       "      <th></th>\n",
       "      <th></th>\n",
       "      <th></th>\n",
       "    </tr>\n",
       "  </thead>\n",
       "  <tbody>\n",
       "    <tr>\n",
       "      <th>dsgdb9nsd_000001</th>\n",
       "      <td>0</td>\n",
       "      <td>1</td>\n",
       "      <td>0</td>\n",
       "      <td>1JHC</td>\n",
       "      <td>84.8076</td>\n",
       "    </tr>\n",
       "    <tr>\n",
       "      <th>dsgdb9nsd_000001</th>\n",
       "      <td>4</td>\n",
       "      <td>2</td>\n",
       "      <td>0</td>\n",
       "      <td>1JHC</td>\n",
       "      <td>84.8074</td>\n",
       "    </tr>\n",
       "    <tr>\n",
       "      <th>dsgdb9nsd_000001</th>\n",
       "      <td>7</td>\n",
       "      <td>3</td>\n",
       "      <td>0</td>\n",
       "      <td>1JHC</td>\n",
       "      <td>84.8093</td>\n",
       "    </tr>\n",
       "    <tr>\n",
       "      <th>dsgdb9nsd_000001</th>\n",
       "      <td>9</td>\n",
       "      <td>4</td>\n",
       "      <td>0</td>\n",
       "      <td>1JHC</td>\n",
       "      <td>84.8095</td>\n",
       "    </tr>\n",
       "  </tbody>\n",
       "</table>\n",
       "</div>"
      ],
      "text/plain": [
       "                  id  atom_index_0  atom_index_1  type  \\\n",
       "molecule_name                                            \n",
       "dsgdb9nsd_000001   0             1             0  1JHC   \n",
       "dsgdb9nsd_000001   4             2             0  1JHC   \n",
       "dsgdb9nsd_000001   7             3             0  1JHC   \n",
       "dsgdb9nsd_000001   9             4             0  1JHC   \n",
       "\n",
       "                  scalar_coupling_constant  \n",
       "molecule_name                               \n",
       "dsgdb9nsd_000001                   84.8076  \n",
       "dsgdb9nsd_000001                   84.8074  \n",
       "dsgdb9nsd_000001                   84.8093  \n",
       "dsgdb9nsd_000001                   84.8095  "
      ]
     },
     "execution_count": 27,
     "metadata": {},
     "output_type": "execute_result"
    }
   ],
   "source": [
    "df_idx.loc['dsgdb9nsd_000001'].query('type == \"1JHC\"')"
   ]
  },
  {
   "cell_type": "code",
   "execution_count": 110,
   "metadata": {},
   "outputs": [],
   "source": [
    "ATOMS = ['H', 'C', 'N', 'O', 'F']\n",
    "mols = df['molecule_name'].unique()"
   ]
  },
  {
   "cell_type": "code",
   "execution_count": 7,
   "metadata": {},
   "outputs": [],
   "source": [
    "def get_dist_matrix(df_structures_idx, molecule):\n",
    "    df_temp = df_structures_idx.loc[molecule]\n",
    "    locs = df_temp[['x','y','z']].values\n",
    "    num_atoms = len(locs)\n",
    "    loc_tile = np.tile(locs.T, (num_atoms,1,1))\n",
    "    dist_mat = np.linalg.norm(loc_tile - loc_tile.T, axis=1)\n",
    "    return dist_mat"
   ]
  },
  {
   "cell_type": "code",
   "execution_count": 78,
   "metadata": {},
   "outputs": [],
   "source": [
    "def gen_3jpairs_list(df_idx, df_structures_idx, molecule_name, type_3J):\n",
    "    pairs_list = []\n",
    "    df_tr = df_idx.loc[molecule_name]\n",
    "    df_st = df_structures_idx.loc[molecule_name]\n",
    "    if type(df_tr) == pd.Series:\n",
    "        return []\n",
    "    \n",
    "    pairs_3J = df_tr.query('type == \"{}\"'.format(type_3J))[['atom_index_0','atom_index_1','id']].values\n",
    "    dist_matrix = get_dist_matrix(df_structures_idx, molecule_name)\n",
    "\n",
    "    for p3 in pairs_3J:\n",
    "        atom_idx_0 = p3[0]\n",
    "        con_id = p3[2]\n",
    "\n",
    "        dist_arr = dist_matrix[atom_idx_0]\n",
    "        mask = dist_arr != 0\n",
    "        dist_arr_excl_0 = dist_arr[mask]\n",
    "        masked_idx = df_st['atom_index'].values[mask]\n",
    "        atom_idx_1 = masked_idx[np.argsort(dist_arr_excl_0)[0]]\n",
    "\n",
    "        atom_idx_3 = p3[1]\n",
    "        dist_arr = dist_matrix[atom_idx_3]\n",
    "        mask = dist_arr != 0\n",
    "        dist_arr_excl_0 = dist_arr[mask]\n",
    "        masked_idx = df_st['atom_index'].values[mask]\n",
    "        atom_idx_2 = masked_idx[np.argsort(dist_arr_excl_0)[0]]        \n",
    "        \n",
    "        pair = [atom_idx_0, atom_idx_1, atom_idx_2, atom_idx_3, con_id]\n",
    "        pairs_list.append(pair)\n",
    "        \n",
    "    return pairs_list"
   ]
  },
  {
   "cell_type": "code",
   "execution_count": null,
   "metadata": {},
   "outputs": [],
   "source": [
    "def gen_3jpairs_list_r(df_idx, df_structures_idx, molecule_name, type_3J):\n",
    "    pairs_list = []\n",
    "    df_tr = df_idx.loc[molecule_name]\n",
    "    df_st = df_structures_idx.loc[molecule_name]\n",
    "    if type(df_tr) == pd.Series:\n",
    "        return []\n",
    "    \n",
    "    pairs_3J = df_tr.query('type == \"{}\"'.format(type_3J))[['atom_index_0','atom_index_1','id']].values\n",
    "    dist_matrix = get_dist_matrix(df_structures_idx, molecule_name)\n",
    "\n",
    "    for p3 in pairs_3J:\n",
    "        atom_idx_0 = p3[0]\n",
    "        con_id = p3[2]\n",
    "\n",
    "        dist_arr = dist_matrix[atom_idx_0]\n",
    "        mask = dist_arr != 0\n",
    "        dist_arr_excl_0 = dist_arr[mask]\n",
    "        masked_idx = df_st['atom_index'].values[mask]\n",
    "        atom_idx_1 = masked_idx[np.argsort(dist_arr_excl_0)[0]]\n",
    "\n",
    "        atom_idx_3 = p3[1]\n",
    "        dist_arr = dist_matrix[atom_idx_3]\n",
    "        mask = dist_arr != 0\n",
    "        dist_arr_excl_0 = dist_arr[mask]\n",
    "        masked_idx = df_st['atom_index'].values[mask]\n",
    "        atom_idx_2 = masked_idx[np.argsort(dist_arr_excl_0)[0]]        \n",
    "        \n",
    "        pair = [atom_idx_0, atom_idx_1, atom_idx_2, atom_idx_3, con_id]\n",
    "        pairs_list.append(pair)\n",
    "        \n",
    "    return pairs_list"
   ]
  },
  {
   "cell_type": "code",
   "execution_count": null,
   "metadata": {},
   "outputs": [],
   "source": []
  },
  {
   "cell_type": "markdown",
   "metadata": {},
   "source": [
    " # 1JHN, 1JHCの距離"
   ]
  },
  {
   "cell_type": "code",
   "execution_count": 50,
   "metadata": {},
   "outputs": [
    {
     "name": "stderr",
     "output_type": "stream",
     "text": [
      "/anaconda3/lib/python3.6/site-packages/matplotlib/axes/_axes.py:6462: UserWarning: The 'normed' kwarg is deprecated, and has been replaced by the 'density' kwarg.\n",
      "  warnings.warn(\"The 'normed' kwarg is deprecated, and has been \"\n",
      "/anaconda3/lib/python3.6/site-packages/matplotlib/axes/_axes.py:6462: UserWarning: The 'normed' kwarg is deprecated, and has been replaced by the 'density' kwarg.\n",
      "  warnings.warn(\"The 'normed' kwarg is deprecated, and has been \"\n"
     ]
    },
    {
     "data": {
      "image/png": "[encoded data removed]",
      "text/plain": [
       "<Figure size 432x288 with 1 Axes>"
      ]
     },
     "metadata": {},
     "output_type": "display_data"
    }
   ],
   "source": [
    "dist_arr_1JHC = np.zeros(0)\n",
    "for m in mols[:5000]:\n",
    "    dist_mat = get_dist_matrix(df_structures_idx, m)\n",
    "    if type(df_idx.loc[m]) ==  pd.Series:\n",
    "        continue\n",
    "    idx  = df_idx.loc[m].query('type == \"1JHC\"')[['atom_index_0', 'atom_index_1']].values\n",
    "    for i in idx:\n",
    "        dist_arr_1JHC = np.hstack([dist_arr_1JHC, dist_mat[i[0], i[1]]])\n",
    "        \n",
    "dist_arr_1JHN = np.zeros(0)\n",
    "for m in mols[:5000]:\n",
    "    dist_mat = get_dist_matrix(df_structures_idx, m)\n",
    "    if type(df_idx.loc[m]) ==  pd.Series:\n",
    "        continue\n",
    "    idx  = df_idx.loc[m].query('type == \"1JHN\"')[['atom_index_0', 'atom_index_1']].values\n",
    "    for i in idx:\n",
    "        dist_arr_1JHN = np.hstack([dist_arr_1JHN, dist_mat[i[0], i[1]]])\n",
    "        "
   ]
  },
  {
   "cell_type": "code",
   "execution_count": 235,
   "metadata": {},
   "outputs": [
    {
     "name": "stderr",
     "output_type": "stream",
     "text": [
      "/anaconda3/lib/python3.6/site-packages/matplotlib/axes/_axes.py:6462: UserWarning: The 'normed' kwarg is deprecated, and has been replaced by the 'density' kwarg.\n",
      "  warnings.warn(\"The 'normed' kwarg is deprecated, and has been \"\n",
      "/anaconda3/lib/python3.6/site-packages/matplotlib/axes/_axes.py:6462: UserWarning: The 'normed' kwarg is deprecated, and has been replaced by the 'density' kwarg.\n",
      "  warnings.warn(\"The 'normed' kwarg is deprecated, and has been \"\n"
     ]
    },
    {
     "data": {
      "image/png": "[encoded data removed]",
      "text/plain": [
       "<Figure size 432x288 with 1 Axes>"
      ]
     },
     "metadata": {},
     "output_type": "display_data"
    }
   ],
   "source": [
    "sns.distplot(dist_arr_1JHC, bins=100, kde=False, norm_hist=True, label='1JHC')\n",
    "sns.distplot(dist_arr_1JHN, bins=100, kde=False, norm_hist=True, label='1JHN')\n",
    "plt.legend()\n",
    "plt.show()"
   ]
  },
  {
   "cell_type": "markdown",
   "metadata": {},
   "source": [
    "# H-C-C-HのC-C距離"
   ]
  },
  {
   "cell_type": "code",
   "execution_count": 251,
   "metadata": {
    "scrolled": true
   },
   "outputs": [],
   "source": [
    "dist_arr_CC = np.zeros(0)\n",
    "\n",
    "for m in mols[:10000]: # mols[11]\n",
    "    dist_mat = get_dist_matrix(df_structures_idx, m)\n",
    "    pairs_3j = gen_3jpairs_list(df_idx, df_structures_idx, m, '3JHH') # [atom_0, atom_x, atom_y, atom_1, con_id]\n",
    "    if len(pairs_3j) == 0:\n",
    "        continue\n",
    "    center_pairs = np.array(pairs_3j)[:,1:3] #[atom_x, atom_y]\n",
    "    unique_paires = np.unique(center_pairs, axis=0) # array([[0, 1], [1, 2]])\n",
    "    center_atoms_idx = np.unique(unique_paires)  #[0 1 2]\n",
    "    atoms = df_structures_idx.loc[m]['atom'].values # ['C' 'C' 'O' 'H' 'H' 'H' 'H' 'H' 'H']\n",
    "    pickup_atoms = center_atoms_idx[atoms[center_atoms_idx] == \"C\"] # [0 1]\n",
    "\n",
    "    for p in unique_paires:\n",
    "        if np.isin(p, pickup_atoms).sum()/2 == 1:\n",
    "            dist_arr_CC = np.hstack([dist_arr_CC, dist_mat[p[0], p[1]]])\n",
    "            done_list.append(p)"
   ]
  },
  {
   "cell_type": "code",
   "execution_count": 252,
   "metadata": {},
   "outputs": [
    {
     "name": "stderr",
     "output_type": "stream",
     "text": [
      "/anaconda3/lib/python3.6/site-packages/matplotlib/axes/_axes.py:6462: UserWarning: The 'normed' kwarg is deprecated, and has been replaced by the 'density' kwarg.\n",
      "  warnings.warn(\"The 'normed' kwarg is deprecated, and has been \"\n"
     ]
    },
    {
     "data": {
      "image/png": "[encoded data removed]",
      "text/plain": [
       "<Figure size 432x288 with 1 Axes>"
      ]
     },
     "metadata": {},
     "output_type": "display_data"
    }
   ],
   "source": [
    "sns.distplot(dist_arr_CC, bins=100, kde=False, norm_hist=True, label='CC in HCCH')\n",
    "plt.legend()\n",
    "plt.show()"
   ]
  },
  {
   "cell_type": "code",
   "execution_count": 253,
   "metadata": {},
   "outputs": [],
   "source": [
    "dist_arr_CN = np.zeros(0)\n",
    "\n",
    "for m in mols[:10000]: \n",
    "    dist_mat = get_dist_matrix(df_structures_idx, m)\n",
    "    pairs_3j = gen_3jpairs_list(df_idx, df_structures_idx, m, '3JHH') \n",
    "    if len(pairs_3j) == 0:\n",
    "        continue\n",
    "    center_pairs = np.array(pairs_3j)[:,1:3] \n",
    "    unique_paires = np.unique(center_pairs, axis=0)\n",
    "    center_atoms_idx = np.unique(unique_paires)\n",
    "    atoms = df_structures_idx.loc[m]['atom'].values \n",
    "    pickup_atoms = center_atoms_idx[atoms[center_atoms_idx] == \"N\"] \n",
    "\n",
    "    for p in unique_paires:\n",
    "        if np.isin(p, pickup_atoms).sum() == 1:\n",
    "            dist_arr_CN = np.hstack([dist_arr_CN, dist_mat[p[0], p[1]]])\n",
    "            done_list.append(p)"
   ]
  },
  {
   "cell_type": "code",
   "execution_count": 254,
   "metadata": {},
   "outputs": [
    {
     "name": "stderr",
     "output_type": "stream",
     "text": [
      "/anaconda3/lib/python3.6/site-packages/matplotlib/axes/_axes.py:6462: UserWarning: The 'normed' kwarg is deprecated, and has been replaced by the 'density' kwarg.\n",
      "  warnings.warn(\"The 'normed' kwarg is deprecated, and has been \"\n",
      "/anaconda3/lib/python3.6/site-packages/matplotlib/axes/_axes.py:6462: UserWarning: The 'normed' kwarg is deprecated, and has been replaced by the 'density' kwarg.\n",
      "  warnings.warn(\"The 'normed' kwarg is deprecated, and has been \"\n",
      "/anaconda3/lib/python3.6/site-packages/matplotlib/axes/_axes.py:6462: UserWarning: The 'normed' kwarg is deprecated, and has been replaced by the 'density' kwarg.\n",
      "  warnings.warn(\"The 'normed' kwarg is deprecated, and has been \"\n",
      "/anaconda3/lib/python3.6/site-packages/matplotlib/axes/_axes.py:6462: UserWarning: The 'normed' kwarg is deprecated, and has been replaced by the 'density' kwarg.\n",
      "  warnings.warn(\"The 'normed' kwarg is deprecated, and has been \"\n"
     ]
    },
    {
     "data": {
      "image/png": "[encoded data removed]",
      "text/plain": [
       "<Figure size 432x288 with 1 Axes>"
      ]
     },
     "metadata": {},
     "output_type": "display_data"
    }
   ],
   "source": [
    "sns.distplot(dist_arr_CN, bins=100, kde=False, norm_hist=True, label='CC in HCNH')\n",
    "sns.distplot(dist_arr_CC, bins=100, kde=False, norm_hist=True, label='CN in HCCH')\n",
    "sns.distplot(dist_arr_1JHC, bins=100, kde=False, norm_hist=True, label='1JHC')\n",
    "sns.distplot(dist_arr_1JHN, bins=100, kde=False, norm_hist=True, label='1JHN')\n",
    "plt.legend()\n",
    "plt.show()"
   ]
  },
  {
   "cell_type": "code",
   "execution_count": 262,
   "metadata": {},
   "outputs": [],
   "source": []
  },
  {
   "cell_type": "markdown",
   "metadata": {},
   "source": [
    "#  H-Oは１Å未満\n",
    "max ~ 0.9820"
   ]
  },
  {
   "cell_type": "code",
   "execution_count": 272,
   "metadata": {},
   "outputs": [],
   "source": [
    "dist_arr_HO = np.zeros(0)\n",
    "\n",
    "for m in mols[:10000]:\n",
    "    atom_O_mask = df_structures_idx.loc[m]['atom'] == 'O'\n",
    "    atom_O_idx = df_structures_idx.loc[m]['atom_index'].values[atom_O_mask]\n",
    "    atom_H_mask = df_structures_idx.loc[m]['atom'] == 'H'\n",
    "    atom_H_idx = df_structures_idx.loc[m]['atom_index'].values[atom_H_mask]\n",
    "    dist_mat = get_dist_matrix(df_structures_idx, m)\n",
    "\n",
    "    if len(atom_O_idx) > 0:\n",
    "        for idx_o in atom_O_idx:\n",
    "            for idx_h in atom_H_idx:\n",
    "                dist = dist_mat[idx_o, idx_h]\n",
    "                if dist < 1.5:\n",
    "                    dist_arr_HO = np.hstack([dist_arr_HO, dist])"
   ]
  },
  {
   "cell_type": "code",
   "execution_count": 284,
   "metadata": {},
   "outputs": [
    {
     "data": {
      "text/plain": [
       "0.9820322416368512"
      ]
     },
     "execution_count": 284,
     "metadata": {},
     "output_type": "execute_result"
    }
   ],
   "source": [
    "dist_arr_HO.max()"
   ]
  },
  {
   "cell_type": "code",
   "execution_count": 273,
   "metadata": {},
   "outputs": [
    {
     "name": "stderr",
     "output_type": "stream",
     "text": [
      "/anaconda3/lib/python3.6/site-packages/matplotlib/axes/_axes.py:6462: UserWarning: The 'normed' kwarg is deprecated, and has been replaced by the 'density' kwarg.\n",
      "  warnings.warn(\"The 'normed' kwarg is deprecated, and has been \"\n"
     ]
    },
    {
     "data": {
      "image/png": "[encoded data removed]",
      "text/plain": [
       "<Figure size 432x288 with 1 Axes>"
      ]
     },
     "metadata": {},
     "output_type": "display_data"
    }
   ],
   "source": [
    "sns.distplot(dist_arr_HO, bins=100, kde=False, norm_hist=True, label='HO')\n",
    "plt.legend()\n",
    "plt.show()"
   ]
  },
  {
   "cell_type": "code",
   "execution_count": 274,
   "metadata": {},
   "outputs": [],
   "source": [
    "dist_arr_CO = np.zeros(0)\n",
    "\n",
    "for m in mols[:10000]:\n",
    "    atom_O_mask = df_structures_idx.loc[m]['atom'] == 'O'\n",
    "    atom_O_idx = df_structures_idx.loc[m]['atom_index'].values[atom_O_mask]\n",
    "    atom_C_mask = df_structures_idx.loc[m]['atom'] == 'C'\n",
    "    atom_C_idx = df_structures_idx.loc[m]['atom_index'].values[atom_C_mask]\n",
    "    dist_mat = get_dist_matrix(df_structures_idx, m)\n",
    "\n",
    "    if len(atom_O_idx) > 0:\n",
    "        for idx_o in atom_O_idx:\n",
    "            for idx_c in atom_C_idx:\n",
    "                dist = dist_mat[idx_o, idx_c]\n",
    "                if dist < 2:\n",
    "                    dist_arr_CO = np.hstack([dist_arr_CO, dist])"
   ]
  },
  {
   "cell_type": "code",
   "execution_count": 275,
   "metadata": {},
   "outputs": [
    {
     "name": "stderr",
     "output_type": "stream",
     "text": [
      "/anaconda3/lib/python3.6/site-packages/matplotlib/axes/_axes.py:6462: UserWarning: The 'normed' kwarg is deprecated, and has been replaced by the 'density' kwarg.\n",
      "  warnings.warn(\"The 'normed' kwarg is deprecated, and has been \"\n"
     ]
    },
    {
     "data": {
      "image/png": "[encoded data removed]",
      "text/plain": [
       "<Figure size 432x288 with 1 Axes>"
      ]
     },
     "metadata": {},
     "output_type": "display_data"
    }
   ],
   "source": [
    "sns.distplot(dist_arr_CO, bins=100, kde=False, norm_hist=True, label='CO')\n",
    "plt.legend()\n",
    "plt.show()"
   ]
  },
  {
   "cell_type": "code",
   "execution_count": 278,
   "metadata": {},
   "outputs": [],
   "source": [
    "dist_arr_CF = np.zeros(0)\n",
    "\n",
    "for m in mols[:20000]:\n",
    "    atom_F_mask = df_structures_idx.loc[m]['atom'] == 'F'\n",
    "    atom_F_idx = df_structures_idx.loc[m]['atom_index'].values[atom_F_mask]\n",
    "    atom_C_mask = df_structures_idx.loc[m]['atom'] == 'C'\n",
    "    atom_C_idx = df_structures_idx.loc[m]['atom_index'].values[atom_C_mask]\n",
    "    dist_mat = get_dist_matrix(df_structures_idx, m)\n",
    "\n",
    "    if len(atom_F_idx) > 0:\n",
    "        for idx_f in atom_F_idx:\n",
    "            for idx_c in atom_C_idx:\n",
    "                dist = dist_mat[idx_f, idx_c]\n",
    "                if dist < 2:\n",
    "                    dist_arr_CF = np.hstack([dist_arr_CF, dist])"
   ]
  },
  {
   "cell_type": "code",
   "execution_count": 279,
   "metadata": {},
   "outputs": [
    {
     "name": "stderr",
     "output_type": "stream",
     "text": [
      "/anaconda3/lib/python3.6/site-packages/matplotlib/axes/_axes.py:6462: UserWarning: The 'normed' kwarg is deprecated, and has been replaced by the 'density' kwarg.\n",
      "  warnings.warn(\"The 'normed' kwarg is deprecated, and has been \"\n"
     ]
    },
    {
     "data": {
      "image/png": "[encoded data removed]",
      "text/plain": [
       "<Figure size 432x288 with 1 Axes>"
      ]
     },
     "metadata": {},
     "output_type": "display_data"
    }
   ],
   "source": [
    "sns.distplot(dist_arr_CF, bins=100, kde=False, norm_hist=True, label='CF')\n",
    "plt.legend()\n",
    "plt.show()"
   ]
  },
  {
   "cell_type": "code",
   "execution_count": 359,
   "metadata": {},
   "outputs": [],
   "source": [
    "dist_arr_CN = np.zeros(0)\n",
    "\n",
    "for m in mols[:10000]:\n",
    "    atom_N_mask = df_structures_idx.loc[m]['atom'] == 'N'\n",
    "    atom_N_idx = df_structures_idx.loc[m]['atom_index'].values[atom_N_mask]\n",
    "    atom_C_mask = df_structures_idx.loc[m]['atom'] == 'C'\n",
    "    atom_C_idx = df_structures_idx.loc[m]['atom_index'].values[atom_C_mask]\n",
    "    dist_mat = get_dist_matrix(df_structures_idx, m)\n",
    "\n",
    "    if len(atom_N_idx) > 0:\n",
    "        for idx_n in atom_N_idx:\n",
    "            for idx_c in atom_C_idx:\n",
    "                dist = dist_mat[idx_n, idx_c]\n",
    "                if dist < 1.65:\n",
    "                    dist_arr_CN = np.hstack([dist_arr_CN, dist])"
   ]
  },
  {
   "cell_type": "code",
   "execution_count": 360,
   "metadata": {},
   "outputs": [
    {
     "name": "stderr",
     "output_type": "stream",
     "text": [
      "/anaconda3/lib/python3.6/site-packages/matplotlib/axes/_axes.py:6462: UserWarning: The 'normed' kwarg is deprecated, and has been replaced by the 'density' kwarg.\n",
      "  warnings.warn(\"The 'normed' kwarg is deprecated, and has been \"\n"
     ]
    },
    {
     "data": {
      "image/png": "[encoded data removed]",
      "text/plain": [
       "<Figure size 432x288 with 1 Axes>"
      ]
     },
     "metadata": {},
     "output_type": "display_data"
    }
   ],
   "source": [
    "sns.distplot(dist_arr_CN, bins=100, kde=False, norm_hist=True, label='CN')\n",
    "plt.legend()\n",
    "plt.show()"
   ]
  },
  {
   "cell_type": "code",
   "execution_count": 362,
   "metadata": {},
   "outputs": [
    {
     "data": {
      "text/plain": [
       "[[8, 0, 11, 2, 477258],\n",
       " [9, 0, 11, 2, 477262],\n",
       " [10, 0, 11, 2, 477265],\n",
       " [11, 2, 8, 0, 477266],\n",
       " [11, 2, 14, 5, 477269],\n",
       " [12, 3, 14, 5, 477275],\n",
       " [12, 3, 7, 6, 477276],\n",
       " [13, 3, 14, 5, 477280],\n",
       " [13, 3, 7, 6, 477281],\n",
       " [14, 5, 11, 2, 477282],\n",
       " [14, 5, 12, 3, 477283],\n",
       " [15, 5, 11, 2, 477287],\n",
       " [15, 5, 12, 3, 477288]]"
      ]
     },
     "execution_count": 362,
     "metadata": {},
     "output_type": "execute_result"
    }
   ],
   "source": [
    "pairs_3j = gen_3jpairs_list(df_idx, df_structures_idx, m, '3JHC') \n",
    "pairs_3j "
   ]
  },
  {
   "cell_type": "code",
   "execution_count": 363,
   "metadata": {},
   "outputs": [
    {
     "data": {
      "text/html": [
       "<div>\n",
       "<style scoped>\n",
       "    .dataframe tbody tr th:only-of-type {\n",
       "        vertical-align: middle;\n",
       "    }\n",
       "\n",
       "    .dataframe tbody tr th {\n",
       "        vertical-align: top;\n",
       "    }\n",
       "\n",
       "    .dataframe thead th {\n",
       "        text-align: right;\n",
       "    }\n",
       "</style>\n",
       "<table border=\"1\" class=\"dataframe\">\n",
       "  <thead>\n",
       "    <tr style=\"text-align: right;\">\n",
       "      <th></th>\n",
       "      <th>atom_index</th>\n",
       "      <th>atom</th>\n",
       "      <th>x</th>\n",
       "      <th>y</th>\n",
       "      <th>z</th>\n",
       "    </tr>\n",
       "    <tr>\n",
       "      <th>molecule_name</th>\n",
       "      <th></th>\n",
       "      <th></th>\n",
       "      <th></th>\n",
       "      <th></th>\n",
       "      <th></th>\n",
       "    </tr>\n",
       "  </thead>\n",
       "  <tbody>\n",
       "    <tr>\n",
       "      <th>dsgdb9nsd_015696</th>\n",
       "      <td>0</td>\n",
       "      <td>C</td>\n",
       "      <td>-0.060062</td>\n",
       "      <td>1.444174</td>\n",
       "      <td>0.069427</td>\n",
       "    </tr>\n",
       "    <tr>\n",
       "      <th>dsgdb9nsd_015696</th>\n",
       "      <td>1</td>\n",
       "      <td>O</td>\n",
       "      <td>-0.023836</td>\n",
       "      <td>0.047136</td>\n",
       "      <td>-0.183335</td>\n",
       "    </tr>\n",
       "    <tr>\n",
       "      <th>dsgdb9nsd_015696</th>\n",
       "      <td>2</td>\n",
       "      <td>C</td>\n",
       "      <td>-1.252202</td>\n",
       "      <td>-0.603088</td>\n",
       "      <td>-0.015204</td>\n",
       "    </tr>\n",
       "    <tr>\n",
       "      <th>dsgdb9nsd_015696</th>\n",
       "      <td>3</td>\n",
       "      <td>C</td>\n",
       "      <td>-1.219785</td>\n",
       "      <td>-2.012735</td>\n",
       "      <td>-0.614319</td>\n",
       "    </tr>\n",
       "    <tr>\n",
       "      <th>dsgdb9nsd_015696</th>\n",
       "      <td>4</td>\n",
       "      <td>O</td>\n",
       "      <td>-2.189918</td>\n",
       "      <td>-2.753974</td>\n",
       "      <td>0.123268</td>\n",
       "    </tr>\n",
       "    <tr>\n",
       "      <th>dsgdb9nsd_015696</th>\n",
       "      <td>5</td>\n",
       "      <td>C</td>\n",
       "      <td>-2.097433</td>\n",
       "      <td>-2.358430</td>\n",
       "      <td>1.480240</td>\n",
       "    </tr>\n",
       "    <tr>\n",
       "      <th>dsgdb9nsd_015696</th>\n",
       "      <td>6</td>\n",
       "      <td>C</td>\n",
       "      <td>-1.605317</td>\n",
       "      <td>-0.912391</td>\n",
       "      <td>1.457547</td>\n",
       "    </tr>\n",
       "    <tr>\n",
       "      <th>dsgdb9nsd_015696</th>\n",
       "      <td>7</td>\n",
       "      <td>O</td>\n",
       "      <td>-1.469846</td>\n",
       "      <td>-0.179005</td>\n",
       "      <td>2.400994</td>\n",
       "    </tr>\n",
       "    <tr>\n",
       "      <th>dsgdb9nsd_015696</th>\n",
       "      <td>8</td>\n",
       "      <td>H</td>\n",
       "      <td>0.940027</td>\n",
       "      <td>1.825635</td>\n",
       "      <td>-0.147686</td>\n",
       "    </tr>\n",
       "    <tr>\n",
       "      <th>dsgdb9nsd_015696</th>\n",
       "      <td>9</td>\n",
       "      <td>H</td>\n",
       "      <td>-0.784200</td>\n",
       "      <td>1.944797</td>\n",
       "      <td>-0.591796</td>\n",
       "    </tr>\n",
       "    <tr>\n",
       "      <th>dsgdb9nsd_015696</th>\n",
       "      <td>10</td>\n",
       "      <td>H</td>\n",
       "      <td>-0.317754</td>\n",
       "      <td>1.660207</td>\n",
       "      <td>1.110685</td>\n",
       "    </tr>\n",
       "    <tr>\n",
       "      <th>dsgdb9nsd_015696</th>\n",
       "      <td>11</td>\n",
       "      <td>H</td>\n",
       "      <td>-2.082729</td>\n",
       "      <td>-0.021733</td>\n",
       "      <td>-0.452377</td>\n",
       "    </tr>\n",
       "    <tr>\n",
       "      <th>dsgdb9nsd_015696</th>\n",
       "      <td>12</td>\n",
       "      <td>H</td>\n",
       "      <td>-1.500030</td>\n",
       "      <td>-2.055819</td>\n",
       "      <td>-1.667516</td>\n",
       "    </tr>\n",
       "    <tr>\n",
       "      <th>dsgdb9nsd_015696</th>\n",
       "      <td>13</td>\n",
       "      <td>H</td>\n",
       "      <td>-0.207349</td>\n",
       "      <td>-2.428449</td>\n",
       "      <td>-0.494448</td>\n",
       "    </tr>\n",
       "    <tr>\n",
       "      <th>dsgdb9nsd_015696</th>\n",
       "      <td>14</td>\n",
       "      <td>H</td>\n",
       "      <td>-3.076327</td>\n",
       "      <td>-2.455415</td>\n",
       "      <td>1.958463</td>\n",
       "    </tr>\n",
       "    <tr>\n",
       "      <th>dsgdb9nsd_015696</th>\n",
       "      <td>15</td>\n",
       "      <td>H</td>\n",
       "      <td>-1.375538</td>\n",
       "      <td>-2.971632</td>\n",
       "      <td>2.045617</td>\n",
       "    </tr>\n",
       "  </tbody>\n",
       "</table>\n",
       "</div>"
      ],
      "text/plain": [
       "                  atom_index atom         x         y         z\n",
       "molecule_name                                                  \n",
       "dsgdb9nsd_015696           0    C -0.060062  1.444174  0.069427\n",
       "dsgdb9nsd_015696           1    O -0.023836  0.047136 -0.183335\n",
       "dsgdb9nsd_015696           2    C -1.252202 -0.603088 -0.015204\n",
       "dsgdb9nsd_015696           3    C -1.219785 -2.012735 -0.614319\n",
       "dsgdb9nsd_015696           4    O -2.189918 -2.753974  0.123268\n",
       "dsgdb9nsd_015696           5    C -2.097433 -2.358430  1.480240\n",
       "dsgdb9nsd_015696           6    C -1.605317 -0.912391  1.457547\n",
       "dsgdb9nsd_015696           7    O -1.469846 -0.179005  2.400994\n",
       "dsgdb9nsd_015696           8    H  0.940027  1.825635 -0.147686\n",
       "dsgdb9nsd_015696           9    H -0.784200  1.944797 -0.591796\n",
       "dsgdb9nsd_015696          10    H -0.317754  1.660207  1.110685\n",
       "dsgdb9nsd_015696          11    H -2.082729 -0.021733 -0.452377\n",
       "dsgdb9nsd_015696          12    H -1.500030 -2.055819 -1.667516\n",
       "dsgdb9nsd_015696          13    H -0.207349 -2.428449 -0.494448\n",
       "dsgdb9nsd_015696          14    H -3.076327 -2.455415  1.958463\n",
       "dsgdb9nsd_015696          15    H -1.375538 -2.971632  2.045617"
      ]
     },
     "execution_count": 363,
     "metadata": {},
     "output_type": "execute_result"
    }
   ],
   "source": [
    "df_structures_idx.loc[ m]"
   ]
  },
  {
   "cell_type": "code",
   "execution_count": 280,
   "metadata": {},
   "outputs": [],
   "source": [
    "dist_arr_CCC = np.zeros(0)\n",
    "\n",
    "for m in mols[:10000]: \n",
    "    dist_mat = get_dist_matrix(df_structures_idx, m)\n",
    "    pairs_3j = gen_3jpairs_list(df_idx, df_structures_idx, m, '3JHC') \n",
    "    if len(pairs_3j) == 0:\n",
    "        continue\n",
    "    center_pairs = np.array(pairs_3j)[:,1:3] \n",
    "    unique_paires = np.unique(center_pairs, axis=0)\n",
    "    center_atoms_idx = np.unique(unique_paires)\n",
    "    atoms = df_structures_idx.loc[m]['atom'].values \n",
    "    pickup_atoms = center_atoms_idx[atoms[center_atoms_idx] == \"C\"] \n",
    "\n",
    "    for p in unique_paires:\n",
    "        if np.isin(p, pickup_atoms).sum() / 2 == 1:\n",
    "            dist_arr_CCC = np.hstack([dist_arr_CCC, dist_mat[p[0], p[1]]])\n",
    "            done_list.append(p)"
   ]
  },
  {
   "cell_type": "code",
   "execution_count": 281,
   "metadata": {},
   "outputs": [
    {
     "name": "stderr",
     "output_type": "stream",
     "text": [
      "/anaconda3/lib/python3.6/site-packages/matplotlib/axes/_axes.py:6462: UserWarning: The 'normed' kwarg is deprecated, and has been replaced by the 'density' kwarg.\n",
      "  warnings.warn(\"The 'normed' kwarg is deprecated, and has been \"\n"
     ]
    },
    {
     "data": {
      "image/png": "[encoded data removed]",
      "text/plain": [
       "<Figure size 432x288 with 1 Axes>"
      ]
     },
     "metadata": {},
     "output_type": "display_data"
    }
   ],
   "source": [
    "sns.distplot(dist_arr_CCC, bins=100, kde=False, norm_hist=True, label='CC in CCC')\n",
    "plt.legend()\n",
    "plt.show()"
   ]
  },
  {
   "cell_type": "code",
   "execution_count": 282,
   "metadata": {},
   "outputs": [],
   "source": [
    "dist_arr_CCN = np.zeros(0)\n",
    "\n",
    "for m in mols[:10000]: \n",
    "    dist_mat = get_dist_matrix(df_structures_idx, m)\n",
    "    pairs_3j = gen_3jpairs_list(df_idx, df_structures_idx, m, '3JHN') \n",
    "    if len(pairs_3j) == 0:\n",
    "        continue\n",
    "    center_pairs = np.array(pairs_3j)[:,1:3] \n",
    "    unique_paires = np.unique(center_pairs, axis=0)\n",
    "    center_atoms_idx = np.unique(unique_paires)\n",
    "    atoms = df_structures_idx.loc[m]['atom'].values \n",
    "    pickup_atoms = center_atoms_idx[atoms[center_atoms_idx] == \"C\"] \n",
    "\n",
    "    for p in unique_paires:\n",
    "        if np.isin(p, pickup_atoms).sum() / 2 == 1:\n",
    "            dist_arr_CCN = np.hstack([dist_arr_CCN, dist_mat[p[0], p[1]]])\n",
    "            done_list.append(p)"
   ]
  },
  {
   "cell_type": "code",
   "execution_count": 283,
   "metadata": {},
   "outputs": [
    {
     "name": "stderr",
     "output_type": "stream",
     "text": [
      "/anaconda3/lib/python3.6/site-packages/matplotlib/axes/_axes.py:6462: UserWarning: The 'normed' kwarg is deprecated, and has been replaced by the 'density' kwarg.\n",
      "  warnings.warn(\"The 'normed' kwarg is deprecated, and has been \"\n"
     ]
    },
    {
     "data": {
      "image/png": "[encoded data removed]",
      "text/plain": [
       "<Figure size 432x288 with 1 Axes>"
      ]
     },
     "metadata": {},
     "output_type": "display_data"
    }
   ],
   "source": [
    "sns.distplot(dist_arr_CCN, bins=100, kde=False, norm_hist=True, label='CC in CCN')\n",
    "plt.legend()\n",
    "plt.show()"
   ]
  },
  {
   "cell_type": "code",
   "execution_count": 449,
   "metadata": {},
   "outputs": [
    {
     "data": {
      "text/plain": [
       "[[9, 3, array([1]), 0, 25129], [10, 3, array([1]), 0, 25137]]"
      ]
     },
     "execution_count": 449,
     "metadata": {},
     "output_type": "execute_result"
    }
   ],
   "source": [
    "gen_3JHN_list(df_idx, df_structures_idx, mols[726])"
   ]
  },
  {
   "cell_type": "code",
   "execution_count": 450,
   "metadata": {},
   "outputs": [
    {
     "data": {
      "text/html": [
       "<div>\n",
       "<style scoped>\n",
       "    .dataframe tbody tr th:only-of-type {\n",
       "        vertical-align: middle;\n",
       "    }\n",
       "\n",
       "    .dataframe tbody tr th {\n",
       "        vertical-align: top;\n",
       "    }\n",
       "\n",
       "    .dataframe thead th {\n",
       "        text-align: right;\n",
       "    }\n",
       "</style>\n",
       "<table border=\"1\" class=\"dataframe\">\n",
       "  <thead>\n",
       "    <tr style=\"text-align: right;\">\n",
       "      <th></th>\n",
       "      <th>id</th>\n",
       "      <th>atom_index_0</th>\n",
       "      <th>atom_index_1</th>\n",
       "      <th>type</th>\n",
       "      <th>scalar_coupling_constant</th>\n",
       "    </tr>\n",
       "    <tr>\n",
       "      <th>molecule_name</th>\n",
       "      <th></th>\n",
       "      <th></th>\n",
       "      <th></th>\n",
       "      <th></th>\n",
       "      <th></th>\n",
       "    </tr>\n",
       "  </thead>\n",
       "  <tbody>\n",
       "    <tr>\n",
       "      <th>dsgdb9nsd_001226</th>\n",
       "      <td>25129</td>\n",
       "      <td>9</td>\n",
       "      <td>0</td>\n",
       "      <td>3JHN</td>\n",
       "      <td>-0.145674</td>\n",
       "    </tr>\n",
       "    <tr>\n",
       "      <th>dsgdb9nsd_001226</th>\n",
       "      <td>25137</td>\n",
       "      <td>10</td>\n",
       "      <td>0</td>\n",
       "      <td>3JHN</td>\n",
       "      <td>0.237174</td>\n",
       "    </tr>\n",
       "  </tbody>\n",
       "</table>\n",
       "</div>"
      ],
      "text/plain": [
       "                     id  atom_index_0  atom_index_1  type  \\\n",
       "molecule_name                                               \n",
       "dsgdb9nsd_001226  25129             9             0  3JHN   \n",
       "dsgdb9nsd_001226  25137            10             0  3JHN   \n",
       "\n",
       "                  scalar_coupling_constant  \n",
       "molecule_name                               \n",
       "dsgdb9nsd_001226                 -0.145674  \n",
       "dsgdb9nsd_001226                  0.237174  "
      ]
     },
     "execution_count": 450,
     "metadata": {},
     "output_type": "execute_result"
    }
   ],
   "source": [
    "df_idx.loc[mols[726]].query('type == \"3JHN\"')"
   ]
  },
  {
   "cell_type": "code",
   "execution_count": 448,
   "metadata": {},
   "outputs": [],
   "source": [
    "def gen_3JHN_list(df_idx, df_structures_idx, molecule_name):\n",
    "    pairs_list = []\n",
    "    df_tr = df_idx.loc[molecule_name]\n",
    "    df_st = df_structures_idx.loc[molecule_name]\n",
    "\n",
    "    if type(df_tr) == pd.Series:\n",
    "        return []\n",
    "\n",
    "    pairs_3J = df_tr.query('type == \"{}\"'.format('3JHN'))[['atom_index_0','atom_index_1','id']].values\n",
    "    dist_matrix = get_dist_matrix(df_structures_idx, molecule_name)\n",
    "\n",
    "    for p3 in pairs_3J:\n",
    "        atom_idx_0 = p3[0] \n",
    "        con_id = p3[2] \n",
    "\n",
    "        dist_arr = dist_matrix[atom_idx_0] \n",
    "        mask = dist_arr != 0\n",
    "        dist_arr_excl_0 = dist_arr[mask]\n",
    "        masked_idx = df_st['atom_index'].values[mask]\n",
    "        print()\n",
    "        atom_idx_1 = masked_idx[np.argsort(dist_arr_excl_0)[0]]\n",
    "\n",
    "        atom_idx_3 = p3[1]\n",
    "        dist_arr = dist_matrix[atom_idx_3]\n",
    "        atom_idx_2 = np.arange(len(dist_arr))[(dist_arr > 1.1) * (dist_arr < 1.65)]\n",
    "\n",
    "        pair = [atom_idx_0, atom_idx_1, atom_idx_2, atom_idx_3, con_id]\n",
    "        pairs_list.append(pair)\n",
    "\n",
    "    return pairs_list"
   ]
  },
  {
   "cell_type": "code",
   "execution_count": 426,
   "metadata": {},
   "outputs": [],
   "source": [
    "dist_arr_CCN = np.zeros(0)\n",
    "\n",
    "for m in mols[:10000]: \n",
    "    dist_mat = get_dist_matrix(df_structures_idx, m)\n",
    "    pairs_3j = gen_3JHN_list(df_idx, df_structures_idx, m) \n",
    "    if len(pairs_3j) == 0:\n",
    "        continue\n",
    "    center_pairs = np.array(pairs_3j)[:,1:3] \n",
    "    unique_paires = np.unique(center_pairs, axis=0)\n",
    "    center_atoms_idx = np.unique(unique_paires)\n",
    "    atoms = df_structures_idx.loc[m]['atom'].values \n",
    "    pickup_atoms = center_atoms_idx[atoms[center_atoms_idx] == \"C\"] \n",
    "\n",
    "    for p in unique_paires:\n",
    "        if np.isin(p, pickup_atoms).sum() / 2 == 1:\n",
    "            dist_arr_CCN = np.hstack([dist_arr_CCN, dist_mat[p[0], p[1]]])\n",
    "            done_list.append(p)"
   ]
  },
  {
   "cell_type": "code",
   "execution_count": 427,
   "metadata": {},
   "outputs": [
    {
     "name": "stderr",
     "output_type": "stream",
     "text": [
      "/anaconda3/lib/python3.6/site-packages/matplotlib/axes/_axes.py:6462: UserWarning: The 'normed' kwarg is deprecated, and has been replaced by the 'density' kwarg.\n",
      "  warnings.warn(\"The 'normed' kwarg is deprecated, and has been \"\n"
     ]
    },
    {
     "data": {
      "image/png": "[encoded data removed]",
      "text/plain": [
       "<Figure size 432x288 with 1 Axes>"
      ]
     },
     "metadata": {},
     "output_type": "display_data"
    }
   ],
   "source": [
    "sns.distplot(dist_arr_CCN, bins=100, kde=False, norm_hist=True, label='CC in CCN')\n",
    "plt.legend()\n",
    "plt.show()"
   ]
  },
  {
   "cell_type": "code",
   "execution_count": null,
   "metadata": {},
   "outputs": [],
   "source": []
  },
  {
   "cell_type": "code",
   "execution_count": null,
   "metadata": {},
   "outputs": [],
   "source": []
  },
  {
   "cell_type": "code",
   "execution_count": null,
   "metadata": {},
   "outputs": [],
   "source": []
  },
  {
   "cell_type": "code",
   "execution_count": 393,
   "metadata": {},
   "outputs": [
    {
     "data": {
      "text/html": [
       "<div>\n",
       "<style scoped>\n",
       "    .dataframe tbody tr th:only-of-type {\n",
       "        vertical-align: middle;\n",
       "    }\n",
       "\n",
       "    .dataframe tbody tr th {\n",
       "        vertical-align: top;\n",
       "    }\n",
       "\n",
       "    .dataframe thead th {\n",
       "        text-align: right;\n",
       "    }\n",
       "</style>\n",
       "<table border=\"1\" class=\"dataframe\">\n",
       "  <thead>\n",
       "    <tr style=\"text-align: right;\">\n",
       "      <th></th>\n",
       "      <th>atom_index</th>\n",
       "      <th>atom</th>\n",
       "      <th>x</th>\n",
       "      <th>y</th>\n",
       "      <th>z</th>\n",
       "    </tr>\n",
       "    <tr>\n",
       "      <th>molecule_name</th>\n",
       "      <th></th>\n",
       "      <th></th>\n",
       "      <th></th>\n",
       "      <th></th>\n",
       "      <th></th>\n",
       "    </tr>\n",
       "  </thead>\n",
       "  <tbody>\n",
       "    <tr>\n",
       "      <th>dsgdb9nsd_001226</th>\n",
       "      <td>0</td>\n",
       "      <td>N</td>\n",
       "      <td>-0.002783</td>\n",
       "      <td>1.333535</td>\n",
       "      <td>-0.105165</td>\n",
       "    </tr>\n",
       "    <tr>\n",
       "      <th>dsgdb9nsd_001226</th>\n",
       "      <td>1</td>\n",
       "      <td>C</td>\n",
       "      <td>0.037218</td>\n",
       "      <td>0.005121</td>\n",
       "      <td>0.193069</td>\n",
       "    </tr>\n",
       "    <tr>\n",
       "      <th>dsgdb9nsd_001226</th>\n",
       "      <td>2</td>\n",
       "      <td>O</td>\n",
       "      <td>1.039985</td>\n",
       "      <td>-0.545392</td>\n",
       "      <td>0.603198</td>\n",
       "    </tr>\n",
       "    <tr>\n",
       "      <th>dsgdb9nsd_001226</th>\n",
       "      <td>3</td>\n",
       "      <td>C</td>\n",
       "      <td>-1.289704</td>\n",
       "      <td>-0.736839</td>\n",
       "      <td>0.005649</td>\n",
       "    </tr>\n",
       "    <tr>\n",
       "      <th>dsgdb9nsd_001226</th>\n",
       "      <td>4</td>\n",
       "      <td>C</td>\n",
       "      <td>-1.061964</td>\n",
       "      <td>-2.218071</td>\n",
       "      <td>-0.317705</td>\n",
       "    </tr>\n",
       "    <tr>\n",
       "      <th>dsgdb9nsd_001226</th>\n",
       "      <td>5</td>\n",
       "      <td>C</td>\n",
       "      <td>-2.283752</td>\n",
       "      <td>-3.056935</td>\n",
       "      <td>-0.036199</td>\n",
       "    </tr>\n",
       "    <tr>\n",
       "      <th>dsgdb9nsd_001226</th>\n",
       "      <td>6</td>\n",
       "      <td>O</td>\n",
       "      <td>-2.794744</td>\n",
       "      <td>-3.825456</td>\n",
       "      <td>-0.808512</td>\n",
       "    </tr>\n",
       "    <tr>\n",
       "      <th>dsgdb9nsd_001226</th>\n",
       "      <td>7</td>\n",
       "      <td>H</td>\n",
       "      <td>0.829637</td>\n",
       "      <td>1.882072</td>\n",
       "      <td>0.035786</td>\n",
       "    </tr>\n",
       "    <tr>\n",
       "      <th>dsgdb9nsd_001226</th>\n",
       "      <td>8</td>\n",
       "      <td>H</td>\n",
       "      <td>-0.828296</td>\n",
       "      <td>1.784777</td>\n",
       "      <td>-0.456688</td>\n",
       "    </tr>\n",
       "    <tr>\n",
       "      <th>dsgdb9nsd_001226</th>\n",
       "      <td>9</td>\n",
       "      <td>H</td>\n",
       "      <td>-1.839979</td>\n",
       "      <td>-0.642802</td>\n",
       "      <td>0.952789</td>\n",
       "    </tr>\n",
       "    <tr>\n",
       "      <th>dsgdb9nsd_001226</th>\n",
       "      <td>10</td>\n",
       "      <td>H</td>\n",
       "      <td>-1.905375</td>\n",
       "      <td>-0.253525</td>\n",
       "      <td>-0.760461</td>\n",
       "    </tr>\n",
       "    <tr>\n",
       "      <th>dsgdb9nsd_001226</th>\n",
       "      <td>11</td>\n",
       "      <td>H</td>\n",
       "      <td>-0.754235</td>\n",
       "      <td>-2.368036</td>\n",
       "      <td>-1.355585</td>\n",
       "    </tr>\n",
       "    <tr>\n",
       "      <th>dsgdb9nsd_001226</th>\n",
       "      <td>12</td>\n",
       "      <td>H</td>\n",
       "      <td>-0.246609</td>\n",
       "      <td>-2.566547</td>\n",
       "      <td>0.331168</td>\n",
       "    </tr>\n",
       "    <tr>\n",
       "      <th>dsgdb9nsd_001226</th>\n",
       "      <td>13</td>\n",
       "      <td>H</td>\n",
       "      <td>-2.701080</td>\n",
       "      <td>-2.915600</td>\n",
       "      <td>0.990715</td>\n",
       "    </tr>\n",
       "  </tbody>\n",
       "</table>\n",
       "</div>"
      ],
      "text/plain": [
       "                  atom_index atom         x         y         z\n",
       "molecule_name                                                  \n",
       "dsgdb9nsd_001226           0    N -0.002783  1.333535 -0.105165\n",
       "dsgdb9nsd_001226           1    C  0.037218  0.005121  0.193069\n",
       "dsgdb9nsd_001226           2    O  1.039985 -0.545392  0.603198\n",
       "dsgdb9nsd_001226           3    C -1.289704 -0.736839  0.005649\n",
       "dsgdb9nsd_001226           4    C -1.061964 -2.218071 -0.317705\n",
       "dsgdb9nsd_001226           5    C -2.283752 -3.056935 -0.036199\n",
       "dsgdb9nsd_001226           6    O -2.794744 -3.825456 -0.808512\n",
       "dsgdb9nsd_001226           7    H  0.829637  1.882072  0.035786\n",
       "dsgdb9nsd_001226           8    H -0.828296  1.784777 -0.456688\n",
       "dsgdb9nsd_001226           9    H -1.839979 -0.642802  0.952789\n",
       "dsgdb9nsd_001226          10    H -1.905375 -0.253525 -0.760461\n",
       "dsgdb9nsd_001226          11    H -0.754235 -2.368036 -1.355585\n",
       "dsgdb9nsd_001226          12    H -0.246609 -2.566547  0.331168\n",
       "dsgdb9nsd_001226          13    H -2.701080 -2.915600  0.990715"
      ]
     },
     "execution_count": 393,
     "metadata": {},
     "output_type": "execute_result"
    }
   ],
   "source": [
    "df_structures_idx.loc[mols[726]]"
   ]
  },
  {
   "cell_type": "code",
   "execution_count": 394,
   "metadata": {},
   "outputs": [
    {
     "data": {
      "text/html": [
       "<div>\n",
       "<style scoped>\n",
       "    .dataframe tbody tr th:only-of-type {\n",
       "        vertical-align: middle;\n",
       "    }\n",
       "\n",
       "    .dataframe tbody tr th {\n",
       "        vertical-align: top;\n",
       "    }\n",
       "\n",
       "    .dataframe thead th {\n",
       "        text-align: right;\n",
       "    }\n",
       "</style>\n",
       "<table border=\"1\" class=\"dataframe\">\n",
       "  <thead>\n",
       "    <tr style=\"text-align: right;\">\n",
       "      <th></th>\n",
       "      <th>id</th>\n",
       "      <th>atom_index_0</th>\n",
       "      <th>atom_index_1</th>\n",
       "      <th>type</th>\n",
       "      <th>scalar_coupling_constant</th>\n",
       "    </tr>\n",
       "    <tr>\n",
       "      <th>molecule_name</th>\n",
       "      <th></th>\n",
       "      <th></th>\n",
       "      <th></th>\n",
       "      <th></th>\n",
       "      <th></th>\n",
       "    </tr>\n",
       "  </thead>\n",
       "  <tbody>\n",
       "    <tr>\n",
       "      <th>dsgdb9nsd_001226</th>\n",
       "      <td>25122</td>\n",
       "      <td>7</td>\n",
       "      <td>0</td>\n",
       "      <td>1JHN</td>\n",
       "      <td>57.697300</td>\n",
       "    </tr>\n",
       "    <tr>\n",
       "      <th>dsgdb9nsd_001226</th>\n",
       "      <td>25123</td>\n",
       "      <td>7</td>\n",
       "      <td>1</td>\n",
       "      <td>2JHC</td>\n",
       "      <td>-3.165230</td>\n",
       "    </tr>\n",
       "    <tr>\n",
       "      <th>dsgdb9nsd_001226</th>\n",
       "      <td>25124</td>\n",
       "      <td>7</td>\n",
       "      <td>3</td>\n",
       "      <td>3JHC</td>\n",
       "      <td>6.352630</td>\n",
       "    </tr>\n",
       "    <tr>\n",
       "      <th>dsgdb9nsd_001226</th>\n",
       "      <td>25125</td>\n",
       "      <td>7</td>\n",
       "      <td>8</td>\n",
       "      <td>2JHH</td>\n",
       "      <td>5.338260</td>\n",
       "    </tr>\n",
       "    <tr>\n",
       "      <th>dsgdb9nsd_001226</th>\n",
       "      <td>25126</td>\n",
       "      <td>8</td>\n",
       "      <td>0</td>\n",
       "      <td>1JHN</td>\n",
       "      <td>56.718900</td>\n",
       "    </tr>\n",
       "    <tr>\n",
       "      <th>dsgdb9nsd_001226</th>\n",
       "      <td>25127</td>\n",
       "      <td>8</td>\n",
       "      <td>1</td>\n",
       "      <td>2JHC</td>\n",
       "      <td>5.627870</td>\n",
       "    </tr>\n",
       "    <tr>\n",
       "      <th>dsgdb9nsd_001226</th>\n",
       "      <td>25128</td>\n",
       "      <td>8</td>\n",
       "      <td>3</td>\n",
       "      <td>3JHC</td>\n",
       "      <td>0.883449</td>\n",
       "    </tr>\n",
       "    <tr>\n",
       "      <th>dsgdb9nsd_001226</th>\n",
       "      <td>25129</td>\n",
       "      <td>9</td>\n",
       "      <td>0</td>\n",
       "      <td>3JHN</td>\n",
       "      <td>-0.145674</td>\n",
       "    </tr>\n",
       "    <tr>\n",
       "      <th>dsgdb9nsd_001226</th>\n",
       "      <td>25130</td>\n",
       "      <td>9</td>\n",
       "      <td>1</td>\n",
       "      <td>2JHC</td>\n",
       "      <td>-4.957040</td>\n",
       "    </tr>\n",
       "    <tr>\n",
       "      <th>dsgdb9nsd_001226</th>\n",
       "      <td>25131</td>\n",
       "      <td>9</td>\n",
       "      <td>3</td>\n",
       "      <td>1JHC</td>\n",
       "      <td>82.322100</td>\n",
       "    </tr>\n",
       "    <tr>\n",
       "      <th>dsgdb9nsd_001226</th>\n",
       "      <td>25132</td>\n",
       "      <td>9</td>\n",
       "      <td>4</td>\n",
       "      <td>2JHC</td>\n",
       "      <td>-2.778040</td>\n",
       "    </tr>\n",
       "    <tr>\n",
       "      <th>dsgdb9nsd_001226</th>\n",
       "      <td>25133</td>\n",
       "      <td>9</td>\n",
       "      <td>5</td>\n",
       "      <td>3JHC</td>\n",
       "      <td>6.290210</td>\n",
       "    </tr>\n",
       "    <tr>\n",
       "      <th>dsgdb9nsd_001226</th>\n",
       "      <td>25134</td>\n",
       "      <td>9</td>\n",
       "      <td>10</td>\n",
       "      <td>2JHH</td>\n",
       "      <td>-13.607000</td>\n",
       "    </tr>\n",
       "    <tr>\n",
       "      <th>dsgdb9nsd_001226</th>\n",
       "      <td>25135</td>\n",
       "      <td>9</td>\n",
       "      <td>11</td>\n",
       "      <td>3JHH</td>\n",
       "      <td>10.746800</td>\n",
       "    </tr>\n",
       "    <tr>\n",
       "      <th>dsgdb9nsd_001226</th>\n",
       "      <td>25136</td>\n",
       "      <td>9</td>\n",
       "      <td>12</td>\n",
       "      <td>3JHH</td>\n",
       "      <td>1.513590</td>\n",
       "    </tr>\n",
       "    <tr>\n",
       "      <th>dsgdb9nsd_001226</th>\n",
       "      <td>25137</td>\n",
       "      <td>10</td>\n",
       "      <td>0</td>\n",
       "      <td>3JHN</td>\n",
       "      <td>0.237174</td>\n",
       "    </tr>\n",
       "    <tr>\n",
       "      <th>dsgdb9nsd_001226</th>\n",
       "      <td>25138</td>\n",
       "      <td>10</td>\n",
       "      <td>1</td>\n",
       "      <td>2JHC</td>\n",
       "      <td>-2.156870</td>\n",
       "    </tr>\n",
       "    <tr>\n",
       "      <th>dsgdb9nsd_001226</th>\n",
       "      <td>25139</td>\n",
       "      <td>10</td>\n",
       "      <td>3</td>\n",
       "      <td>1JHC</td>\n",
       "      <td>80.364200</td>\n",
       "    </tr>\n",
       "    <tr>\n",
       "      <th>dsgdb9nsd_001226</th>\n",
       "      <td>25140</td>\n",
       "      <td>10</td>\n",
       "      <td>4</td>\n",
       "      <td>2JHC</td>\n",
       "      <td>-0.227756</td>\n",
       "    </tr>\n",
       "    <tr>\n",
       "      <th>dsgdb9nsd_001226</th>\n",
       "      <td>25141</td>\n",
       "      <td>10</td>\n",
       "      <td>5</td>\n",
       "      <td>3JHC</td>\n",
       "      <td>0.162307</td>\n",
       "    </tr>\n",
       "    <tr>\n",
       "      <th>dsgdb9nsd_001226</th>\n",
       "      <td>25142</td>\n",
       "      <td>10</td>\n",
       "      <td>11</td>\n",
       "      <td>3JHH</td>\n",
       "      <td>5.680270</td>\n",
       "    </tr>\n",
       "    <tr>\n",
       "      <th>dsgdb9nsd_001226</th>\n",
       "      <td>25143</td>\n",
       "      <td>10</td>\n",
       "      <td>12</td>\n",
       "      <td>3JHH</td>\n",
       "      <td>10.542200</td>\n",
       "    </tr>\n",
       "    <tr>\n",
       "      <th>dsgdb9nsd_001226</th>\n",
       "      <td>25144</td>\n",
       "      <td>11</td>\n",
       "      <td>1</td>\n",
       "      <td>3JHC</td>\n",
       "      <td>0.240273</td>\n",
       "    </tr>\n",
       "    <tr>\n",
       "      <th>dsgdb9nsd_001226</th>\n",
       "      <td>25145</td>\n",
       "      <td>11</td>\n",
       "      <td>3</td>\n",
       "      <td>2JHC</td>\n",
       "      <td>-0.029678</td>\n",
       "    </tr>\n",
       "    <tr>\n",
       "      <th>dsgdb9nsd_001226</th>\n",
       "      <td>25146</td>\n",
       "      <td>11</td>\n",
       "      <td>4</td>\n",
       "      <td>1JHC</td>\n",
       "      <td>85.638200</td>\n",
       "    </tr>\n",
       "    <tr>\n",
       "      <th>dsgdb9nsd_001226</th>\n",
       "      <td>25147</td>\n",
       "      <td>11</td>\n",
       "      <td>5</td>\n",
       "      <td>2JHC</td>\n",
       "      <td>-5.614710</td>\n",
       "    </tr>\n",
       "    <tr>\n",
       "      <th>dsgdb9nsd_001226</th>\n",
       "      <td>25148</td>\n",
       "      <td>11</td>\n",
       "      <td>12</td>\n",
       "      <td>2JHH</td>\n",
       "      <td>-12.715100</td>\n",
       "    </tr>\n",
       "    <tr>\n",
       "      <th>dsgdb9nsd_001226</th>\n",
       "      <td>25149</td>\n",
       "      <td>11</td>\n",
       "      <td>13</td>\n",
       "      <td>3JHH</td>\n",
       "      <td>5.643190</td>\n",
       "    </tr>\n",
       "    <tr>\n",
       "      <th>dsgdb9nsd_001226</th>\n",
       "      <td>25150</td>\n",
       "      <td>12</td>\n",
       "      <td>1</td>\n",
       "      <td>3JHC</td>\n",
       "      <td>5.572100</td>\n",
       "    </tr>\n",
       "    <tr>\n",
       "      <th>dsgdb9nsd_001226</th>\n",
       "      <td>25151</td>\n",
       "      <td>12</td>\n",
       "      <td>3</td>\n",
       "      <td>2JHC</td>\n",
       "      <td>-5.495190</td>\n",
       "    </tr>\n",
       "    <tr>\n",
       "      <th>dsgdb9nsd_001226</th>\n",
       "      <td>25152</td>\n",
       "      <td>12</td>\n",
       "      <td>4</td>\n",
       "      <td>1JHC</td>\n",
       "      <td>87.226900</td>\n",
       "    </tr>\n",
       "    <tr>\n",
       "      <th>dsgdb9nsd_001226</th>\n",
       "      <td>25153</td>\n",
       "      <td>12</td>\n",
       "      <td>5</td>\n",
       "      <td>2JHC</td>\n",
       "      <td>-4.128270</td>\n",
       "    </tr>\n",
       "    <tr>\n",
       "      <th>dsgdb9nsd_001226</th>\n",
       "      <td>25154</td>\n",
       "      <td>12</td>\n",
       "      <td>13</td>\n",
       "      <td>3JHH</td>\n",
       "      <td>0.183861</td>\n",
       "    </tr>\n",
       "    <tr>\n",
       "      <th>dsgdb9nsd_001226</th>\n",
       "      <td>25155</td>\n",
       "      <td>13</td>\n",
       "      <td>3</td>\n",
       "      <td>3JHC</td>\n",
       "      <td>1.085200</td>\n",
       "    </tr>\n",
       "    <tr>\n",
       "      <th>dsgdb9nsd_001226</th>\n",
       "      <td>25156</td>\n",
       "      <td>13</td>\n",
       "      <td>4</td>\n",
       "      <td>2JHC</td>\n",
       "      <td>30.348500</td>\n",
       "    </tr>\n",
       "    <tr>\n",
       "      <th>dsgdb9nsd_001226</th>\n",
       "      <td>25157</td>\n",
       "      <td>13</td>\n",
       "      <td>5</td>\n",
       "      <td>1JHC</td>\n",
       "      <td>108.420000</td>\n",
       "    </tr>\n",
       "  </tbody>\n",
       "</table>\n",
       "</div>"
      ],
      "text/plain": [
       "                     id  atom_index_0  atom_index_1  type  \\\n",
       "molecule_name                                               \n",
       "dsgdb9nsd_001226  25122             7             0  1JHN   \n",
       "dsgdb9nsd_001226  25123             7             1  2JHC   \n",
       "dsgdb9nsd_001226  25124             7             3  3JHC   \n",
       "dsgdb9nsd_001226  25125             7             8  2JHH   \n",
       "dsgdb9nsd_001226  25126             8             0  1JHN   \n",
       "dsgdb9nsd_001226  25127             8             1  2JHC   \n",
       "dsgdb9nsd_001226  25128             8             3  3JHC   \n",
       "dsgdb9nsd_001226  25129             9             0  3JHN   \n",
       "dsgdb9nsd_001226  25130             9             1  2JHC   \n",
       "dsgdb9nsd_001226  25131             9             3  1JHC   \n",
       "dsgdb9nsd_001226  25132             9             4  2JHC   \n",
       "dsgdb9nsd_001226  25133             9             5  3JHC   \n",
       "dsgdb9nsd_001226  25134             9            10  2JHH   \n",
       "dsgdb9nsd_001226  25135             9            11  3JHH   \n",
       "dsgdb9nsd_001226  25136             9            12  3JHH   \n",
       "dsgdb9nsd_001226  25137            10             0  3JHN   \n",
       "dsgdb9nsd_001226  25138            10             1  2JHC   \n",
       "dsgdb9nsd_001226  25139            10             3  1JHC   \n",
       "dsgdb9nsd_001226  25140            10             4  2JHC   \n",
       "dsgdb9nsd_001226  25141            10             5  3JHC   \n",
       "dsgdb9nsd_001226  25142            10            11  3JHH   \n",
       "dsgdb9nsd_001226  25143            10            12  3JHH   \n",
       "dsgdb9nsd_001226  25144            11             1  3JHC   \n",
       "dsgdb9nsd_001226  25145            11             3  2JHC   \n",
       "dsgdb9nsd_001226  25146            11             4  1JHC   \n",
       "dsgdb9nsd_001226  25147            11             5  2JHC   \n",
       "dsgdb9nsd_001226  25148            11            12  2JHH   \n",
       "dsgdb9nsd_001226  25149            11            13  3JHH   \n",
       "dsgdb9nsd_001226  25150            12             1  3JHC   \n",
       "dsgdb9nsd_001226  25151            12             3  2JHC   \n",
       "dsgdb9nsd_001226  25152            12             4  1JHC   \n",
       "dsgdb9nsd_001226  25153            12             5  2JHC   \n",
       "dsgdb9nsd_001226  25154            12            13  3JHH   \n",
       "dsgdb9nsd_001226  25155            13             3  3JHC   \n",
       "dsgdb9nsd_001226  25156            13             4  2JHC   \n",
       "dsgdb9nsd_001226  25157            13             5  1JHC   \n",
       "\n",
       "                  scalar_coupling_constant  \n",
       "molecule_name                               \n",
       "dsgdb9nsd_001226                 57.697300  \n",
       "dsgdb9nsd_001226                 -3.165230  \n",
       "dsgdb9nsd_001226                  6.352630  \n",
       "dsgdb9nsd_001226                  5.338260  \n",
       "dsgdb9nsd_001226                 56.718900  \n",
       "dsgdb9nsd_001226                  5.627870  \n",
       "dsgdb9nsd_001226                  0.883449  \n",
       "dsgdb9nsd_001226                 -0.145674  \n",
       "dsgdb9nsd_001226                 -4.957040  \n",
       "dsgdb9nsd_001226                 82.322100  \n",
       "dsgdb9nsd_001226                 -2.778040  \n",
       "dsgdb9nsd_001226                  6.290210  \n",
       "dsgdb9nsd_001226                -13.607000  \n",
       "dsgdb9nsd_001226                 10.746800  \n",
       "dsgdb9nsd_001226                  1.513590  \n",
       "dsgdb9nsd_001226                  0.237174  \n",
       "dsgdb9nsd_001226                 -2.156870  \n",
       "dsgdb9nsd_001226                 80.364200  \n",
       "dsgdb9nsd_001226                 -0.227756  \n",
       "dsgdb9nsd_001226                  0.162307  \n",
       "dsgdb9nsd_001226                  5.680270  \n",
       "dsgdb9nsd_001226                 10.542200  \n",
       "dsgdb9nsd_001226                  0.240273  \n",
       "dsgdb9nsd_001226                 -0.029678  \n",
       "dsgdb9nsd_001226                 85.638200  \n",
       "dsgdb9nsd_001226                 -5.614710  \n",
       "dsgdb9nsd_001226                -12.715100  \n",
       "dsgdb9nsd_001226                  5.643190  \n",
       "dsgdb9nsd_001226                  5.572100  \n",
       "dsgdb9nsd_001226                 -5.495190  \n",
       "dsgdb9nsd_001226                 87.226900  \n",
       "dsgdb9nsd_001226                 -4.128270  \n",
       "dsgdb9nsd_001226                  0.183861  \n",
       "dsgdb9nsd_001226                  1.085200  \n",
       "dsgdb9nsd_001226                 30.348500  \n",
       "dsgdb9nsd_001226                108.420000  "
      ]
     },
     "execution_count": 394,
     "metadata": {},
     "output_type": "execute_result"
    }
   ],
   "source": [
    "df_idx.loc[mols[726]]"
   ]
  },
  {
   "cell_type": "code",
   "execution_count": null,
   "metadata": {},
   "outputs": [],
   "source": []
  }
 ],
 "metadata": {
  "kernelspec": {
   "display_name": "Python 3",
   "language": "python",
   "name": "python3"
  },
  "language_info": {
   "codemirror_mode": {
    "name": "ipython",
    "version": 3
   },
   "file_extension": ".py",
   "mimetype": "text/x-python",
   "name": "python",
   "nbconvert_exporter": "python",
   "pygments_lexer": "ipython3",
   "version": "3.6.8"
  }
 },
 "nbformat": 4,
 "nbformat_minor": 2
}
