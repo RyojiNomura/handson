{
 "cells": [
  {
   "cell_type": "code",
   "execution_count": null,
   "metadata": {},
   "outputs": [],
   "source": [
    "import MeCab\n",
    "mecab = MeCab.Tagger ('-d /usr/local/lib/mecab/dic/mecab-ipadic-neologd')\n",
    "\n",
    "import requests\n",
    "from bs4 import BeautifulSoup as bs\n",
    "import pandas as pd\n",
    "import re\n",
    "import os\n",
    "# import numpy as np"
   ]
  },
  {
   "cell_type": "code",
   "execution_count": null,
   "metadata": {},
   "outputs": [],
   "source": [
    "DATAFOLDER = '../../../data_handson/matome/'\n",
    "print(os.listdir(DATAFOLDER))"
   ]
  },
  {
   "cell_type": "code",
   "execution_count": null,
   "metadata": {},
   "outputs": [],
   "source": [
    "path = DATAFOLDER + \"matome_sample.html\" # 'original_sample.html'\n",
    "#  'http://alfalfalfa.com/articles/261820.html'\n",
    "# 'http://tomcat.2ch.sc/test/read.cgi/livejupiter/1565300469/'"
   ]
  },
  {
   "cell_type": "code",
   "execution_count": null,
   "metadata": {
    "scrolled": true
   },
   "outputs": [],
   "source": [
    "with open(path) as f:\n",
    "    text = f.read()\n",
    "    \n",
    "soup = bs(text, \"html5lib\")\n",
    "res_list = soup.find_all(\"div\", {'class':'res_block'})\n",
    "\n",
    "res_num = [1]\n",
    "for res in res_list[1:]:\n",
    "    res_num.append(res.find('span',{'class':'res_num'}).text)\n",
    "\n",
    "df_res_num = pd.DataFrame([res_num], index=['res_num']).T\n",
    "df_res_num = df_res_num.reset_index(drop=False).rename(columns={'index':'matome_order'})\n",
    "df_res_num['matome'] = 1\n",
    "df_res_num['matome_order'] += 1\n",
    "df_res_num['res_num'] = df_res_num['res_num'].astype('int')\n",
    "df_res_num"
   ]
  },
  {
   "cell_type": "code",
   "execution_count": null,
   "metadata": {},
   "outputs": [],
   "source": [
    "df_res_num.dtypes"
   ]
  },
  {
   "cell_type": "code",
   "execution_count": null,
   "metadata": {},
   "outputs": [],
   "source": [
    "original_url = soup.find('div', {'class':'via'}).text[4:]\n",
    "original_url"
   ]
  },
  {
   "cell_type": "code",
   "execution_count": null,
   "metadata": {},
   "outputs": [],
   "source": [
    "def scrape_2ch(url):\n",
    "    text = requests.get(original_url).text\n",
    "    soup = bs(text, \"html5lib\")\n",
    "    nums = []\n",
    "    timestamps = []\n",
    "    names = []\n",
    "    idx = []\n",
    "    bodies = []\n",
    "    titles = []\n",
    "    title = soup.find(\"title\").text\n",
    "\n",
    "    res_info_list = soup.find_all(\"dt\")\n",
    "    res_body_list = soup.find_all('dd')\n",
    "    for info, body in zip(res_info_list, res_body_list):\n",
    "        nums.append(int(info.text.split('：')[0]))\n",
    "        names.append(info.text.split('：')[1])\n",
    "        idx.append(info.text.split('：')[2].split(':')[-1])\n",
    "        YYYY = info.text.split('：')[2].split('/')[0]\n",
    "        MM =info.text.split('：')[2].split('/')[1]\n",
    "        DD =info.text.split('：')[2].split('/')[2][:2]\n",
    "        hh = info.text.split('：')[2].split(':')[0][-2:]\n",
    "        mm = info.text.split('：')[2].split(':')[1]\n",
    "        ss =  info.text.split('：')[2].split(':')[2][:2]\n",
    "        timestamps.append(YYYY + '/' + MM + '/' + DD + ' ' + hh + ':' + mm + ':' + ss)\n",
    "        bodies.append(body.text.split('\\n')[0])\n",
    "        titles.append(title)\n",
    "\n",
    "    df = pd.DataFrame([nums, names, timestamps, idx, bodies, titles]).T\n",
    "    df.columns = ['res_num', 'name', 'timestamp', 'idx', 'body', 'title']\n",
    "    df['res_num'] = df['res_num'].astype('int')\n",
    "    \n",
    "    return df"
   ]
  },
  {
   "cell_type": "code",
   "execution_count": null,
   "metadata": {},
   "outputs": [],
   "source": [
    "df_original = scrape_2ch(original_url)\n",
    "df_original_flg = pd.merge(df_original, df_res_num, on='res_num',  how='left').fillna(0)"
   ]
  },
  {
   "cell_type": "code",
   "execution_count": null,
   "metadata": {
    "scrolled": false
   },
   "outputs": [],
   "source": [
    "df_original_flg['matome_order'] = df_original_flg['matome_order'].astype('int')\n",
    "df_original_flg['matome'] = df_original_flg['matome'].astype('int')\n",
    "df_original_flg"
   ]
  },
  {
   "cell_type": "code",
   "execution_count": null,
   "metadata": {},
   "outputs": [],
   "source": []
  }
 ],
 "metadata": {
  "kernelspec": {
   "display_name": "Python 3",
   "language": "python",
   "name": "python3"
  },
  "language_info": {
   "codemirror_mode": {
    "name": "ipython",
    "version": 3
   },
   "file_extension": ".py",
   "mimetype": "text/x-python",
   "name": "python",
   "nbconvert_exporter": "python",
   "pygments_lexer": "ipython3",
   "version": "3.6.8"
  }
 },
 "nbformat": 4,
 "nbformat_minor": 2
}
