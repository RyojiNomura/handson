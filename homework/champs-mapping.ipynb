{
 "cells": [
  {
   "cell_type": "code",
   "execution_count": 1,
   "metadata": {},
   "outputs": [],
   "source": [
    "import os\n",
    "import pandas as pd\n",
    "import numpy as np\n",
    "import matplotlib.pyplot as plt\n",
    "import seaborn as sns\n",
    "import time"
   ]
  },
  {
   "cell_type": "code",
   "execution_count": 2,
   "metadata": {},
   "outputs": [
    {
     "data": {
      "text/plain": [
       "['scalar_coupling_contributions.csv',\n",
       " 'mulliken_charges.csv',\n",
       " 'structures.csv',\n",
       " 'test.csv',\n",
       " 'structures.zip',\n",
       " 'train.csv',\n",
       " 'magnetic_shielding_tensors.csv',\n",
       " 'dipole_moments.csv',\n",
       " 'sample_submission.csv',\n",
       " 'potential_energy.csv']"
      ]
     },
     "execution_count": 2,
     "metadata": {},
     "output_type": "execute_result"
    }
   ],
   "source": [
    "FOLDER = '../../data_handson/champs-scalar-coupling/'\n",
    "os.listdir(FOLDER)"
   ]
  },
  {
   "cell_type": "markdown",
   "metadata": {},
   "source": [
    "## load all files as pandas dataframe"
   ]
  },
  {
   "cell_type": "code",
   "execution_count": 3,
   "metadata": {},
   "outputs": [],
   "source": [
    "# df_mulliken_charges = pd.read_csv(FOLDER + 'mulliken_charges.csv')\n",
    "# df_sample =  pd.read_csv(FOLDER + 'sample_submission.csv')\n",
    "# df_magnetic_shielding_tensors = pd.read_csv(FOLDER + 'magnetic_shielding_tensors.csv')\n",
    "df_train = pd.read_csv(FOLDER + 'train.csv')\n",
    "# df_test = pd.read_csv(FOLDER + 'test.csv')\n",
    "# df_dipole_moments = pd.read_csv(FOLDER + 'dipole_moments.csv')\n",
    "# df_potential_energy = pd.read_csv(FOLDER + 'potential_energy.csv')\n",
    "df_structures = pd.read_csv(FOLDER + 'structures.csv')\n",
    "# df_scalar_coupling_contributions = pd.read_csv(FOLDER + 'scalar_coupling_contributions.csv')"
   ]
  },
  {
   "cell_type": "code",
   "execution_count": 5,
   "metadata": {},
   "outputs": [],
   "source": [
    "df_structures_idx = df_structures.set_index('molecule_name')"
   ]
  },
  {
   "cell_type": "code",
   "execution_count": 6,
   "metadata": {},
   "outputs": [
    {
     "data": {
      "text/html": [
       "<div>\n",
       "<style scoped>\n",
       "    .dataframe tbody tr th:only-of-type {\n",
       "        vertical-align: middle;\n",
       "    }\n",
       "\n",
       "    .dataframe tbody tr th {\n",
       "        vertical-align: top;\n",
       "    }\n",
       "\n",
       "    .dataframe thead th {\n",
       "        text-align: right;\n",
       "    }\n",
       "</style>\n",
       "<table border=\"1\" class=\"dataframe\">\n",
       "  <thead>\n",
       "    <tr style=\"text-align: right;\">\n",
       "      <th></th>\n",
       "      <th>atom_index</th>\n",
       "      <th>atom</th>\n",
       "      <th>x</th>\n",
       "      <th>y</th>\n",
       "      <th>z</th>\n",
       "    </tr>\n",
       "    <tr>\n",
       "      <th>molecule_name</th>\n",
       "      <th></th>\n",
       "      <th></th>\n",
       "      <th></th>\n",
       "      <th></th>\n",
       "      <th></th>\n",
       "    </tr>\n",
       "  </thead>\n",
       "  <tbody>\n",
       "    <tr>\n",
       "      <th>dsgdb9nsd_000001</th>\n",
       "      <td>0</td>\n",
       "      <td>C</td>\n",
       "      <td>-0.012698</td>\n",
       "      <td>1.085804</td>\n",
       "      <td>0.008001</td>\n",
       "    </tr>\n",
       "    <tr>\n",
       "      <th>dsgdb9nsd_000001</th>\n",
       "      <td>1</td>\n",
       "      <td>H</td>\n",
       "      <td>0.002150</td>\n",
       "      <td>-0.006031</td>\n",
       "      <td>0.001976</td>\n",
       "    </tr>\n",
       "    <tr>\n",
       "      <th>dsgdb9nsd_000001</th>\n",
       "      <td>2</td>\n",
       "      <td>H</td>\n",
       "      <td>1.011731</td>\n",
       "      <td>1.463751</td>\n",
       "      <td>0.000277</td>\n",
       "    </tr>\n",
       "    <tr>\n",
       "      <th>dsgdb9nsd_000001</th>\n",
       "      <td>3</td>\n",
       "      <td>H</td>\n",
       "      <td>-0.540815</td>\n",
       "      <td>1.447527</td>\n",
       "      <td>-0.876644</td>\n",
       "    </tr>\n",
       "    <tr>\n",
       "      <th>dsgdb9nsd_000001</th>\n",
       "      <td>4</td>\n",
       "      <td>H</td>\n",
       "      <td>-0.523814</td>\n",
       "      <td>1.437933</td>\n",
       "      <td>0.906397</td>\n",
       "    </tr>\n",
       "  </tbody>\n",
       "</table>\n",
       "</div>"
      ],
      "text/plain": [
       "                  atom_index atom         x         y         z\n",
       "molecule_name                                                  \n",
       "dsgdb9nsd_000001           0    C -0.012698  1.085804  0.008001\n",
       "dsgdb9nsd_000001           1    H  0.002150 -0.006031  0.001976\n",
       "dsgdb9nsd_000001           2    H  1.011731  1.463751  0.000277\n",
       "dsgdb9nsd_000001           3    H -0.540815  1.447527 -0.876644\n",
       "dsgdb9nsd_000001           4    H -0.523814  1.437933  0.906397"
      ]
     },
     "execution_count": 6,
     "metadata": {},
     "output_type": "execute_result"
    }
   ],
   "source": [
    "df_structures_idx.loc['dsgdb9nsd_000001']"
   ]
  },
  {
   "cell_type": "code",
   "execution_count": 8,
   "metadata": {},
   "outputs": [],
   "source": [
    "atoms = ['H', 'C', 'N', 'O', 'F']"
   ]
  },
  {
   "cell_type": "code",
   "execution_count": 78,
   "metadata": {},
   "outputs": [],
   "source": [
    "def get_dir_matrix(df_structures_idx, molecule):\n",
    "    df_temp = df_structures_idx.loc[molecule]\n",
    "    locs = df_temp[['x','y','z']].values\n",
    "    num_atoms = len(locs)\n",
    "    loc_tile = np.tile(locs.T, (num_atoms,1,1))\n",
    "    dist_mat = (loc_tile - loc_tile.T)\n",
    "    return dist_mat # [atom0, (x,y,z), atom1]"
   ]
  },
  {
   "cell_type": "code",
   "execution_count": 164,
   "metadata": {},
   "outputs": [],
   "source": [
    "def get_dist_matrix(df_structures_idx, molecule):\n",
    "    df_temp = df_structures_idx.loc[molecule]\n",
    "    locs = df_temp[['x','y','z']].values\n",
    "    num_atoms = len(locs)\n",
    "    loc_tile = np.tile(locs.T, (num_atoms,1,1))\n",
    "    dist_mat = np.linalg.norm(loc_tile - loc_tile.T, axis=1)\n",
    "    return dist_mat"
   ]
  },
  {
   "cell_type": "code",
   "execution_count": 461,
   "metadata": {},
   "outputs": [],
   "source": [
    "def n_cos(df_structures_idx, mol, thres=1.65):\n",
    "    dist_mat = get_dist_matrix(df_structures_idx, mol)\n",
    "    df_temp = df_structures_idx.loc[mol]\n",
    "    num_atoms = df_temp.shape[0]\n",
    "    n_idx = df_temp[df_temp['atom'] == 'N']['atom_index'].values\n",
    "    n_cos2 = []\n",
    "    n_cos3 = []    \n",
    "\n",
    "    for i in n_idx:\n",
    "        dist_argsort = np.argsort(dist_mat[i])\n",
    "        near_1_idx = dist_argsort[1]\n",
    "        near_2_idx = dist_argsort[2]\n",
    "        \n",
    "        dist_1 = dist_mat[i][near_1_idx]\n",
    "        dist_2 = dist_mat[i][near_2_idx]\n",
    "        \n",
    "        if dist_2 > thres:\n",
    "            n_cos2.append(-1)\n",
    "            n_cos3.append(2)\n",
    "            continue\n",
    "        else:\n",
    "            origin_loc = df_temp[df_temp['atom_index'] == i][['x', 'y', 'z']].values[0]\n",
    "            near_1_loc = df_temp[df_temp['atom_index'] == near_1_idx][['x', 'y', 'z']].values[0]\n",
    "            near_2_loc = df_temp[df_temp['atom_index'] == near_2_idx][['x', 'y', 'z']].values[0]\n",
    "            vec_01 = near_1_loc - origin_loc\n",
    "            vec_02 = near_2_loc - origin_loc\n",
    "            cos_12 = np.dot(vec_01, vec_02) / dist_1 / dist_2\n",
    "            n_cos2.append(cos_12)\n",
    "            try:\n",
    "                near_3_idx = dist_argsort[3]\n",
    "                near_3_loc = df_temp[df_temp['atom_index'] == near_3_idx][['x', 'y', 'z']].values[0]\n",
    "                vec_03 = near_3_loc - origin_loc\n",
    "\n",
    "                if  dist_mat[i][near_3_idx] < thres:\n",
    "                    vec_012 = vec_01 / dist_1 + vec_02/ dist_2\n",
    "                    cos_123 = np.dot(vec_012, vec_03) / np.linalg.norm(vec_012) /dist_mat[i][near_3_idx]\n",
    "                    n_cos3.append(cos_123)\n",
    "                else:\n",
    "                    n_cos3.append(2)\n",
    "            except:\n",
    "                 n_cos3.append(2)\n",
    "\n",
    "    se_n_cos2 = pd.Series(n_cos2, name='cos2')\n",
    "    se_n_cos3 = pd.Series(n_cos3, name='cos3')\n",
    "    \n",
    "    se_n_idx = pd.Series(n_idx, name='atom_index')\n",
    "    df_bond = pd.concat([se_n_idx, se_n_cos2, se_n_cos3], axis=1)\n",
    "\n",
    "    df_temp2 = pd.merge(df_temp[['atom', 'atom_index']], df_bond, on='atom_index', how='outer').fillna(0)\n",
    "    df_temp2['molecule_name'] = mol\n",
    "    return df_temp2"
   ]
  },
  {
   "cell_type": "code",
   "execution_count": 462,
   "metadata": {},
   "outputs": [
    {
     "data": {
      "text/html": [
       "<div>\n",
       "<style scoped>\n",
       "    .dataframe tbody tr th:only-of-type {\n",
       "        vertical-align: middle;\n",
       "    }\n",
       "\n",
       "    .dataframe tbody tr th {\n",
       "        vertical-align: top;\n",
       "    }\n",
       "\n",
       "    .dataframe thead th {\n",
       "        text-align: right;\n",
       "    }\n",
       "</style>\n",
       "<table border=\"1\" class=\"dataframe\">\n",
       "  <thead>\n",
       "    <tr style=\"text-align: right;\">\n",
       "      <th></th>\n",
       "      <th>atom</th>\n",
       "      <th>atom_index</th>\n",
       "      <th>cos2</th>\n",
       "      <th>cos3</th>\n",
       "      <th>molecule_name</th>\n",
       "    </tr>\n",
       "  </thead>\n",
       "  <tbody>\n",
       "    <tr>\n",
       "      <th>0</th>\n",
       "      <td>C</td>\n",
       "      <td>0</td>\n",
       "      <td>0.000000</td>\n",
       "      <td>0.000000</td>\n",
       "      <td>dsgdb9nsd_010290</td>\n",
       "    </tr>\n",
       "    <tr>\n",
       "      <th>1</th>\n",
       "      <td>O</td>\n",
       "      <td>1</td>\n",
       "      <td>0.000000</td>\n",
       "      <td>0.000000</td>\n",
       "      <td>dsgdb9nsd_010290</td>\n",
       "    </tr>\n",
       "    <tr>\n",
       "      <th>2</th>\n",
       "      <td>C</td>\n",
       "      <td>2</td>\n",
       "      <td>0.000000</td>\n",
       "      <td>0.000000</td>\n",
       "      <td>dsgdb9nsd_010290</td>\n",
       "    </tr>\n",
       "    <tr>\n",
       "      <th>3</th>\n",
       "      <td>C</td>\n",
       "      <td>3</td>\n",
       "      <td>0.000000</td>\n",
       "      <td>0.000000</td>\n",
       "      <td>dsgdb9nsd_010290</td>\n",
       "    </tr>\n",
       "    <tr>\n",
       "      <th>4</th>\n",
       "      <td>N</td>\n",
       "      <td>4</td>\n",
       "      <td>-1.000000</td>\n",
       "      <td>2.000000</td>\n",
       "      <td>dsgdb9nsd_010290</td>\n",
       "    </tr>\n",
       "    <tr>\n",
       "      <th>5</th>\n",
       "      <td>C</td>\n",
       "      <td>5</td>\n",
       "      <td>0.000000</td>\n",
       "      <td>0.000000</td>\n",
       "      <td>dsgdb9nsd_010290</td>\n",
       "    </tr>\n",
       "    <tr>\n",
       "      <th>6</th>\n",
       "      <td>N</td>\n",
       "      <td>6</td>\n",
       "      <td>-0.504613</td>\n",
       "      <td>-0.992237</td>\n",
       "      <td>dsgdb9nsd_010290</td>\n",
       "    </tr>\n",
       "    <tr>\n",
       "      <th>7</th>\n",
       "      <td>O</td>\n",
       "      <td>7</td>\n",
       "      <td>0.000000</td>\n",
       "      <td>0.000000</td>\n",
       "      <td>dsgdb9nsd_010290</td>\n",
       "    </tr>\n",
       "    <tr>\n",
       "      <th>8</th>\n",
       "      <td>H</td>\n",
       "      <td>8</td>\n",
       "      <td>0.000000</td>\n",
       "      <td>0.000000</td>\n",
       "      <td>dsgdb9nsd_010290</td>\n",
       "    </tr>\n",
       "    <tr>\n",
       "      <th>9</th>\n",
       "      <td>H</td>\n",
       "      <td>9</td>\n",
       "      <td>0.000000</td>\n",
       "      <td>0.000000</td>\n",
       "      <td>dsgdb9nsd_010290</td>\n",
       "    </tr>\n",
       "    <tr>\n",
       "      <th>10</th>\n",
       "      <td>H</td>\n",
       "      <td>10</td>\n",
       "      <td>0.000000</td>\n",
       "      <td>0.000000</td>\n",
       "      <td>dsgdb9nsd_010290</td>\n",
       "    </tr>\n",
       "    <tr>\n",
       "      <th>11</th>\n",
       "      <td>H</td>\n",
       "      <td>11</td>\n",
       "      <td>0.000000</td>\n",
       "      <td>0.000000</td>\n",
       "      <td>dsgdb9nsd_010290</td>\n",
       "    </tr>\n",
       "    <tr>\n",
       "      <th>12</th>\n",
       "      <td>H</td>\n",
       "      <td>12</td>\n",
       "      <td>0.000000</td>\n",
       "      <td>0.000000</td>\n",
       "      <td>dsgdb9nsd_010290</td>\n",
       "    </tr>\n",
       "    <tr>\n",
       "      <th>13</th>\n",
       "      <td>H</td>\n",
       "      <td>13</td>\n",
       "      <td>0.000000</td>\n",
       "      <td>0.000000</td>\n",
       "      <td>dsgdb9nsd_010290</td>\n",
       "    </tr>\n",
       "  </tbody>\n",
       "</table>\n",
       "</div>"
      ],
      "text/plain": [
       "   atom  atom_index      cos2      cos3     molecule_name\n",
       "0     C           0  0.000000  0.000000  dsgdb9nsd_010290\n",
       "1     O           1  0.000000  0.000000  dsgdb9nsd_010290\n",
       "2     C           2  0.000000  0.000000  dsgdb9nsd_010290\n",
       "3     C           3  0.000000  0.000000  dsgdb9nsd_010290\n",
       "4     N           4 -1.000000  2.000000  dsgdb9nsd_010290\n",
       "5     C           5  0.000000  0.000000  dsgdb9nsd_010290\n",
       "6     N           6 -0.504613 -0.992237  dsgdb9nsd_010290\n",
       "7     O           7  0.000000  0.000000  dsgdb9nsd_010290\n",
       "8     H           8  0.000000  0.000000  dsgdb9nsd_010290\n",
       "9     H           9  0.000000  0.000000  dsgdb9nsd_010290\n",
       "10    H          10  0.000000  0.000000  dsgdb9nsd_010290\n",
       "11    H          11  0.000000  0.000000  dsgdb9nsd_010290\n",
       "12    H          12  0.000000  0.000000  dsgdb9nsd_010290\n",
       "13    H          13  0.000000  0.000000  dsgdb9nsd_010290"
      ]
     },
     "execution_count": 462,
     "metadata": {},
     "output_type": "execute_result"
    }
   ],
   "source": [
    "n_cos(df_structures_idx, mol, 1.6)"
   ]
  },
  {
   "cell_type": "code",
   "execution_count": 463,
   "metadata": {},
   "outputs": [],
   "source": [
    "def c_cos(df_structures_idx, mol, thres=1.65):\n",
    "    dist_mat = get_dist_matrix(df_structures_idx, mol)\n",
    "    df_temp = df_structures_idx.loc[mol]\n",
    "    num_atoms = df_temp.shape[0]\n",
    "\n",
    "    c_idx = df_temp[df_temp['atom'] == 'C']['atom_index'].values\n",
    "\n",
    "    c_cos2 = []\n",
    "    c_cos3 = []\n",
    "\n",
    "    for i in c_idx:\n",
    "        dist_argsort = np.argsort(dist_mat[i])\n",
    "\n",
    "        near_1_idx = dist_argsort[1]\n",
    "        near_2_idx = dist_argsort[2]\n",
    "\n",
    "        origin_loc = df_temp[df_temp['atom_index'] == i][['x', 'y', 'z']].values[0]\n",
    "        near_1_loc = df_temp[df_temp['atom_index'] == near_1_idx][['x', 'y', 'z']].values[0]\n",
    "        near_2_loc = df_temp[df_temp['atom_index'] == near_2_idx][['x', 'y', 'z']].values[0]\n",
    "\n",
    "        vec_01 = near_1_loc - origin_loc\n",
    "        vec_02 = near_2_loc - origin_loc\n",
    "        \n",
    "        cos_12 = np.dot(vec_01, vec_02) / dist_mat[i][near_1_idx] / dist_mat[i][near_2_idx] \n",
    "        \n",
    "        c_cos2.append(cos_12)\n",
    "\n",
    "        try:\n",
    "            near_3_idx = dist_argsort[3]\n",
    "            near_3_loc = df_temp[df_temp['atom_index'] == near_3_idx][['x', 'y', 'z']].values[0]\n",
    "            vec_03 = near_3_loc - origin_loc\n",
    "            \n",
    "            if  dist_mat[i][near_3_idx] < thres:\n",
    "                vec_012 = vec_01 / dist_mat[i][near_1_idx] + vec_02/ dist_mat[i][near_2_idx]\n",
    "                cos_123 = np.dot(vec_012, vec_03) / np.linalg.norm(vec_012) /dist_mat[i][near_3_idx]\n",
    "                c_cos3.append(cos_123)\n",
    "            else:\n",
    "                c_cos3.append(2)\n",
    "        except:\n",
    "             c_cos3.append(2)\n",
    "            \n",
    "    se_c_cos2 = pd.Series(c_cos2, name='cos2')\n",
    "    se_c_cos3 = pd.Series(c_cos3, name='cos3')\n",
    "    \n",
    "    se_c_idx = pd.Series(c_idx, name='atom_index')\n",
    "    df_bond = pd.concat([se_c_idx, se_c_cos2, se_c_cos3], axis=1)\n",
    "\n",
    "    df_temp2 = pd.merge(df_temp[['atom', 'atom_index']], df_bond, on='atom_index', how='outer').fillna(2)\n",
    "    df_temp2['molecule_name'] = mol\n",
    "    return df_temp2"
   ]
  },
  {
   "cell_type": "code",
   "execution_count": 464,
   "metadata": {},
   "outputs": [
    {
     "data": {
      "text/html": [
       "<div>\n",
       "<style scoped>\n",
       "    .dataframe tbody tr th:only-of-type {\n",
       "        vertical-align: middle;\n",
       "    }\n",
       "\n",
       "    .dataframe tbody tr th {\n",
       "        vertical-align: top;\n",
       "    }\n",
       "\n",
       "    .dataframe thead th {\n",
       "        text-align: right;\n",
       "    }\n",
       "</style>\n",
       "<table border=\"1\" class=\"dataframe\">\n",
       "  <thead>\n",
       "    <tr style=\"text-align: right;\">\n",
       "      <th></th>\n",
       "      <th>atom</th>\n",
       "      <th>atom_index</th>\n",
       "      <th>cos2</th>\n",
       "      <th>cos3</th>\n",
       "      <th>molecule_name</th>\n",
       "    </tr>\n",
       "  </thead>\n",
       "  <tbody>\n",
       "    <tr>\n",
       "      <th>0</th>\n",
       "      <td>C</td>\n",
       "      <td>0</td>\n",
       "      <td>-0.329899</td>\n",
       "      <td>-0.565950</td>\n",
       "      <td>dsgdb9nsd_010290</td>\n",
       "    </tr>\n",
       "    <tr>\n",
       "      <th>1</th>\n",
       "      <td>O</td>\n",
       "      <td>1</td>\n",
       "      <td>2.000000</td>\n",
       "      <td>2.000000</td>\n",
       "      <td>dsgdb9nsd_010290</td>\n",
       "    </tr>\n",
       "    <tr>\n",
       "      <th>2</th>\n",
       "      <td>C</td>\n",
       "      <td>2</td>\n",
       "      <td>-0.372732</td>\n",
       "      <td>-0.555976</td>\n",
       "      <td>dsgdb9nsd_010290</td>\n",
       "    </tr>\n",
       "    <tr>\n",
       "      <th>3</th>\n",
       "      <td>C</td>\n",
       "      <td>3</td>\n",
       "      <td>-0.999919</td>\n",
       "      <td>2.000000</td>\n",
       "      <td>dsgdb9nsd_010290</td>\n",
       "    </tr>\n",
       "    <tr>\n",
       "      <th>4</th>\n",
       "      <td>N</td>\n",
       "      <td>4</td>\n",
       "      <td>2.000000</td>\n",
       "      <td>2.000000</td>\n",
       "      <td>dsgdb9nsd_010290</td>\n",
       "    </tr>\n",
       "    <tr>\n",
       "      <th>5</th>\n",
       "      <td>C</td>\n",
       "      <td>5</td>\n",
       "      <td>-0.589275</td>\n",
       "      <td>-0.997550</td>\n",
       "      <td>dsgdb9nsd_010290</td>\n",
       "    </tr>\n",
       "    <tr>\n",
       "      <th>6</th>\n",
       "      <td>N</td>\n",
       "      <td>6</td>\n",
       "      <td>2.000000</td>\n",
       "      <td>2.000000</td>\n",
       "      <td>dsgdb9nsd_010290</td>\n",
       "    </tr>\n",
       "    <tr>\n",
       "      <th>7</th>\n",
       "      <td>O</td>\n",
       "      <td>7</td>\n",
       "      <td>2.000000</td>\n",
       "      <td>2.000000</td>\n",
       "      <td>dsgdb9nsd_010290</td>\n",
       "    </tr>\n",
       "    <tr>\n",
       "      <th>8</th>\n",
       "      <td>H</td>\n",
       "      <td>8</td>\n",
       "      <td>2.000000</td>\n",
       "      <td>2.000000</td>\n",
       "      <td>dsgdb9nsd_010290</td>\n",
       "    </tr>\n",
       "    <tr>\n",
       "      <th>9</th>\n",
       "      <td>H</td>\n",
       "      <td>9</td>\n",
       "      <td>2.000000</td>\n",
       "      <td>2.000000</td>\n",
       "      <td>dsgdb9nsd_010290</td>\n",
       "    </tr>\n",
       "    <tr>\n",
       "      <th>10</th>\n",
       "      <td>H</td>\n",
       "      <td>10</td>\n",
       "      <td>2.000000</td>\n",
       "      <td>2.000000</td>\n",
       "      <td>dsgdb9nsd_010290</td>\n",
       "    </tr>\n",
       "    <tr>\n",
       "      <th>11</th>\n",
       "      <td>H</td>\n",
       "      <td>11</td>\n",
       "      <td>2.000000</td>\n",
       "      <td>2.000000</td>\n",
       "      <td>dsgdb9nsd_010290</td>\n",
       "    </tr>\n",
       "    <tr>\n",
       "      <th>12</th>\n",
       "      <td>H</td>\n",
       "      <td>12</td>\n",
       "      <td>2.000000</td>\n",
       "      <td>2.000000</td>\n",
       "      <td>dsgdb9nsd_010290</td>\n",
       "    </tr>\n",
       "    <tr>\n",
       "      <th>13</th>\n",
       "      <td>H</td>\n",
       "      <td>13</td>\n",
       "      <td>2.000000</td>\n",
       "      <td>2.000000</td>\n",
       "      <td>dsgdb9nsd_010290</td>\n",
       "    </tr>\n",
       "  </tbody>\n",
       "</table>\n",
       "</div>"
      ],
      "text/plain": [
       "   atom  atom_index      cos2      cos3     molecule_name\n",
       "0     C           0 -0.329899 -0.565950  dsgdb9nsd_010290\n",
       "1     O           1  2.000000  2.000000  dsgdb9nsd_010290\n",
       "2     C           2 -0.372732 -0.555976  dsgdb9nsd_010290\n",
       "3     C           3 -0.999919  2.000000  dsgdb9nsd_010290\n",
       "4     N           4  2.000000  2.000000  dsgdb9nsd_010290\n",
       "5     C           5 -0.589275 -0.997550  dsgdb9nsd_010290\n",
       "6     N           6  2.000000  2.000000  dsgdb9nsd_010290\n",
       "7     O           7  2.000000  2.000000  dsgdb9nsd_010290\n",
       "8     H           8  2.000000  2.000000  dsgdb9nsd_010290\n",
       "9     H           9  2.000000  2.000000  dsgdb9nsd_010290\n",
       "10    H          10  2.000000  2.000000  dsgdb9nsd_010290\n",
       "11    H          11  2.000000  2.000000  dsgdb9nsd_010290\n",
       "12    H          12  2.000000  2.000000  dsgdb9nsd_010290\n",
       "13    H          13  2.000000  2.000000  dsgdb9nsd_010290"
      ]
     },
     "execution_count": 464,
     "metadata": {},
     "output_type": "execute_result"
    }
   ],
   "source": [
    "c_cos(df_structures_idx, mol)"
   ]
  },
  {
   "cell_type": "code",
   "execution_count": 479,
   "metadata": {},
   "outputs": [],
   "source": [
    "def get_cos(df_structures_idx, mol, thres=1.7):\n",
    "    c_cos_temp = c_cos(df_structures_idx, mol, thres)[['cos2', 'cos3']].values\n",
    "    n_cos_temp = n_cos(df_structures_idx, mol, thres)[['cos2', 'cos3']].values\n",
    "    cos_mat = c_cos_temp + n_cos_temp\n",
    "    out = np.where(cos_mat == 4, 2, cos_mat)\n",
    "    return out"
   ]
  },
  {
   "cell_type": "code",
   "execution_count": 480,
   "metadata": {},
   "outputs": [
    {
     "data": {
      "text/plain": [
       "array([[-0.32989899, -0.56594985],\n",
       "       [ 2.        ,  2.        ],\n",
       "       [-0.37273163, -0.55597606],\n",
       "       [-0.99991875,  2.        ],\n",
       "       [ 1.        ,  2.        ],\n",
       "       [-0.58927455, -0.99754991],\n",
       "       [ 1.49538678,  1.00776325],\n",
       "       [ 2.        ,  2.        ],\n",
       "       [ 2.        ,  2.        ],\n",
       "       [ 2.        ,  2.        ],\n",
       "       [ 2.        ,  2.        ],\n",
       "       [ 2.        ,  2.        ],\n",
       "       [ 2.        ,  2.        ],\n",
       "       [ 2.        ,  2.        ]])"
      ]
     },
     "execution_count": 480,
     "metadata": {},
     "output_type": "execute_result"
    }
   ],
   "source": [
    "get_cos(df_structures_idx, mol, thres=1.7)"
   ]
  },
  {
   "cell_type": "code",
   "execution_count": 477,
   "metadata": {},
   "outputs": [],
   "source": [
    "test = get_cos(df_structures_idx, mol, thres=1.7)\n",
    "test2 = np.where(test == 4, 2, test)"
   ]
  },
  {
   "cell_type": "code",
   "execution_count": 478,
   "metadata": {},
   "outputs": [
    {
     "data": {
      "text/plain": [
       "array([[-0.32989899, -0.56594985],\n",
       "       [ 2.        ,  2.        ],\n",
       "       [-0.37273163, -0.55597606],\n",
       "       [-0.99991875,  2.        ],\n",
       "       [ 1.        ,  2.        ],\n",
       "       [-0.58927455, -0.99754991],\n",
       "       [ 1.49538678,  1.00776325],\n",
       "       [ 2.        ,  2.        ],\n",
       "       [ 2.        ,  2.        ],\n",
       "       [ 2.        ,  2.        ],\n",
       "       [ 2.        ,  2.        ],\n",
       "       [ 2.        ,  2.        ],\n",
       "       [ 2.        ,  2.        ],\n",
       "       [ 2.        ,  2.        ]])"
      ]
     },
     "execution_count": 478,
     "metadata": {},
     "output_type": "execute_result"
    }
   ],
   "source": [
    "test2"
   ]
  },
  {
   "cell_type": "code",
   "execution_count": 140,
   "metadata": {},
   "outputs": [
    {
     "data": {
      "text/plain": [
       "array([ 0.014848, -1.091835, -0.006025])"
      ]
     },
     "execution_count": 140,
     "metadata": {},
     "output_type": "execute_result"
    }
   ],
   "source": [
    "loc_c =  np.array([-0.012698, 1.085804, 0.008001])\n",
    "loc_h1 = np.array([0.002150, -0.006031, 0.001976])\n",
    "loc_h1 - loc_c"
   ]
  },
  {
   "cell_type": "code",
   "execution_count": 165,
   "metadata": {},
   "outputs": [],
   "source": [
    "mols = df_structures['molecule_name'].unique()"
   ]
  },
  {
   "cell_type": "code",
   "execution_count": 327,
   "metadata": {
    "scrolled": true
   },
   "outputs": [],
   "source": [
    "num_sample = 2000\n",
    "\n",
    "dir_h = np.zeros([0,3])\n",
    "for mol in mols[:num_sample]:\n",
    "    locs = get_dir_matrix(df_structures_idx, mol) # [atom, (x,y,z), (atom)]\n",
    "    mask_c = df_structures_idx.loc[mol].atom.values == 'C'\n",
    "    mask_h = df_structures_idx.loc[mol].atom.values == 'H'\n",
    "    if sum(mask_h)*sum(mask_c) > 0:\n",
    "        locs_c = locs[mask_c]\n",
    "        for i in range(len(locs_c)):\n",
    "            dir_h_temp = locs[i, :, mask_h]\n",
    "            dir_h = np.vstack([dir_h, dir_h_temp])\n",
    "        \n",
    "dir_h = np.array(dir_h)\n",
    "bond_list = []\n",
    "\n",
    "dist_h = np.zeros(0)\n",
    "for mol in mols[:num_sample]:\n",
    "    dist = get_dist_matrix(df_structures_idx, mol) # [atom, (x,y,z), (atom)]\n",
    "    c_bond = c_bond_cnt2(df_structures_idx, mol)\n",
    "    mask_c = df_structures_idx.loc[mol].atom.values == 'C'\n",
    "    mask_h = df_structures_idx.loc[mol].atom.values == 'H'\n",
    "    if sum(mask_h)*sum(mask_c) > 0:\n",
    "        dist_c = dist[mask_c]\n",
    "        for i in range(len(dist_c)):\n",
    "            dist_h_temp = dist[i, mask_h]\n",
    "            dist_h = np.hstack([dist_h, dist_h_temp])\n",
    "            for _ in range(sum(mask_h)):\n",
    "                bond_list.append(c_bond['c_bond'].values[mask_c][i])\n",
    "        \n",
    "dist_h = np.array(dist_h)"
   ]
  },
  {
   "cell_type": "code",
   "execution_count": 328,
   "metadata": {},
   "outputs": [
    {
     "name": "stderr",
     "output_type": "stream",
     "text": [
      "/anaconda3/lib/python3.6/site-packages/matplotlib/axes/_axes.py:6462: UserWarning: The 'normed' kwarg is deprecated, and has been replaced by the 'density' kwarg.\n",
      "  warnings.warn(\"The 'normed' kwarg is deprecated, and has been \"\n",
      "/anaconda3/lib/python3.6/site-packages/matplotlib/axes/_axes.py:6462: UserWarning: The 'normed' kwarg is deprecated, and has been replaced by the 'density' kwarg.\n",
      "  warnings.warn(\"The 'normed' kwarg is deprecated, and has been \"\n",
      "/anaconda3/lib/python3.6/site-packages/matplotlib/axes/_axes.py:6462: UserWarning: The 'normed' kwarg is deprecated, and has been replaced by the 'density' kwarg.\n",
      "  warnings.warn(\"The 'normed' kwarg is deprecated, and has been \"\n"
     ]
    },
    {
     "data": {
      "image/png": "[encoded data removed]",
      "text/plain": [
       "<Figure size 432x288 with 1 Axes>"
      ]
     },
     "metadata": {},
     "output_type": "display_data"
    }
   ],
   "source": [
    "thres_max = 1.2\n",
    "\n",
    "dist_mask = dist_h < thres_max\n",
    "bond_mask_temp = np.array(bond_list) == 2\n",
    "bond_mask = bond_mask_temp[dist_mask]\n",
    "sns.distplot(dist_h[dist_mask][bond_mask], norm_hist=True, kde=False, label=\"sp\", bins=100)\n",
    "\n",
    "dist_mask = dist_h < thres_max\n",
    "bond_mask_temp = np.array(bond_list) == 3\n",
    "bond_mask = bond_mask_temp[dist_mask]\n",
    "sns.distplot(dist_h[dist_mask][bond_mask], norm_hist=True, kde=False, label=\"sp2\", bins=100)\n",
    "\n",
    "dist_mask = dist_h < thres_max\n",
    "bond_mask_temp = np.array(bond_list) == 4\n",
    "bond_mask = bond_mask_temp[dist_mask]\n",
    "sns.distplot(dist_h[dist_mask][bond_mask], norm_hist=True, kde=False, label=\"sp3\", bins=100)\n",
    "\n",
    "plt.xlim(0.9, thres_max)\n",
    "plt.legend()\n",
    "\n",
    "plt.show()"
   ]
  },
  {
   "cell_type": "code",
   "execution_count": null,
   "metadata": {},
   "outputs": [],
   "source": []
  },
  {
   "cell_type": "code",
   "execution_count": 329,
   "metadata": {},
   "outputs": [
    {
     "name": "stdout",
     "output_type": "stream",
     "text": [
      "27377\n",
      "1872\n",
      "1125\n",
      "24380\n",
      "27377\n"
     ]
    }
   ],
   "source": [
    "dist_h = np.zeros(0)\n",
    "bond_list = []\n",
    "\n",
    "for mol in mols[:1000]:\n",
    "    dist = get_dist_matrix(df_structures_idx, mol) # [atom, (x,y,z), (atom)]\n",
    "    c_bond = c_bond_cnt(df_structures_idx, mol)\n",
    "    mask_c = df_structures_idx.loc[mol].atom.values == 'C'\n",
    "    mask_h = df_structures_idx.loc[mol].atom.values == 'H'\n",
    "    if sum(mask_h)*sum(mask_c) > 0:\n",
    "        dist_c = dist[mask_c]\n",
    "        for i in range(len(dist_c)):\n",
    "            dist_h_temp = dist[i, mask_h]\n",
    "            dist_h = np.hstack([dist_h, dist_h_temp])\n",
    "            for _ in range(sum(mask_h)):\n",
    "                bond_list.append(c_bond['c_bond'].values[mask_c][i])\n",
    "        \n",
    "bonds = np.array(bond_list)\n",
    "print(len(bonds))\n",
    "print(sum(bonds==2))\n",
    "print(sum(bonds==3))\n",
    "print(sum(bonds==4))\n",
    "print(sum(bonds==2)+sum(bonds==3)+sum(bonds==4))"
   ]
  },
  {
   "cell_type": "code",
   "execution_count": 315,
   "metadata": {},
   "outputs": [
    {
     "name": "stdout",
     "output_type": "stream",
     "text": [
      "27377\n",
      "1948\n",
      "7439\n",
      "17990\n",
      "27377\n"
     ]
    }
   ],
   "source": [
    "dist_h = np.zeros(0)\n",
    "bond_list = []\n",
    "for mol in mols[:1000]:\n",
    "    dist = get_dist_matrix(df_structures_idx, mol) # [atom, (x,y,z), (atom)]\n",
    "    c_bond = c_bond_cnt2(df_structures_idx, mol)\n",
    "    mask_c = df_structures_idx.loc[mol].atom.values == 'C'\n",
    "    mask_h = df_structures_idx.loc[mol].atom.values == 'H'\n",
    "    if sum(mask_h)*sum(mask_c) > 0:\n",
    "        dist_c = dist[mask_c]\n",
    "        for i in range(len(dist_c)):\n",
    "            dist_h_temp = dist[i, mask_h]\n",
    "            dist_h = np.hstack([dist_h, dist_h_temp])\n",
    "            for _ in range(sum(mask_h)):\n",
    "                bond_list.append(c_bond['c_bond'].values[mask_c][i])\n",
    "        \n",
    "bonds = np.array(bond_list)\n",
    "print(len(bonds))\n",
    "print(sum(bonds==2))\n",
    "print(sum(bonds==3))\n",
    "print(sum(bonds==4))\n",
    "print(sum(bonds==2)+sum(bonds==3)+sum(bonds==4))"
   ]
  },
  {
   "cell_type": "code",
   "execution_count": 303,
   "metadata": {},
   "outputs": [
    {
     "name": "stderr",
     "output_type": "stream",
     "text": [
      "/anaconda3/lib/python3.6/site-packages/matplotlib/axes/_axes.py:6462: UserWarning: The 'normed' kwarg is deprecated, and has been replaced by the 'density' kwarg.\n",
      "  warnings.warn(\"The 'normed' kwarg is deprecated, and has been \"\n"
     ]
    },
    {
     "name": "stdout",
     "output_type": "stream",
     "text": [
      "1.6072363342317075\n",
      "0.9604865434067635\n"
     ]
    },
    {
     "data": {
      "image/png": "[encoded data removed]",
      "text/plain": [
       "<Figure size 432x288 with 1 Axes>"
      ]
     },
     "metadata": {},
     "output_type": "display_data"
    }
   ],
   "source": [
    "dists = np.zeros(0)\n",
    "\n",
    "for mol in mols[:20000]:\n",
    "    dist_arr = get_dist_matrix(df_structures_idx, mol)\n",
    "    dists = np.hstack([dists, dist_arr[0][dist_arr[0] > 0]])\n",
    "    \n",
    "masked = dists[dists < 1.6]\n",
    "sns.distplot(masked, kde=False, norm_hist=True, bins=1000)\n",
    "plt.ylim(0,10)\n",
    "plt.xlim(0.75,1.75)\n",
    "print(masked.max())\n",
    "print(masked.min())\n",
    "plt.show()"
   ]
  },
  {
   "cell_type": "code",
   "execution_count": 374,
   "metadata": {},
   "outputs": [
    {
     "name": "stderr",
     "output_type": "stream",
     "text": [
      "/anaconda3/lib/python3.6/site-packages/ipykernel_launcher.py:32: RuntimeWarning: invalid value encountered in double_scalars\n"
     ]
    }
   ],
   "source": [
    "cos2_arr = np.zeros(0)\n",
    "cos3_arr = np.zeros(0)\n",
    "\n",
    "for mol in mols[:10000]:\n",
    "    mask = (df_structures_idx.loc[mol]['atom']  == 'C').values\n",
    "    cos2 = c_cos_cnt(df_structures_idx, mol)[mask]['c_cos2'].values\n",
    "    cos2_arr = np.hstack([cos2_arr, cos2])\n",
    "    cos3 = c_cos_cnt(df_structures_idx, mol)[mask]['c_cos3'].values\n",
    "    cos3_arr = np.hstack([cos3_arr, cos3])"
   ]
  },
  {
   "cell_type": "code",
   "execution_count": 418,
   "metadata": {},
   "outputs": [
    {
     "name": "stderr",
     "output_type": "stream",
     "text": [
      "/anaconda3/lib/python3.6/site-packages/matplotlib/axes/_axes.py:6462: UserWarning: The 'normed' kwarg is deprecated, and has been replaced by the 'density' kwarg.\n",
      "  warnings.warn(\"The 'normed' kwarg is deprecated, and has been \"\n",
      "/anaconda3/lib/python3.6/site-packages/matplotlib/axes/_axes.py:6462: UserWarning: The 'normed' kwarg is deprecated, and has been replaced by the 'density' kwarg.\n",
      "  warnings.warn(\"The 'normed' kwarg is deprecated, and has been \"\n"
     ]
    },
    {
     "data": {
      "image/png": "[encoded data removed]",
      "text/plain": [
       "<Figure size 720x216 with 2 Axes>"
      ]
     },
     "metadata": {},
     "output_type": "display_data"
    }
   ],
   "source": [
    "plt.figure(figsize=(10,3))\n",
    "plt.subplot(121)\n",
    "sns.distplot(cos2_arr,kde=False, bins=100,  label=\"cos 1st & 2nd nearest\")\n",
    "plt.xlim(-1.1, 1.1)\n",
    "plt.legend()\n",
    "\n",
    "plt.subplot(122)\n",
    "sns.distplot(cos3_arr,kde=False, bins=200, label=\"cos 3rd-nearest & 1st-2nd-dmain\")\n",
    "plt.xlim(-1.1, 1.1)\n",
    "plt.legend()\n",
    "plt.show()"
   ]
  },
  {
   "cell_type": "code",
   "execution_count": 450,
   "metadata": {},
   "outputs": [],
   "source": [
    "cos2_arr = np.zeros(0)\n",
    "cos3_arr = np.zeros(0)\n",
    "\n",
    "for mol in mols[:10000]:\n",
    "    mask = (df_structures_idx.loc[mol]['atom']  == 'N').values\n",
    "    cos2 = n_cos_cnt(df_structures_idx, mol)[mask]['n_cos2'].values\n",
    "    cos2_arr = np.hstack([cos2_arr, cos2])\n",
    "    cos3 = n_cos_cnt(df_structures_idx, mol)[mask]['n_cos3'].values\n",
    "    cos3_arr = np.hstack([cos3_arr, cos3])"
   ]
  },
  {
   "cell_type": "code",
   "execution_count": 453,
   "metadata": {},
   "outputs": [
    {
     "name": "stderr",
     "output_type": "stream",
     "text": [
      "/anaconda3/lib/python3.6/site-packages/matplotlib/axes/_axes.py:6462: UserWarning: The 'normed' kwarg is deprecated, and has been replaced by the 'density' kwarg.\n",
      "  warnings.warn(\"The 'normed' kwarg is deprecated, and has been \"\n",
      "/anaconda3/lib/python3.6/site-packages/matplotlib/axes/_axes.py:6462: UserWarning: The 'normed' kwarg is deprecated, and has been replaced by the 'density' kwarg.\n",
      "  warnings.warn(\"The 'normed' kwarg is deprecated, and has been \"\n"
     ]
    },
    {
     "data": {
      "image/png": "[encoded data removed]",
      "text/plain": [
       "<Figure size 720x216 with 2 Axes>"
      ]
     },
     "metadata": {},
     "output_type": "display_data"
    }
   ],
   "source": [
    "plt.figure(figsize=(10,3))\n",
    "plt.subplot(121)\n",
    "sns.distplot(cos2_arr,kde=False, bins=100,  label=\"cos 1st & 2nd nearest\")\n",
    "plt.ylim(0, 600)\n",
    "plt.xlim(-1.1, 2.1)\n",
    "plt.legend()\n",
    "\n",
    "plt.subplot(122)\n",
    "sns.distplot(cos3_arr,kde=False, bins=200, label=\"cos 3rd-nearest & 1st-2nd-dmain\")\n",
    "plt.xlim(-1.1, 1.1)\n",
    "plt.ylim(0, 600)\n",
    "plt.legend()\n",
    "plt.show()"
   ]
  },
  {
   "cell_type": "code",
   "execution_count": 454,
   "metadata": {},
   "outputs": [
    {
     "name": "stderr",
     "output_type": "stream",
     "text": [
      "/anaconda3/lib/python3.6/site-packages/ipykernel_launcher.py:1: RuntimeWarning: invalid value encountered in arccos\n",
      "  \"\"\"Entry point for launching an IPython kernel.\n"
     ]
    },
    {
     "data": {
      "image/png": "[encoded data removed]",
      "text/plain": [
       "<Figure size 432x288 with 1 Axes>"
      ]
     },
     "metadata": {},
     "output_type": "display_data"
    }
   ],
   "source": [
    "plt.scatter(np.arccos(cos2_arr)/np.pi*180, np.arccos(cos3_arr)/np.pi*180)\n",
    "plt.show()"
   ]
  },
  {
   "cell_type": "code",
   "execution_count": 256,
   "metadata": {},
   "outputs": [],
   "source": [
    "# plt.figure(figsize=(15,5))\n",
    "# plt.subplot(131)\n",
    "# dist_mask = dist_h < 1.6\n",
    "# bond_mask_temp = np.array(bond_list) == 2\n",
    "# bond_mask = bond_mask_temp[dist_mask]\n",
    "# masked_dir = dir_h[dist_mask][bond_mask]\n",
    "# plt.scatter(masked_dir[:,0], masked_dir[:,1])\n",
    "\n",
    "# dist_mask = dist_h < 1.6\n",
    "# bond_mask_temp = np.array(bond_list) == 3\n",
    "# bond_mask = bond_mask_temp[dist_mask]\n",
    "# masked_dir = dir_h[dist_mask][bond_mask]\n",
    "# plt.scatter(masked_dir[:,0], masked_dir[:,1])\n",
    "\n",
    "\n",
    "\n",
    "# plt.subplot(132)\n",
    "# dist_mask = dist_h < 1.6\n",
    "# bond_mask_temp = np.array(bond_list) == 2\n",
    "# bond_mask = bond_mask_temp[dist_mask]\n",
    "# masked_dir = dir_h[dist_mask][bond_mask]\n",
    "# plt.scatter(masked_dir[:,1], masked_dir[:,2])\n",
    "\n",
    "# dist_mask = dist_h < 1.6\n",
    "# bond_mask_temp = np.array(bond_list) == 3\n",
    "# bond_mask = bond_mask_temp[dist_mask]\n",
    "# masked_dir = dir_h[dist_mask][bond_mask]\n",
    "# plt.scatter(masked_dir[:,1], masked_dir[:,2])\n",
    "\n",
    "\n",
    "# plt.subplot(133)\n",
    "# dist_mask = dist_h < 1.6\n",
    "# bond_mask_temp = np.array(bond_list) == 2\n",
    "# bond_mask = bond_mask_temp[dist_mask]\n",
    "# masked_dir = dir_h[dist_mask][bond_mask]\n",
    "# plt.scatter(masked_dir[:,2], masked_dir[:,0])\n",
    "\n",
    "# dist_mask = dist_h < 1.6\n",
    "# bond_mask_temp = np.array(bond_list) == 3\n",
    "# bond_mask = bond_mask_temp[dist_mask]\n",
    "# masked_dir = dir_h[dist_mask][bond_mask]\n",
    "# plt.scatter(masked_dir[:,2], masked_dir[:,0])\n",
    "\n",
    "\n",
    "# plt.show()"
   ]
  },
  {
   "cell_type": "code",
   "execution_count": 379,
   "metadata": {},
   "outputs": [
    {
     "name": "stderr",
     "output_type": "stream",
     "text": [
      "/anaconda3/lib/python3.6/site-packages/ipykernel_launcher.py:1: RuntimeWarning: invalid value encountered in arccos\n",
      "  \"\"\"Entry point for launching an IPython kernel.\n"
     ]
    },
    {
     "data": {
      "image/png": "[encoded data removed]",
      "text/plain": [
       "<Figure size 432x288 with 1 Axes>"
      ]
     },
     "metadata": {},
     "output_type": "display_data"
    }
   ],
   "source": [
    "plt.scatter(np.arccos(cos2_arr)/np.pi*180, np.arccos(cos3_arr)/np.pi*180)\n",
    "plt.show()"
   ]
  },
  {
   "cell_type": "code",
   "execution_count": 380,
   "metadata": {},
   "outputs": [
    {
     "data": {
      "text/html": [
       "<div>\n",
       "<style scoped>\n",
       "    .dataframe tbody tr th:only-of-type {\n",
       "        vertical-align: middle;\n",
       "    }\n",
       "\n",
       "    .dataframe tbody tr th {\n",
       "        vertical-align: top;\n",
       "    }\n",
       "\n",
       "    .dataframe thead th {\n",
       "        text-align: right;\n",
       "    }\n",
       "</style>\n",
       "<table border=\"1\" class=\"dataframe\">\n",
       "  <thead>\n",
       "    <tr style=\"text-align: right;\">\n",
       "      <th></th>\n",
       "      <th>atom</th>\n",
       "      <th>atom_index</th>\n",
       "      <th>c_cos2</th>\n",
       "      <th>c_cos3</th>\n",
       "      <th>molecule_name</th>\n",
       "    </tr>\n",
       "  </thead>\n",
       "  <tbody>\n",
       "    <tr>\n",
       "      <th>0</th>\n",
       "      <td>C</td>\n",
       "      <td>0</td>\n",
       "      <td>-0.329899</td>\n",
       "      <td>-0.565950</td>\n",
       "      <td>dsgdb9nsd_010290</td>\n",
       "    </tr>\n",
       "    <tr>\n",
       "      <th>1</th>\n",
       "      <td>O</td>\n",
       "      <td>1</td>\n",
       "      <td>0.000000</td>\n",
       "      <td>0.000000</td>\n",
       "      <td>dsgdb9nsd_010290</td>\n",
       "    </tr>\n",
       "    <tr>\n",
       "      <th>2</th>\n",
       "      <td>C</td>\n",
       "      <td>2</td>\n",
       "      <td>-0.372732</td>\n",
       "      <td>-0.555976</td>\n",
       "      <td>dsgdb9nsd_010290</td>\n",
       "    </tr>\n",
       "    <tr>\n",
       "      <th>3</th>\n",
       "      <td>C</td>\n",
       "      <td>3</td>\n",
       "      <td>-0.999919</td>\n",
       "      <td>-0.295416</td>\n",
       "      <td>dsgdb9nsd_010290</td>\n",
       "    </tr>\n",
       "    <tr>\n",
       "      <th>4</th>\n",
       "      <td>N</td>\n",
       "      <td>4</td>\n",
       "      <td>0.000000</td>\n",
       "      <td>0.000000</td>\n",
       "      <td>dsgdb9nsd_010290</td>\n",
       "    </tr>\n",
       "    <tr>\n",
       "      <th>5</th>\n",
       "      <td>C</td>\n",
       "      <td>5</td>\n",
       "      <td>-0.589275</td>\n",
       "      <td>-0.997550</td>\n",
       "      <td>dsgdb9nsd_010290</td>\n",
       "    </tr>\n",
       "    <tr>\n",
       "      <th>6</th>\n",
       "      <td>N</td>\n",
       "      <td>6</td>\n",
       "      <td>0.000000</td>\n",
       "      <td>0.000000</td>\n",
       "      <td>dsgdb9nsd_010290</td>\n",
       "    </tr>\n",
       "    <tr>\n",
       "      <th>7</th>\n",
       "      <td>O</td>\n",
       "      <td>7</td>\n",
       "      <td>0.000000</td>\n",
       "      <td>0.000000</td>\n",
       "      <td>dsgdb9nsd_010290</td>\n",
       "    </tr>\n",
       "    <tr>\n",
       "      <th>8</th>\n",
       "      <td>H</td>\n",
       "      <td>8</td>\n",
       "      <td>0.000000</td>\n",
       "      <td>0.000000</td>\n",
       "      <td>dsgdb9nsd_010290</td>\n",
       "    </tr>\n",
       "    <tr>\n",
       "      <th>9</th>\n",
       "      <td>H</td>\n",
       "      <td>9</td>\n",
       "      <td>0.000000</td>\n",
       "      <td>0.000000</td>\n",
       "      <td>dsgdb9nsd_010290</td>\n",
       "    </tr>\n",
       "    <tr>\n",
       "      <th>10</th>\n",
       "      <td>H</td>\n",
       "      <td>10</td>\n",
       "      <td>0.000000</td>\n",
       "      <td>0.000000</td>\n",
       "      <td>dsgdb9nsd_010290</td>\n",
       "    </tr>\n",
       "    <tr>\n",
       "      <th>11</th>\n",
       "      <td>H</td>\n",
       "      <td>11</td>\n",
       "      <td>0.000000</td>\n",
       "      <td>0.000000</td>\n",
       "      <td>dsgdb9nsd_010290</td>\n",
       "    </tr>\n",
       "    <tr>\n",
       "      <th>12</th>\n",
       "      <td>H</td>\n",
       "      <td>12</td>\n",
       "      <td>0.000000</td>\n",
       "      <td>0.000000</td>\n",
       "      <td>dsgdb9nsd_010290</td>\n",
       "    </tr>\n",
       "    <tr>\n",
       "      <th>13</th>\n",
       "      <td>H</td>\n",
       "      <td>13</td>\n",
       "      <td>0.000000</td>\n",
       "      <td>0.000000</td>\n",
       "      <td>dsgdb9nsd_010290</td>\n",
       "    </tr>\n",
       "  </tbody>\n",
       "</table>\n",
       "</div>"
      ],
      "text/plain": [
       "   atom  atom_index    c_cos2    c_cos3     molecule_name\n",
       "0     C           0 -0.329899 -0.565950  dsgdb9nsd_010290\n",
       "1     O           1  0.000000  0.000000  dsgdb9nsd_010290\n",
       "2     C           2 -0.372732 -0.555976  dsgdb9nsd_010290\n",
       "3     C           3 -0.999919 -0.295416  dsgdb9nsd_010290\n",
       "4     N           4  0.000000  0.000000  dsgdb9nsd_010290\n",
       "5     C           5 -0.589275 -0.997550  dsgdb9nsd_010290\n",
       "6     N           6  0.000000  0.000000  dsgdb9nsd_010290\n",
       "7     O           7  0.000000  0.000000  dsgdb9nsd_010290\n",
       "8     H           8  0.000000  0.000000  dsgdb9nsd_010290\n",
       "9     H           9  0.000000  0.000000  dsgdb9nsd_010290\n",
       "10    H          10  0.000000  0.000000  dsgdb9nsd_010290\n",
       "11    H          11  0.000000  0.000000  dsgdb9nsd_010290\n",
       "12    H          12  0.000000  0.000000  dsgdb9nsd_010290\n",
       "13    H          13  0.000000  0.000000  dsgdb9nsd_010290"
      ]
     },
     "execution_count": 380,
     "metadata": {},
     "output_type": "execute_result"
    }
   ],
   "source": [
    "c_cos_cnt(df_structures_idx, mol)"
   ]
  },
  {
   "cell_type": "code",
   "execution_count": 382,
   "metadata": {},
   "outputs": [
    {
     "data": {
      "text/html": [
       "<div>\n",
       "<style scoped>\n",
       "    .dataframe tbody tr th:only-of-type {\n",
       "        vertical-align: middle;\n",
       "    }\n",
       "\n",
       "    .dataframe tbody tr th {\n",
       "        vertical-align: top;\n",
       "    }\n",
       "\n",
       "    .dataframe thead th {\n",
       "        text-align: right;\n",
       "    }\n",
       "</style>\n",
       "<table border=\"1\" class=\"dataframe\">\n",
       "  <thead>\n",
       "    <tr style=\"text-align: right;\">\n",
       "      <th></th>\n",
       "      <th>atom</th>\n",
       "      <th>atom_index</th>\n",
       "      <th>n_bond</th>\n",
       "      <th>molecule_name</th>\n",
       "    </tr>\n",
       "  </thead>\n",
       "  <tbody>\n",
       "    <tr>\n",
       "      <th>0</th>\n",
       "      <td>C</td>\n",
       "      <td>0</td>\n",
       "      <td>0.0</td>\n",
       "      <td>dsgdb9nsd_010290</td>\n",
       "    </tr>\n",
       "    <tr>\n",
       "      <th>1</th>\n",
       "      <td>O</td>\n",
       "      <td>1</td>\n",
       "      <td>0.0</td>\n",
       "      <td>dsgdb9nsd_010290</td>\n",
       "    </tr>\n",
       "    <tr>\n",
       "      <th>2</th>\n",
       "      <td>C</td>\n",
       "      <td>2</td>\n",
       "      <td>0.0</td>\n",
       "      <td>dsgdb9nsd_010290</td>\n",
       "    </tr>\n",
       "    <tr>\n",
       "      <th>3</th>\n",
       "      <td>C</td>\n",
       "      <td>3</td>\n",
       "      <td>0.0</td>\n",
       "      <td>dsgdb9nsd_010290</td>\n",
       "    </tr>\n",
       "    <tr>\n",
       "      <th>4</th>\n",
       "      <td>N</td>\n",
       "      <td>4</td>\n",
       "      <td>1.0</td>\n",
       "      <td>dsgdb9nsd_010290</td>\n",
       "    </tr>\n",
       "    <tr>\n",
       "      <th>5</th>\n",
       "      <td>C</td>\n",
       "      <td>5</td>\n",
       "      <td>0.0</td>\n",
       "      <td>dsgdb9nsd_010290</td>\n",
       "    </tr>\n",
       "    <tr>\n",
       "      <th>6</th>\n",
       "      <td>N</td>\n",
       "      <td>6</td>\n",
       "      <td>2.0</td>\n",
       "      <td>dsgdb9nsd_010290</td>\n",
       "    </tr>\n",
       "    <tr>\n",
       "      <th>7</th>\n",
       "      <td>O</td>\n",
       "      <td>7</td>\n",
       "      <td>0.0</td>\n",
       "      <td>dsgdb9nsd_010290</td>\n",
       "    </tr>\n",
       "    <tr>\n",
       "      <th>8</th>\n",
       "      <td>H</td>\n",
       "      <td>8</td>\n",
       "      <td>0.0</td>\n",
       "      <td>dsgdb9nsd_010290</td>\n",
       "    </tr>\n",
       "    <tr>\n",
       "      <th>9</th>\n",
       "      <td>H</td>\n",
       "      <td>9</td>\n",
       "      <td>0.0</td>\n",
       "      <td>dsgdb9nsd_010290</td>\n",
       "    </tr>\n",
       "    <tr>\n",
       "      <th>10</th>\n",
       "      <td>H</td>\n",
       "      <td>10</td>\n",
       "      <td>0.0</td>\n",
       "      <td>dsgdb9nsd_010290</td>\n",
       "    </tr>\n",
       "    <tr>\n",
       "      <th>11</th>\n",
       "      <td>H</td>\n",
       "      <td>11</td>\n",
       "      <td>0.0</td>\n",
       "      <td>dsgdb9nsd_010290</td>\n",
       "    </tr>\n",
       "    <tr>\n",
       "      <th>12</th>\n",
       "      <td>H</td>\n",
       "      <td>12</td>\n",
       "      <td>0.0</td>\n",
       "      <td>dsgdb9nsd_010290</td>\n",
       "    </tr>\n",
       "    <tr>\n",
       "      <th>13</th>\n",
       "      <td>H</td>\n",
       "      <td>13</td>\n",
       "      <td>0.0</td>\n",
       "      <td>dsgdb9nsd_010290</td>\n",
       "    </tr>\n",
       "  </tbody>\n",
       "</table>\n",
       "</div>"
      ],
      "text/plain": [
       "   atom  atom_index  n_bond     molecule_name\n",
       "0     C           0     0.0  dsgdb9nsd_010290\n",
       "1     O           1     0.0  dsgdb9nsd_010290\n",
       "2     C           2     0.0  dsgdb9nsd_010290\n",
       "3     C           3     0.0  dsgdb9nsd_010290\n",
       "4     N           4     1.0  dsgdb9nsd_010290\n",
       "5     C           5     0.0  dsgdb9nsd_010290\n",
       "6     N           6     2.0  dsgdb9nsd_010290\n",
       "7     O           7     0.0  dsgdb9nsd_010290\n",
       "8     H           8     0.0  dsgdb9nsd_010290\n",
       "9     H           9     0.0  dsgdb9nsd_010290\n",
       "10    H          10     0.0  dsgdb9nsd_010290\n",
       "11    H          11     0.0  dsgdb9nsd_010290\n",
       "12    H          12     0.0  dsgdb9nsd_010290\n",
       "13    H          13     0.0  dsgdb9nsd_010290"
      ]
     },
     "execution_count": 382,
     "metadata": {},
     "output_type": "execute_result"
    }
   ],
   "source": [
    " n_bond_cnt(df_structures_idx, mol)"
   ]
  },
  {
   "cell_type": "code",
   "execution_count": 390,
   "metadata": {},
   "outputs": [
    {
     "name": "stdout",
     "output_type": "stream",
     "text": [
      "945\n",
      "363\n",
      "508\n",
      "74\n",
      "0\n",
      "945\n"
     ]
    }
   ],
   "source": [
    "n_bonds = np.zeros(0)\n",
    "\n",
    "for mol in mols[:1000]:\n",
    "    mask = (df_structures_idx.loc[mol]['atom']  == 'N').values\n",
    "    nbond =  n_bond_cnt(df_structures_idx, mol)[mask]['n_bond'].values\n",
    "    n_bonds = np.hstack([n_bonds, nbond])\n",
    "    \n",
    "print(len(n_bonds))\n",
    "print(sum(n_bonds==1))\n",
    "print(sum(n_bonds==2))\n",
    "print(sum(n_bonds==3))\n",
    "print(sum(n_bonds==4))\n",
    "print(sum(n_bonds==1)+sum(n_bonds==2)+sum(n_bonds==3)+sum(n_bonds==4))"
   ]
  },
  {
   "cell_type": "code",
   "execution_count": 416,
   "metadata": {},
   "outputs": [
    {
     "name": "stderr",
     "output_type": "stream",
     "text": [
      "/anaconda3/lib/python3.6/site-packages/ipykernel_launcher.py:5: FutureWarning: Using a non-tuple sequence for multidimensional indexing is deprecated; use `arr[tuple(seq)]` instead of `arr[seq]`. In the future this will be interpreted as an array index, `arr[np.array(seq)]`, which will result either in an error or a different result.\n",
      "  \"\"\"\n"
     ]
    }
   ],
   "source": [
    "dist_arr = np.zeros(0)\n",
    "for mol in mols[:10000]:\n",
    "    dist = get_dist_matrix(df_structures_idx, mol)\n",
    "    mask = [df_structures_idx.loc[mol]['atom'].values == 'N']\n",
    "    n_dists = dist[mask]\n",
    "    if len(n_dists)>0:\n",
    "        dist_arr = np.hstack([dist_arr, np.sort(n_dists)[0][1:] ])"
   ]
  },
  {
   "cell_type": "code",
   "execution_count": 417,
   "metadata": {},
   "outputs": [
    {
     "name": "stderr",
     "output_type": "stream",
     "text": [
      "/anaconda3/lib/python3.6/site-packages/matplotlib/axes/_axes.py:6462: UserWarning: The 'normed' kwarg is deprecated, and has been replaced by the 'density' kwarg.\n",
      "  warnings.warn(\"The 'normed' kwarg is deprecated, and has been \"\n"
     ]
    },
    {
     "data": {
      "image/png": "[encoded data removed]",
      "text/plain": [
       "<Figure size 432x288 with 1 Axes>"
      ]
     },
     "metadata": {},
     "output_type": "display_data"
    }
   ],
   "source": [
    "masked = dist_arr[dist_arr < 2]\n",
    "sns.distplot(masked, kde=False, bins=100)\n",
    "plt.show()"
   ]
  },
  {
   "cell_type": "code",
   "execution_count": 415,
   "metadata": {},
   "outputs": [
    {
     "name": "stderr",
     "output_type": "stream",
     "text": [
      "/anaconda3/lib/python3.6/site-packages/matplotlib/axes/_axes.py:6462: UserWarning: The 'normed' kwarg is deprecated, and has been replaced by the 'density' kwarg.\n",
      "  warnings.warn(\"The 'normed' kwarg is deprecated, and has been \"\n"
     ]
    },
    {
     "data": {
      "image/png": "[encoded data removed]",
      "text/plain": [
       "<Figure size 432x288 with 1 Axes>"
      ]
     },
     "metadata": {},
     "output_type": "display_data"
    }
   ],
   "source": [
    "masked = dist_arr[dist_arr < 2]\n",
    "sns.distplot(masked, kde=False, bins=100)\n",
    "plt.show()"
   ]
  },
  {
   "cell_type": "code",
   "execution_count": null,
   "metadata": {},
   "outputs": [],
   "source": []
  }
 ],
 "metadata": {
  "kernelspec": {
   "display_name": "Python 3",
   "language": "python",
   "name": "python3"
  },
  "language_info": {
   "codemirror_mode": {
    "name": "ipython",
    "version": 3
   },
   "file_extension": ".py",
   "mimetype": "text/x-python",
   "name": "python",
   "nbconvert_exporter": "python",
   "pygments_lexer": "ipython3",
   "version": "3.6.8"
  }
 },
 "nbformat": 4,
 "nbformat_minor": 2
}
