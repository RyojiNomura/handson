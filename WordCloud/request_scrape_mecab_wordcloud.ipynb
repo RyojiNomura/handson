{
 "cells": [
  {
   "cell_type": "code",
   "execution_count": null,
   "metadata": {},
   "outputs": [],
   "source": [
    "import MeCab\n",
    "mecab = MeCab.Tagger ('-d /usr/local/lib/mecab/dic/mecab-ipadic-neologd')"
   ]
  },
  {
   "cell_type": "code",
   "execution_count": null,
   "metadata": {},
   "outputs": [],
   "source": [
    "from wordcloud import WordCloud"
   ]
  },
  {
   "cell_type": "code",
   "execution_count": null,
   "metadata": {},
   "outputs": [],
   "source": [
    "import matplotlib.pyplot as plt"
   ]
  },
  {
   "cell_type": "code",
   "execution_count": null,
   "metadata": {},
   "outputs": [],
   "source": [
    "import requests\n",
    "from bs4 import BeautifulSoup as bs\n",
    "import pandas as pd\n",
    "import re"
   ]
  },
  {
   "cell_type": "code",
   "execution_count": null,
   "metadata": {},
   "outputs": [],
   "source": [
    "DATAFOLDER = '../../data_handson/WordCloud/'"
   ]
  },
  {
   "cell_type": "code",
   "execution_count": null,
   "metadata": {},
   "outputs": [],
   "source": [
    "path = DATAFOLDER + \"urls_au_claim.txt\"\n",
    "with open(path) as f:\n",
    "    urls = [s.strip() for s in f.readlines()]"
   ]
  },
  {
   "cell_type": "code",
   "execution_count": null,
   "metadata": {},
   "outputs": [],
   "source": [
    "ids = []\n",
    "timestamps = []\n",
    "names = []\n",
    "messages = []\n",
    "titles = []\n",
    "\n",
    "for url in urls:\n",
    "    text = requests.get(url).text\n",
    "    soup = bs(text, \"html5lib\")\n",
    "\n",
    "    title_tag =  soup.find_all(\"h1\", {\"class\":\"title\"})\n",
    "    if len(title_tag) > 0:\n",
    "        title = title_tag[0].text.rstrip('\\n')\n",
    "    else:\n",
    "        title = '-'\n",
    "        \n",
    "    posts =soup.find_all('div', {'class':\"post\"})\n",
    "    num_post = len(posts)\n",
    "    if num_post > 0:\n",
    "        for i in range(num_post):\n",
    "            ids.append(int(posts[i]['data-id']))\n",
    "            names.append(posts[i].find('span', {'class':'name'}).text)\n",
    "            timestamps.append(posts[i].find('span', {'class':'date'}).text)\n",
    "            messages.append(posts[i].find_all(('div', {'class':'message'}))[1].text)\n",
    "            titles.append(title)\n"
   ]
  },
  {
   "cell_type": "code",
   "execution_count": null,
   "metadata": {},
   "outputs": [],
   "source": [
    "df = pd.DataFrame([ids,\n",
    "                   timestamps,\n",
    "                   names,\n",
    "                   messages,\n",
    "                  titles]).T\n",
    "df.columns = [\"id\", 'timestamp','name','message','thread']"
   ]
  },
  {
   "cell_type": "code",
   "execution_count": null,
   "metadata": {},
   "outputs": [],
   "source": [
    "df['thread'].value_counts()"
   ]
  },
  {
   "cell_type": "code",
   "execution_count": null,
   "metadata": {
    "scrolled": true
   },
   "outputs": [],
   "source": [
    "df.to_csv(DATAFOLDER + '{}.csv'.format(titles[0]), index=False)"
   ]
  },
  {
   "cell_type": "code",
   "execution_count": null,
   "metadata": {},
   "outputs": [],
   "source": [
    "def div_text(text):\n",
    "    pattern = '(http|https)://(([\\w-]+\\.?)+/)+'\n",
    "    text = re.sub(pattern, '', text)\n",
    "    mecab.parse('')\n",
    "    node = mecab.parseToNode(text)\n",
    "    output = []\n",
    "    while node:\n",
    "            if node.surface != \"\": \n",
    "                word_type = node.feature.split(\",\")[0]\n",
    "                if word_type in [\"形容詞\", \"動詞\",\"名詞\"]:\n",
    "#                 if word_type in [\"形容詞\", \"動詞\",\"名詞\", \"副詞\"]:\n",
    "                    output.append(node.surface)\n",
    "            node = node.next\n",
    "            if node is None:\n",
    "                break\n",
    "    return output"
   ]
  },
  {
   "cell_type": "code",
   "execution_count": null,
   "metadata": {},
   "outputs": [],
   "source": [
    "texts = df['message'].apply(div_text)\n",
    "word_list = []\n",
    "for i in range(len(texts)):\n",
    "    word_list.extend(texts[i])\n",
    "words = ''\n",
    "del_list = [ 'http://','http','https', 'www', 'rio', '5ch', '.net', 'test', 'read', 'cgi', 'yuu', 'se','無断転載禁止','禁止','無断転載']\n",
    "for w in word_list:\n",
    "    if w not in del_list:\n",
    "        words += w + ' '"
   ]
  },
  {
   "cell_type": "code",
   "execution_count": null,
   "metadata": {},
   "outputs": [],
   "source": [
    "def show_wordcloud(words):\n",
    "    \n",
    "    font_path=\"NotoSansCJKjp-Regular.otf\"\n",
    "\n",
    "    # ストップワードの設定\n",
    "    stop_words = [ 'てる','いる','なる','れる','する','ある','こと','さん',' それ','もん','みたい',\\\n",
    "                  'よう','これ','ない','なり','しろ','なれ','そう','なん','もう','なら','やる','ため','られ',\\\n",
    "                 '思う','まだ','どんどん','それ','られる','なっ','思っ',]\n",
    "\n",
    "    wordcloud = WordCloud(background_color=\"white\",\n",
    "                          font_path=font_path, \n",
    "                          width=900,\n",
    "                          height=500, \n",
    "                          stopwords=set(stop_words)).generate(words)\n",
    "\n",
    "    plt.figure(figsize=(15,12))\n",
    "    plt.imshow(wordcloud)\n",
    "    plt.axis(\"off\")\n",
    "    plt.savefig(DATAFOLDER + '{}.png'.format(titles[0]))\n",
    "    plt.show()"
   ]
  },
  {
   "cell_type": "code",
   "execution_count": null,
   "metadata": {},
   "outputs": [],
   "source": [
    "show_wordcloud(words)"
   ]
  },
  {
   "cell_type": "code",
   "execution_count": null,
   "metadata": {},
   "outputs": [],
   "source": []
  }
 ],
 "metadata": {
  "kernelspec": {
   "display_name": "Python 3",
   "language": "python",
   "name": "python3"
  },
  "language_info": {
   "codemirror_mode": {
    "name": "ipython",
    "version": 3
   },
   "file_extension": ".py",
   "mimetype": "text/x-python",
   "name": "python",
   "nbconvert_exporter": "python",
   "pygments_lexer": "ipython3",
   "version": "3.6.8"
  }
 },
 "nbformat": 4,
 "nbformat_minor": 2
}
