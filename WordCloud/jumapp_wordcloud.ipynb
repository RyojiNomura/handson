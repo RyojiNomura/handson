{
 "cells": [
  {
   "cell_type": "code",
   "execution_count": null,
   "metadata": {},
   "outputs": [],
   "source": [
    "import MeCab\n",
    "mecab = MeCab.Tagger ('-d /usr/local/lib/mecab/dic/mecab-ipadic-neologd')"
   ]
  },
  {
   "cell_type": "code",
   "execution_count": null,
   "metadata": {},
   "outputs": [],
   "source": [
    "from pyknp import Jumanpp"
   ]
  },
  {
   "cell_type": "code",
   "execution_count": null,
   "metadata": {},
   "outputs": [],
   "source": [
    "from wordcloud import WordCloud"
   ]
  },
  {
   "cell_type": "code",
   "execution_count": null,
   "metadata": {},
   "outputs": [],
   "source": [
    "import matplotlib.pyplot as plt"
   ]
  },
  {
   "cell_type": "code",
   "execution_count": null,
   "metadata": {},
   "outputs": [],
   "source": [
    "import requests\n",
    "from bs4 import BeautifulSoup as bs\n",
    "import pandas as pd\n",
    "import re"
   ]
  },
  {
   "cell_type": "code",
   "execution_count": null,
   "metadata": {},
   "outputs": [],
   "source": [
    "DATAFOLDER = '../../data_handson/WordCloud/'"
   ]
  },
  {
   "cell_type": "code",
   "execution_count": null,
   "metadata": {},
   "outputs": [],
   "source": [
    "file = '【au】 ａｕ苦情あれこれ Part.16 【KDDI】.csv'\n",
    "path = DATAFOLDER + file\n",
    "title = file.split('.')[0]\n",
    "df = pd.read_csv(path)"
   ]
  },
  {
   "cell_type": "code",
   "execution_count": null,
   "metadata": {},
   "outputs": [],
   "source": [
    "df['thread'].value_counts()"
   ]
  },
  {
   "cell_type": "code",
   "execution_count": null,
   "metadata": {},
   "outputs": [],
   "source": [
    "test = df['message'][0]\n",
    "test"
   ]
  },
  {
   "cell_type": "code",
   "execution_count": null,
   "metadata": {},
   "outputs": [],
   "source": [
    "content = test\n",
    "pattern = '(http|https)://(([\\w-]+\\.?)+/)+'\n",
    "sub_test = re.sub(pattern, '', content)\n",
    "sub_test = re.sub(' ?', '', sub_test)\n",
    "sub_test"
   ]
  },
  {
   "cell_type": "code",
   "execution_count": null,
   "metadata": {},
   "outputs": [],
   "source": [
    "# result = re.finditer(pattern, content,  re.MULTILINE)\n",
    "# for m in result:\n",
    "#     print(m.group())"
   ]
  },
  {
   "cell_type": "code",
   "execution_count": null,
   "metadata": {},
   "outputs": [],
   "source": [
    "# jumanpp = Jumanpp()\n",
    "# text = sub_test\n",
    "# result = jumanpp.analysis(text)\n",
    "# word = ''\n",
    "# result_list = result.mrph_list()\n",
    "# for mrph in result_list:\n",
    "#     if mrph.hinsi == '名詞':\n",
    "#         print(mrph.midasi)\n",
    "#     elif mrph.hinsi == '接尾辞':\n",
    "#         print(prev_midasi + mrph.midasi)\n",
    "#     prev_midasi =  mrph.midasi"
   ]
  },
  {
   "cell_type": "code",
   "execution_count": null,
   "metadata": {},
   "outputs": [],
   "source": [
    "def del_url(text):\n",
    "    pattern = '(http|https)://(([\\w-]+\\.?)+/)+'\n",
    "    text = re.sub(pattern, '', text)\n",
    "    text = re.sub(' ?', '', text)\n",
    "    return text"
   ]
  },
  {
   "cell_type": "code",
   "execution_count": null,
   "metadata": {},
   "outputs": [],
   "source": [
    "def div_text(text):\n",
    "    jumanpp = Jumanpp()\n",
    "    result = jumanpp.analysis(text) \n",
    "    phrases = ''\n",
    "    prev_midasi = ''\n",
    "    result_list = result.mrph_list()\n",
    "    for mrph in result_list:\n",
    "        if mrph.hinsi == '名詞':\n",
    "            phrases += mrph.midasi + ' '\n",
    "        elif mrph.hinsi == '接尾辞':\n",
    "            phrases += prev_midasi + mrph.midasi + ' '\n",
    "        prev_midasi =  mrph.midasi\n",
    "    return phrases"
   ]
  },
  {
   "cell_type": "code",
   "execution_count": null,
   "metadata": {},
   "outputs": [],
   "source": [
    "texts = df['message'].apply(del_url)"
   ]
  },
  {
   "cell_type": "code",
   "execution_count": null,
   "metadata": {},
   "outputs": [],
   "source": [
    "num_texts = len(texts)\n",
    "words = ''\n",
    "for text in texts:\n",
    "    divided_words = div_text(text)\n",
    "    words += divided_words"
   ]
  },
  {
   "cell_type": "code",
   "execution_count": null,
   "metadata": {},
   "outputs": [],
   "source": [
    "def show_wordcloud(words):\n",
    "    \n",
    "    font_path=\"NotoSansCJKjp-Regular.otf\"\n",
    "\n",
    "    # ストップワードの設定\n",
    "    stop_words = []\n",
    "#     stop_words = [ 'てる','いる','なる','れる','する','ある','こと','さん',' それ','もん','みたい',\\\n",
    "#                   'よう','これ','ない','なり','しろ','なれ','そう','なん','もう','なら','やる','ため','られ',\\\n",
    "#                  '思う','まだ','どんどん','それ','られる','なっ','思っ',]\n",
    "\n",
    "    wordcloud = WordCloud(background_color=\"white\",\n",
    "                          font_path=font_path, \n",
    "                          width=900,\n",
    "                          height=500, \n",
    "                          stopwords=set(stop_words)).generate(words)\n",
    "\n",
    "    plt.figure(figsize=(15,12))\n",
    "    plt.imshow(wordcloud)\n",
    "    plt.axis(\"off\")\n",
    "    plt.savefig(DATAFOLDER + '{}.png'.format(title))\n",
    "    plt.show()"
   ]
  },
  {
   "cell_type": "code",
   "execution_count": null,
   "metadata": {},
   "outputs": [],
   "source": [
    "show_wordcloud(words)"
   ]
  },
  {
   "cell_type": "code",
   "execution_count": null,
   "metadata": {},
   "outputs": [],
   "source": []
  },
  {
   "cell_type": "code",
   "execution_count": null,
   "metadata": {},
   "outputs": [],
   "source": []
  }
 ],
 "metadata": {
  "kernelspec": {
   "display_name": "Python 3",
   "language": "python",
   "name": "python3"
  },
  "language_info": {
   "codemirror_mode": {
    "name": "ipython",
    "version": 3
   },
   "file_extension": ".py",
   "mimetype": "text/x-python",
   "name": "python",
   "nbconvert_exporter": "python",
   "pygments_lexer": "ipython3",
   "version": "3.6.8"
  }
 },
 "nbformat": 4,
 "nbformat_minor": 2
}
