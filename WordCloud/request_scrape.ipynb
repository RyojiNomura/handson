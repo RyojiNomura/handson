{
 "cells": [
  {
   "cell_type": "code",
   "execution_count": null,
   "metadata": {},
   "outputs": [],
   "source": [
    "import requests\n",
    "from bs4 import BeautifulSoup as bs\n",
    "import pandas as pd"
   ]
  },
  {
   "cell_type": "code",
   "execution_count": null,
   "metadata": {
    "scrolled": true
   },
   "outputs": [],
   "source": [
    "url = \"\"\n",
    "text = requests.get(url).text"
   ]
  },
  {
   "cell_type": "code",
   "execution_count": null,
   "metadata": {},
   "outputs": [],
   "source": [
    "ids = []\n",
    "timestamps = []\n",
    "names = []\n",
    "messages = []\n",
    "\n",
    "soup = bs(text, \"html5lib\")\n",
    "posts =soup.find_all('div', {'class':\"post\"})\n",
    "num_post = len(posts)\n",
    "\n",
    "if num_post > 0:\n",
    "    for i in range(num_post):\n",
    "        ids.append(int(posts[i]['data-id']))\n",
    "        names.append(posts[i].find('span', {'class':'name'}).text)\n",
    "        timestamps.append(posts[i].find('span', {'class':'date'}).text)\n",
    "        messages.append(posts[i].find_all(('div', {'class':'message'}))[1].text)\n",
    "\n",
    "#     stat = soup.find_all(\"div\",{ \"class\":\"pagestats\"})\n",
    "#     if len(stat) > 0:\n",
    "#         stat_txt = stat[0].text\n",
    "#         num_comment = int(stat_txt.split(\"コ\")[0])\n",
    "#         size = int(stat_txt.split(\"ト\")[1].split('K')[0])\n",
    "#         print(num_comment)\n",
    "#         print(size)\n",
    "title_tag =  soup.find_all(\"h1\", {\"class\":\"title\"})\n",
    "if len(title_tag) > 0:\n",
    "    title = title_tag[0].text.rstrip('\\n')"
   ]
  },
  {
   "cell_type": "code",
   "execution_count": null,
   "metadata": {},
   "outputs": [],
   "source": [
    "df = pd.DataFrame([ids,\n",
    "                   timestamps,\n",
    "                   names,\n",
    "                   messages]).T\n",
    "df.columns = [\"id\", 'timestamp','name','message']"
   ]
  },
  {
   "cell_type": "code",
   "execution_count": null,
   "metadata": {
    "scrolled": true
   },
   "outputs": [],
   "source": [
    "df.to_csv('{}.csv'.format(title), index=False)"
   ]
  },
  {
   "cell_type": "code",
   "execution_count": null,
   "metadata": {},
   "outputs": [],
   "source": []
  }
 ],
 "metadata": {
  "kernelspec": {
   "display_name": "Python 3",
   "language": "python",
   "name": "python3"
  },
  "language_info": {
   "codemirror_mode": {
    "name": "ipython",
    "version": 3
   },
   "file_extension": ".py",
   "mimetype": "text/x-python",
   "name": "python",
   "nbconvert_exporter": "python",
   "pygments_lexer": "ipython3",
   "version": "3.6.5"
  }
 },
 "nbformat": 4,
 "nbformat_minor": 2
}
